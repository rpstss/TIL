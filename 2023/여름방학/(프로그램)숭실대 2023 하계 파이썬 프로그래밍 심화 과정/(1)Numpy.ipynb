{
 "cells": [
  {
   "cell_type": "markdown",
   "id": "e890e09e-0fe0-49e2-b8db-02550663158a",
   "metadata": {},
   "source": [
    "## **Numpy**\n",
    "---"
   ]
  },
  {
   "cell_type": "markdown",
   "id": "89602247-09d3-4c34-b9bd-c2ca6acf0723",
   "metadata": {},
   "source": [
    "#### **배열 생성**"
   ]
  },
  {
   "cell_type": "code",
   "execution_count": 5,
   "id": "38d6d234-a24c-44f7-92e5-3b3633a843e6",
   "metadata": {},
   "outputs": [
    {
     "data": {
      "text/plain": [
       "array([1, 2, 3, 4, 5])"
      ]
     },
     "execution_count": 5,
     "metadata": {},
     "output_type": "execute_result"
    }
   ],
   "source": [
    "import numpy as np\n",
    "\n",
    "# 리스트를 넘파이\n",
    "np.array([1,2,3,4,5])"
   ]
  },
  {
   "cell_type": "code",
   "execution_count": 4,
   "id": "c1f36fa5-4eb6-4758-a63e-51b6b64b7be1",
   "metadata": {},
   "outputs": [
    {
     "data": {
      "text/plain": [
       "numpy.ndarray"
      ]
     },
     "execution_count": 4,
     "metadata": {},
     "output_type": "execute_result"
    }
   ],
   "source": [
    "# 타입 확인\n",
    "type(np.array([1,2,3,4]))"
   ]
  },
  {
   "cell_type": "code",
   "execution_count": 6,
   "id": "9ffe598f-0a26-464b-8737-42b33f337a4b",
   "metadata": {},
   "outputs": [
    {
     "data": {
      "text/plain": [
       "array([1. , 2. , 3. , 4. , 5.5])"
      ]
     },
     "execution_count": 6,
     "metadata": {},
     "output_type": "execute_result"
    }
   ],
   "source": [
    "# 상위 타입으로 변환해줌\n",
    "np.array([1,2,3,4,5.5])"
   ]
  },
  {
   "cell_type": "code",
   "execution_count": 8,
   "id": "7d1c803f-26f9-4a24-94d4-6081bba155b8",
   "metadata": {},
   "outputs": [
    {
     "data": {
      "text/plain": [
       "array([1, 2, 4, 5])"
      ]
     },
     "execution_count": 8,
     "metadata": {},
     "output_type": "execute_result"
    }
   ],
   "source": [
    "# 데이터 타입을 지정\n",
    "np.array([1,2,4.5,5], dtype='int')\n",
    "\n",
    "# 타입 지정이 불가능한 경우, 오류가 뜸"
   ]
  },
  {
   "cell_type": "code",
   "execution_count": 10,
   "id": "23133bce-2a13-4f97-b597-68506d8daa4d",
   "metadata": {},
   "outputs": [
    {
     "data": {
      "text/plain": [
       "array([[ 80,  90, 100],\n",
       "       [ 50,  40, 100],\n",
       "       [ 70,  80,  90]])"
      ]
     },
     "execution_count": 10,
     "metadata": {},
     "output_type": "execute_result"
    }
   ],
   "source": [
    "# 2차원 배열\n",
    "np.array([[80,90,100],[50,40,100],[70,80,90]])\n",
    "\n",
    "# 행렬의 크기가 맞지 않다면, 오류가 뜸"
   ]
  },
  {
   "cell_type": "code",
   "execution_count": 11,
   "id": "dd6a66b4-74c0-4caa-8215-d2fb439e1f6d",
   "metadata": {},
   "outputs": [
    {
     "data": {
      "text/plain": [
       "array([[[1, 2, 3],\n",
       "        [4, 5, 6],\n",
       "        [7, 8, 9]],\n",
       "\n",
       "       [[1, 2, 3],\n",
       "        [4, 5, 6],\n",
       "        [7, 8, 9]],\n",
       "\n",
       "       [[1, 2, 3],\n",
       "        [4, 5, 6],\n",
       "        [7, 8, 9]]])"
      ]
     },
     "execution_count": 11,
     "metadata": {},
     "output_type": "execute_result"
    }
   ],
   "source": [
    "# 3차원 배열\n",
    "np.array([[[1,2,3], [4,5,6], [7,8,9]], \n",
    "               [[1,2,3], [4,5,6], [7,8,9]], \n",
    "               [[1,2,3], [4,5,6], [7,8,9]]])"
   ]
  },
  {
   "cell_type": "markdown",
   "id": "54a32d14-7d37-48c3-8cd4-b575c2fa5f5e",
   "metadata": {},
   "source": [
    "#### **배열 정보 확인**"
   ]
  },
  {
   "cell_type": "code",
   "execution_count": 12,
   "id": "8503d413-5c91-4526-a0e0-d7b73e48729f",
   "metadata": {},
   "outputs": [],
   "source": [
    "a = np.array([[80,90,100],[50,40,100],[70,80,90]])"
   ]
  },
  {
   "cell_type": "code",
   "execution_count": 16,
   "id": "0678be62-6436-4a1a-b71a-2b7d61c1082c",
   "metadata": {},
   "outputs": [
    {
     "data": {
      "text/plain": [
       "(3, 3)"
      ]
     },
     "execution_count": 16,
     "metadata": {},
     "output_type": "execute_result"
    }
   ],
   "source": [
    "# shape (배열의 모양/ 행렬)\n",
    "a.shape"
   ]
  },
  {
   "cell_type": "code",
   "execution_count": 14,
   "id": "e34b1ac7-fd0f-43d1-872f-24e55afac3f8",
   "metadata": {},
   "outputs": [
    {
     "data": {
      "text/plain": [
       "dtype('int32')"
      ]
     },
     "execution_count": 14,
     "metadata": {},
     "output_type": "execute_result"
    }
   ],
   "source": [
    "# dtype( data type 확인)\n",
    "a.dtype"
   ]
  },
  {
   "cell_type": "code",
   "execution_count": 15,
   "id": "b4605f8d-5503-41b3-9d1f-bd492260b1e5",
   "metadata": {},
   "outputs": [
    {
     "data": {
      "text/plain": [
       "2"
      ]
     },
     "execution_count": 15,
     "metadata": {},
     "output_type": "execute_result"
    }
   ],
   "source": [
    "# ndim (차원 확인)\n",
    "a.ndim"
   ]
  },
  {
   "cell_type": "code",
   "execution_count": 17,
   "id": "5a2d22ec-e026-4670-ba31-1bcf1f125c7c",
   "metadata": {},
   "outputs": [
    {
     "data": {
      "text/plain": [
       "9"
      ]
     },
     "execution_count": 17,
     "metadata": {},
     "output_type": "execute_result"
    }
   ],
   "source": [
    "# size (배열의 총 원소 개수 확인)\n",
    "a.size"
   ]
  },
  {
   "cell_type": "markdown",
   "id": "4cae57b9-a624-4d7d-bfbd-02b16e496f47",
   "metadata": {},
   "source": [
    "#### **내장으로 있는 배열 생성**"
   ]
  },
  {
   "cell_type": "code",
   "execution_count": 22,
   "id": "effd78f1-15d7-4bd7-bcb9-4493a8d5a6da",
   "metadata": {},
   "outputs": [
    {
     "data": {
      "text/plain": [
       "array([0., 0., 0., 0., 0., 0., 0., 0., 0., 0.])"
      ]
     },
     "execution_count": 22,
     "metadata": {},
     "output_type": "execute_result"
    }
   ],
   "source": [
    "np.zeros((10))"
   ]
  },
  {
   "cell_type": "code",
   "execution_count": 20,
   "id": "8598cc90-5419-4a36-9d86-ef2c67e887f9",
   "metadata": {},
   "outputs": [
    {
     "data": {
      "text/plain": [
       "array([[1, 1],\n",
       "       [1, 1],\n",
       "       [1, 1]])"
      ]
     },
     "execution_count": 20,
     "metadata": {},
     "output_type": "execute_result"
    }
   ],
   "source": [
    "np.ones((3,2), dtype='int')"
   ]
  },
  {
   "cell_type": "code",
   "execution_count": 23,
   "id": "efef6882-31a0-4270-91c4-49aac8b7f25e",
   "metadata": {},
   "outputs": [
    {
     "data": {
      "text/plain": [
       "array([[3.14, 3.14, 3.14, 3.14, 3.14],\n",
       "       [3.14, 3.14, 3.14, 3.14, 3.14],\n",
       "       [3.14, 3.14, 3.14, 3.14, 3.14]])"
      ]
     },
     "execution_count": 23,
     "metadata": {},
     "output_type": "execute_result"
    }
   ],
   "source": [
    "np.full((3,5), 3.14) # 3.14로 채우기"
   ]
  },
  {
   "cell_type": "code",
   "execution_count": 24,
   "id": "e5cee998-ad7e-4f67-9f36-4a76b4c9d99c",
   "metadata": {},
   "outputs": [
    {
     "data": {
      "text/plain": [
       "array([[1., 0., 0.],\n",
       "       [0., 1., 0.],\n",
       "       [0., 0., 1.]])"
      ]
     },
     "execution_count": 24,
     "metadata": {},
     "output_type": "execute_result"
    }
   ],
   "source": [
    "np.eye(3)  # 단위행렬"
   ]
  },
  {
   "cell_type": "code",
   "execution_count": 26,
   "id": "bdf127b0-1e6e-4000-952a-2d3f9a31a76a",
   "metadata": {},
   "outputs": [
    {
     "data": {
      "text/plain": [
       "array([0, 2, 4, 6, 8])"
      ]
     },
     "execution_count": 26,
     "metadata": {},
     "output_type": "execute_result"
    }
   ],
   "source": [
    "# 넘파이 0~9 배열 만들기\n",
    "np.arange(0, 10,2)"
   ]
  },
  {
   "cell_type": "code",
   "execution_count": 27,
   "id": "c3315709-4e78-4b19-93f8-6266ac1c5b62",
   "metadata": {},
   "outputs": [
    {
     "data": {
      "text/plain": [
       "array([0.  , 0.25, 0.5 , 0.75, 1.  ])"
      ]
     },
     "execution_count": 27,
     "metadata": {},
     "output_type": "execute_result"
    }
   ],
   "source": [
    "# 0~1까지 5개의 간격으로\n",
    "np.linspace(0, 1, 5)"
   ]
  },
  {
   "cell_type": "code",
   "execution_count": 29,
   "id": "4d1ebace-4c4f-41ca-aee0-7176deb4daee",
   "metadata": {},
   "outputs": [
    {
     "data": {
      "text/plain": [
       "array([0.16526479, 0.35111503, 0.24226584, 0.88176712, 0.51829347,\n",
       "       0.71464139, 0.41294333, 0.34375431, 0.51585804, 0.81999194])"
      ]
     },
     "execution_count": 29,
     "metadata": {},
     "output_type": "execute_result"
    }
   ],
   "source": [
    "# 0~1사이의 배열 무작위 값을 생성\n",
    "np.random.random(10) "
   ]
  },
  {
   "cell_type": "code",
   "execution_count": 30,
   "id": "22b7a65a-d7dd-4688-9ecb-3dacb262d31b",
   "metadata": {},
   "outputs": [
    {
     "data": {
      "text/plain": [
       "array([[ 7, 21, 14,  2, 30,  4],\n",
       "       [ 7, 36, 36, 14, 20, 16],\n",
       "       [19, 20, 26,  7, 20, 30],\n",
       "       [22, 15, 10,  7,  3,  6],\n",
       "       [ 2,  9,  4, 34, 29, 13]])"
      ]
     },
     "execution_count": 30,
     "metadata": {},
     "output_type": "execute_result"
    }
   ],
   "source": [
    "# 1~37 무작위 값 생성\n",
    "np.random.randint(1, 37, (5, 6))"
   ]
  },
  {
   "cell_type": "code",
   "execution_count": 33,
   "id": "e96779d2-7229-4250-9ee4-1536d99279ff",
   "metadata": {},
   "outputs": [
    {
     "data": {
      "text/plain": [
       "array([2.87473319, 3.14476359])"
      ]
     },
     "execution_count": 33,
     "metadata": {},
     "output_type": "execute_result"
    }
   ],
   "source": [
    "# 표준정규분포 : m=0, std=1\n",
    "np.random.normal((3,3))"
   ]
  },
  {
   "cell_type": "code",
   "execution_count": 35,
   "id": "1f5107a8-d6ca-4620-9bf0-866ea4f33275",
   "metadata": {},
   "outputs": [
    {
     "data": {
      "text/plain": [
       "array([11441.5791928 , 11135.79605248,  9120.30840204])"
      ]
     },
     "execution_count": 35,
     "metadata": {},
     "output_type": "execute_result"
    }
   ],
   "source": [
    "np.random.normal(10000, 2000, 3)"
   ]
  },
  {
   "cell_type": "markdown",
   "id": "8d80a293-c67b-4f46-b364-9e2663bf3512",
   "metadata": {
    "tags": []
   },
   "source": [
    "#### **배열 다루기**"
   ]
  },
  {
   "cell_type": "code",
   "execution_count": 36,
   "id": "bca784a0-8dca-4c8a-aedd-700499999658",
   "metadata": {},
   "outputs": [],
   "source": [
    "a1 = np.array([1,2,3,4,5])\n",
    "a2 = np.array([[1,2,3], [4,5,6], [7,8,9]])"
   ]
  },
  {
   "cell_type": "code",
   "execution_count": 37,
   "id": "c7082b53-4128-474e-85b6-2d03b955ba9f",
   "metadata": {},
   "outputs": [
    {
     "name": "stdout",
     "output_type": "stream",
     "text": [
      "80\n",
      "40\n"
     ]
    }
   ],
   "source": [
    "print(a[0][0])\n",
    "print(a[1][1])"
   ]
  },
  {
   "cell_type": "code",
   "execution_count": 38,
   "id": "1ea2ab62-56a9-403d-9d5d-cf2f2c64762f",
   "metadata": {},
   "outputs": [
    {
     "name": "stdout",
     "output_type": "stream",
     "text": [
      "[1 2 3 4 5]\n",
      "[1 2 3]\n"
     ]
    }
   ],
   "source": [
    "# 슬라이싱\n",
    "print(a1)\n",
    "print(a1[0:3])"
   ]
  },
  {
   "cell_type": "code",
   "execution_count": 40,
   "id": "73aebcd3-9fc1-48e8-bfd8-7143420d6cd3",
   "metadata": {},
   "outputs": [
    {
     "name": "stdout",
     "output_type": "stream",
     "text": [
      "[[1 2 3]\n",
      " [4 5 6]\n",
      " [7 8 9]]\n",
      "[[1 2 3]\n",
      " [4 5 6]\n",
      " [7 8 9]]\n",
      "[[1 2]\n",
      " [4 5]]\n",
      "[[1 3]\n",
      " [7 9]]\n",
      "[[9 8 7]\n",
      " [6 5 4]\n",
      " [3 2 1]]\n"
     ]
    }
   ],
   "source": [
    "print(a2)\n",
    "print(a2[:])\n",
    "print(a2[:2, :2])\n",
    "print(a2[::2, ::2])\n",
    "print(a2[::-1, ::-1])"
   ]
  },
  {
   "cell_type": "markdown",
   "id": "72d56731-b429-44c7-8df9-ce72ddc832aa",
   "metadata": {},
   "source": [
    "#### **배열 요소 수정**"
   ]
  },
  {
   "cell_type": "code",
   "execution_count": 41,
   "id": "4ea70c1e-89c1-4a17-a219-6d4086172d55",
   "metadata": {},
   "outputs": [
    {
     "name": "stdout",
     "output_type": "stream",
     "text": [
      "[10  2  3  4  5]\n",
      "[5 5 5 4 5]\n",
      "[5 7 5 7 7]\n",
      "[0 2 0 2 2]\n"
     ]
    }
   ],
   "source": [
    "# 인덱싱을 이용해서 수정\n",
    "a1 = np.array([1,2,3,4,5])\n",
    "a1[0] = 10\n",
    "print(a1)\n",
    "# 슬라이싱을 이용해서 수정\n",
    "a1[:3] = 5\n",
    "print(a1)\n",
    "# 인덱스 배열을 만들어서 수정\n",
    "idxs = np.array([1,3,4])\n",
    "a1[idxs] = 7\n",
    "print(a1)\n",
    "# 배열과 스칼라 값을 연산 할 수 있음\n",
    "a1 -= 5\n",
    "print(a1)"
   ]
  },
  {
   "cell_type": "markdown",
   "id": "5c34b1e2-68b7-4865-90cf-18b5c5b0777d",
   "metadata": {},
   "source": [
    "#### **배열 복사**"
   ]
  },
  {
   "cell_type": "code",
   "execution_count": 42,
   "id": "59b15e8e-650d-40b4-be30-ed6269e5e5a5",
   "metadata": {},
   "outputs": [
    {
     "name": "stdout",
     "output_type": "stream",
     "text": [
      "[[10  2  3]\n",
      " [ 4  5  6]]\n",
      "[[1 2 3]\n",
      " [4 5 6]]\n"
     ]
    }
   ],
   "source": [
    "# 넘파이에서는 copy는 깊은 복사\n",
    "a = np.array([[1,2,3],[4,5,6]])\n",
    "b = a.copy()\n",
    "a[0,0] = 10\n",
    "print(a)\n",
    "print(b)"
   ]
  },
  {
   "cell_type": "code",
   "execution_count": 43,
   "id": "51d094d3-74e5-4a3f-94f0-a392825cf4d5",
   "metadata": {},
   "outputs": [
    {
     "name": "stdout",
     "output_type": "stream",
     "text": [
      "[[10  2  3]\n",
      " [ 4  5  6]]\n",
      "[[10  2  3]\n",
      " [ 4  5  6]]\n"
     ]
    }
   ],
   "source": [
    "# 얕은 복사 view\n",
    "a = np.array([[1,2,3],[4,5,6]])\n",
    "b = a.view()\n",
    "a[0,0] = 10\n",
    "print(a)\n",
    "print(b)"
   ]
  },
  {
   "cell_type": "markdown",
   "id": "45660f3a-e193-4e09-9a17-588c73780b76",
   "metadata": {},
   "source": [
    "#### **배열 전치**"
   ]
  },
  {
   "cell_type": "code",
   "execution_count": 44,
   "id": "e249e8e2-30c1-4fde-9c38-a29bb2922239",
   "metadata": {},
   "outputs": [
    {
     "name": "stdout",
     "output_type": "stream",
     "text": [
      "[[1 2 3]\n",
      " [4 5 6]]\n",
      "[[1 4]\n",
      " [2 5]\n",
      " [3 6]]\n",
      "[[1 4]\n",
      " [2 5]\n",
      " [3 6]]\n"
     ]
    }
   ],
   "source": [
    "# (3,2) => (2,3)\n",
    "# 행과 열의 크기를 바꾼 배열\n",
    "a2 = np.array([[1,2,3], [4,5,6]])\n",
    "print(a2)\n",
    "print(a2.T)\n",
    "print(a2.swapaxes(0, 1))"
   ]
  },
  {
   "cell_type": "markdown",
   "id": "e7d57fe7-e282-4e60-ad58-5a183227d8db",
   "metadata": {},
   "source": [
    "#### **배열 재구조화**"
   ]
  },
  {
   "cell_type": "code",
   "execution_count": 45,
   "id": "f0570d19-772c-465c-b460-0a12ab562dad",
   "metadata": {},
   "outputs": [
    {
     "name": "stdout",
     "output_type": "stream",
     "text": [
      "[1 2 3 4 5 6 7 8 9]\n",
      "[[1 2 3]\n",
      " [4 5 6]\n",
      " [7 8 9]]\n"
     ]
    }
   ],
   "source": [
    "# 1차원 -> 2차원\n",
    "# size가 맞아야함\n",
    "a1 = np.arange(1, 10)\n",
    "print(a1)\n",
    "print(a1.reshape(3, 3))"
   ]
  },
  {
   "cell_type": "code",
   "execution_count": 46,
   "id": "e0c2f634-6682-4c14-b934-ffb79d3c5846",
   "metadata": {},
   "outputs": [
    {
     "name": "stdout",
     "output_type": "stream",
     "text": [
      "[[1 2 3 4 5 6 7 8 9]]\n",
      "[[1]\n",
      " [2]\n",
      " [3]\n",
      " [4]\n",
      " [5]\n",
      " [6]\n",
      " [7]\n",
      " [8]\n",
      " [9]]\n"
     ]
    }
   ],
   "source": [
    "# newaxis => 축 (차원)을 만들어주는 것\n",
    "print(a1[np.newaxis,:])\n",
    "print(a1[:,np.newaxis])"
   ]
  },
  {
   "cell_type": "code",
   "execution_count": 50,
   "id": "0c5b22db-08cc-4ebe-92e5-550295117c63",
   "metadata": {},
   "outputs": [
    {
     "data": {
      "text/plain": [
       "array([0., 0., 0., 0., 0., 0., 0., 0., 0., 0., 0., 0., 0., 0., 0., 0., 0.,\n",
       "       0., 0., 0., 0., 0., 0., 0.])"
      ]
     },
     "execution_count": 50,
     "metadata": {},
     "output_type": "execute_result"
    }
   ],
   "source": [
    "# 다차원 배열 => 1차원 배열\n",
    "# 딥러닝에서 자주 사용하는 스킬\n",
    "a = np.zeros((3,2,4))\n",
    "a.flatten()"
   ]
  },
  {
   "cell_type": "markdown",
   "id": "1b93d50f-a852-4f9b-a166-6474c69c56ec",
   "metadata": {},
   "source": [
    "#### **배열 연결**"
   ]
  },
  {
   "cell_type": "code",
   "execution_count": 51,
   "id": "1f06f376-cc04-40af-aa9f-d594a63bea9d",
   "metadata": {},
   "outputs": [
    {
     "name": "stdout",
     "output_type": "stream",
     "text": [
      "[1 2] [3 4] [5 6]\n"
     ]
    }
   ],
   "source": [
    "a1 = np.arange(1, 3)\n",
    "b1 = np.arange(3, 5)\n",
    "c1 = np.arange(5, 7)\n",
    "print(a1,b1,c1)"
   ]
  },
  {
   "cell_type": "code",
   "execution_count": 52,
   "id": "46bcf269-682e-4910-8474-7e614d06f30e",
   "metadata": {},
   "outputs": [
    {
     "name": "stdout",
     "output_type": "stream",
     "text": [
      "[1 2 3 4]\n",
      "[1 2 3 4 5 6]\n"
     ]
    }
   ],
   "source": [
    "print(np.concatenate([a1, b1]))\n",
    "print(np.concatenate([a1, b1, c1]))"
   ]
  },
  {
   "cell_type": "code",
   "execution_count": 53,
   "id": "4ea793c4-20dc-42a6-806f-8d7bc5e8c2a9",
   "metadata": {},
   "outputs": [
    {
     "name": "stdout",
     "output_type": "stream",
     "text": [
      "[[1 2 3]\n",
      " [4 5 6]]\n"
     ]
    }
   ],
   "source": [
    "a2 = np.arange(1, 7).reshape(2, 3)\n",
    "print(a2)"
   ]
  },
  {
   "cell_type": "code",
   "execution_count": 57,
   "id": "45098c19-67ae-4bb1-b1bc-7853214032e5",
   "metadata": {},
   "outputs": [
    {
     "name": "stdout",
     "output_type": "stream",
     "text": [
      "[[1 2 3]\n",
      " [4 5 6]\n",
      " [1 2 3]\n",
      " [4 5 6]]\n"
     ]
    }
   ],
   "source": [
    "# axis default 값 = 0\n",
    "# 행을 기준으로 concat\n",
    "print(np.concatenate([a2, a2],axis=0))"
   ]
  },
  {
   "cell_type": "code",
   "execution_count": 59,
   "id": "3f8511fc-ac36-4672-9baa-af12c549b7c9",
   "metadata": {},
   "outputs": [
    {
     "name": "stdout",
     "output_type": "stream",
     "text": [
      "[[1 2 3 1 2 3]\n",
      " [4 5 6 4 5 6]]\n"
     ]
    }
   ],
   "source": [
    "# 열을 기준으로 concat\n",
    "print(np.concatenate([a2, a2], axis=1))"
   ]
  },
  {
   "cell_type": "markdown",
   "id": "f5de8a32-fe87-4696-8b3a-11aa7f3ab71c",
   "metadata": {},
   "source": [
    "#### **배열 연산**"
   ]
  },
  {
   "cell_type": "code",
   "execution_count": 61,
   "id": "3a630a81-1e09-4dfc-9d67-d48205487361",
   "metadata": {},
   "outputs": [],
   "source": [
    "x = np.array([1,2,3,4,5])"
   ]
  },
  {
   "cell_type": "code",
   "execution_count": 62,
   "id": "f308c1ef-22b0-4c4d-8a73-e75f892844a7",
   "metadata": {},
   "outputs": [
    {
     "data": {
      "text/plain": [
       "3.0"
      ]
     },
     "execution_count": 62,
     "metadata": {},
     "output_type": "execute_result"
    }
   ],
   "source": [
    "x.sum()\n",
    "x.prod() # 요소들의 곱\n",
    "x.mean()\n",
    "np.std(x) # x.std()\n",
    "x.max()\n",
    "np.argmax(x) # 최댓값의 인덱스 반환\n",
    "x.argmin() # 최솟값의 인덱스 반환\n",
    "np.median(x)"
   ]
  },
  {
   "cell_type": "code",
   "execution_count": 63,
   "id": "94ce2dd9-118f-468a-8b8d-4a0d1a977e94",
   "metadata": {},
   "outputs": [
    {
     "data": {
      "text/plain": [
       "array([[8, 2, 8],\n",
       "       [8, 8, 4],\n",
       "       [4, 5, 4]])"
      ]
     },
     "execution_count": 63,
     "metadata": {},
     "output_type": "execute_result"
    }
   ],
   "source": [
    "x = np.random.randint(1, 10, (3,3))\n",
    "x"
   ]
  },
  {
   "cell_type": "code",
   "execution_count": 64,
   "id": "a7dc14dc-b290-475a-ac16-84ed6e7f1947",
   "metadata": {},
   "outputs": [
    {
     "data": {
      "text/plain": [
       "array([18, 20, 13])"
      ]
     },
     "execution_count": 64,
     "metadata": {},
     "output_type": "execute_result"
    }
   ],
   "source": [
    "# 배열의 열을 기준으로 더하는 연산\n",
    "np.sum(x, axis=1)"
   ]
  },
  {
   "cell_type": "code",
   "execution_count": 65,
   "id": "2d30f995-89de-4b82-94c0-64593a0d4c04",
   "metadata": {},
   "outputs": [
    {
     "data": {
      "text/plain": [
       "array([20, 15, 16])"
      ]
     },
     "execution_count": 65,
     "metadata": {},
     "output_type": "execute_result"
    }
   ],
   "source": [
    "# 배열의 행을 기준으로 더하는 연산\n",
    "np.sum(x, axis=0)"
   ]
  },
  {
   "cell_type": "code",
   "execution_count": 66,
   "id": "ec6e4d2f-83a4-48bf-afce-e9aa03b87843",
   "metadata": {},
   "outputs": [],
   "source": [
    "x = np.arange(1, 11)\n",
    "y = np.arange(11, 21)"
   ]
  },
  {
   "cell_type": "code",
   "execution_count": 67,
   "id": "15dd6e0c-8012-4bae-b318-279a97350000",
   "metadata": {},
   "outputs": [
    {
     "data": {
      "text/plain": [
       "array([0.        , 0.69314718, 1.09861229, 1.38629436, 1.60943791,\n",
       "       1.79175947, 1.94591015, 2.07944154, 2.19722458, 2.30258509])"
      ]
     },
     "execution_count": 67,
     "metadata": {},
     "output_type": "execute_result"
    }
   ],
   "source": [
    "x + y\n",
    "x-y\n",
    "x*y\n",
    "-(x-y) # 부호 반대로 만들기\n",
    "np.abs(x-y)\n",
    "np.exp2(x) # 2의 지수함수\n",
    "np.power(3, x) # 3의 지수함수\n",
    "np.log(x) # 로그함수"
   ]
  },
  {
   "cell_type": "markdown",
   "id": "df808670-d428-4a9a-845e-b6539dab2553",
   "metadata": {},
   "source": [
    "#### **비교**"
   ]
  },
  {
   "cell_type": "code",
   "execution_count": 68,
   "id": "a6057e5d-c642-444d-afa1-a38b9320fb02",
   "metadata": {},
   "outputs": [
    {
     "data": {
      "text/plain": [
       "array([0, 1, 2, 3, 4, 5, 6, 7, 8, 9])"
      ]
     },
     "execution_count": 68,
     "metadata": {},
     "output_type": "execute_result"
    }
   ],
   "source": [
    "a = np.arange(10)\n",
    "a"
   ]
  },
  {
   "cell_type": "code",
   "execution_count": 69,
   "id": "e1b56f66-c4e4-412b-9e47-b387563a618b",
   "metadata": {},
   "outputs": [
    {
     "data": {
      "text/plain": [
       "(True, False)"
      ]
     },
     "execution_count": 69,
     "metadata": {},
     "output_type": "execute_result"
    }
   ],
   "source": [
    "# any -> 하나라도 만족하면 True\n",
    "np.any(a>5), np.any(a<0)"
   ]
  },
  {
   "cell_type": "code",
   "execution_count": 70,
   "id": "d9466fd9-3c5b-471a-bffe-e9aa4b8cc8e7",
   "metadata": {},
   "outputs": [
    {
     "data": {
      "text/plain": [
       "(False, True)"
      ]
     },
     "execution_count": 70,
     "metadata": {},
     "output_type": "execute_result"
    }
   ],
   "source": [
    "# all -> 모두 만족하면 True, 하나라도 불만족하면 False\n",
    "np.all(a>5), np.all(a<10)"
   ]
  },
  {
   "cell_type": "code",
   "execution_count": 71,
   "id": "7b0ce037-4369-4585-b998-d72f2ab08d25",
   "metadata": {},
   "outputs": [
    {
     "data": {
      "text/plain": [
       "array([False,  True, False])"
      ]
     },
     "execution_count": 71,
     "metadata": {},
     "output_type": "execute_result"
    }
   ],
   "source": [
    "# 넘파이는 배열의 크기가 동일 할 때 요소간의 비교의 결과를 불 타입으로 반환\n",
    "a = np.array([1,3,0])\n",
    "b = np.array([5,2,1])\n",
    "a>b"
   ]
  },
  {
   "cell_type": "code",
   "execution_count": 72,
   "id": "79ab37a6-a503-4e63-83ef-64a6e1fcfff9",
   "metadata": {},
   "outputs": [
    {
     "data": {
      "text/plain": [
       "array(['T', 'T', 'F'], dtype='<U1')"
      ]
     },
     "execution_count": 72,
     "metadata": {},
     "output_type": "execute_result"
    }
   ],
   "source": [
    "# where을 이용한 비교\n",
    "# 조건, 참 값, 거짓 값\n",
    "np.where(a>0,'T','F')"
   ]
  },
  {
   "cell_type": "markdown",
   "id": "700e9a50-1a5b-467f-9410-98678cbff9de",
   "metadata": {},
   "source": [
    "#### **Boolean, Fancy index**"
   ]
  },
  {
   "cell_type": "code",
   "execution_count": 73,
   "id": "700f1f19-f23c-4f90-a046-706f2e3ef14a",
   "metadata": {},
   "outputs": [
    {
     "data": {
      "text/plain": [
       "array([False,  True, False, False, False,  True,  True,  True])"
      ]
     },
     "execution_count": 73,
     "metadata": {},
     "output_type": "execute_result"
    }
   ],
   "source": [
    "# 넘파이 배열은 특정 조건에 따른 값을 배열 형태로 추출 가능\n",
    "a = np.array([1,4,0,2,3,8,9,7])\n",
    "a>3"
   ]
  },
  {
   "cell_type": "code",
   "execution_count": 74,
   "id": "e08471b5-5342-48ce-9219-43d4ded34f85",
   "metadata": {},
   "outputs": [
    {
     "data": {
      "text/plain": [
       "array([4, 8, 9, 7])"
      ]
     },
     "execution_count": 74,
     "metadata": {},
     "output_type": "execute_result"
    }
   ],
   "source": [
    "# 참, 거짓 조건을 이용해서 값 추출 => Boolean index\n",
    "# 딥러닝에서 파라미터나 결과가 임계점을 넘지 않는 값을 제거할 때 자주사용\n",
    "a[a>3]"
   ]
  },
  {
   "cell_type": "code",
   "execution_count": 75,
   "id": "015102f9-f7d9-4ff6-941c-e0b9a5bc89b0",
   "metadata": {},
   "outputs": [
    {
     "data": {
      "text/plain": [
       "array([2, 2, 4, 8, 6, 4])"
      ]
     },
     "execution_count": 75,
     "metadata": {},
     "output_type": "execute_result"
    }
   ],
   "source": [
    "# 넘파이는 배열을 index value로 사용해서 값을 추출 할 수 있음 => Fancy index\n",
    "a = np.array([2,4,6,8])\n",
    "b = np.array([0,0,1,3,2,1])\n",
    "a[b]"
   ]
  }
 ],
 "metadata": {
  "kernelspec": {
   "display_name": "Python 3 (ipykernel)",
   "language": "python",
   "name": "python3"
  },
  "language_info": {
   "codemirror_mode": {
    "name": "ipython",
    "version": 3
   },
   "file_extension": ".py",
   "mimetype": "text/x-python",
   "name": "python",
   "nbconvert_exporter": "python",
   "pygments_lexer": "ipython3",
   "version": "3.10.9"
  }
 },
 "nbformat": 4,
 "nbformat_minor": 5
}
