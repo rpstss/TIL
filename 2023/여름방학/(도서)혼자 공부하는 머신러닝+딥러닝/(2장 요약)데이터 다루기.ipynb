{
 "cells": [
  {
   "cell_type": "markdown",
   "id": "355672ce-e6cd-454e-8dbc-46c36431326a",
   "metadata": {},
   "source": [
    "## **<span style=\"color:purple\">훈련 세트와 테스트 세트</span>** ##\n",
    "---\n",
    "#### **지도 학습과 비지도 학습** ####\n",
    "- 지도 학습: 입력과 타겟이 모두 있음 -> 정답을 맞히는 것을 학습\n",
    "- 비지도 학습: 입력은 있지만 타깃은 없음 -> 데이터를 잘 파악하거나 변형하는 데 도움을 줌\n",
    "\n",
    "#### **훈련 세트와 테스트 세트** ####\n",
    "- 테스트 세트: 평가에 사용하는 데이터\n",
    "- 훈련 세트: 훈련에 사용되는 데이터\n",
    "- 샘플: 하나의 데이터"
   ]
  },
  {
   "cell_type": "markdown",
   "id": "d01990eb-dfcd-4e4f-a79f-8178bd5962ef",
   "metadata": {},
   "source": [
    "#### **샘플링 편향**\n",
    "- 샘플링 편향: 일반적으로 훈련 세트와 테스트 세트에 샘플이 골고루 섞여 있지 않으면 샘플링 한쪽으로 치우쳤다는 의미로 사용됨\n",
    "\n",
    "#### **넘파이**\n",
    "- 넘파이: 파이썬의 대표적인 배열 라이브러리\n",
    "- 배열 인덱싱은 []가 아니라 [[]] 사용. []은 슬라이싱임"
   ]
  },
  {
   "cell_type": "markdown",
   "id": "bcb08c49-2aba-4168-b4e1-1f3cad647b5d",
   "metadata": {},
   "source": [
    "#### **두 번째 머신러닝 프로그램**\n"
   ]
  },
  {
   "cell_type": "markdown",
   "id": "0ab73761-994c-41f8-9452-71029deab37a",
   "metadata": {
    "tags": []
   },
   "source": [
    "## **<span style=\"color:purple\">데이터 전처리</span>** \n",
    "---\n",
    "#### **넘파이로 데이터 준비하기**\n",
    "- np.column_stack(): 전달받은 리스트를 일렬로 세운 다음 차례대로 나란히 연결\n",
    "- np.concatenate(): 첫 번째 차원을 따라 배열을 연결"
   ]
  },
  {
   "cell_type": "markdown",
   "id": "f15a49cf-0952-43e0-ac63-4f5f107ac28e",
   "metadata": {},
   "source": [
    "#### **사이킷런으로 훈련세트와 테스트 세트 나누기**\n",
    "- train_test_split(): 전달되는 리스트나 배열을 비율에 맞게 섞어서 훈련 세트와 테스트 세트로 나누어줌. 기본적으로 75%"
   ]
  },
  {
   "cell_type": "markdown",
   "id": "9c8cd8ee-56d2-4f0b-a843-4d8b03803bc1",
   "metadata": {},
   "source": [
    "#### **수상한 도미 한 마리**"
   ]
  },
  {
   "cell_type": "markdown",
   "id": "2e350648-eddd-49bb-a9ba-96792694ad42",
   "metadata": {},
   "source": [
    "#### **기준을 맞춰라**\n",
    "- 두 특성의 값이 놓인 범위가 매우 다를 수 있음(스케일이 다를 수 있음)\n",
    "- 표준 점수(z 점수)를 이용할 수 있음\n",
    "- 표준 점수: 각 특성값이 평균에서 표준편차의 몇 배 만큼 떨어져 있는지 나타냄"
   ]
  },
  {
   "cell_type": "markdown",
   "id": "bae32791-adb0-411a-85ec-725534edfb8c",
   "metadata": {},
   "source": [
    "#### **전처리 데이터로 모델 훈련하기**"
   ]
  }
 ],
 "metadata": {
  "kernelspec": {
   "display_name": "Python 3 (ipykernel)",
   "language": "python",
   "name": "python3"
  },
  "language_info": {
   "codemirror_mode": {
    "name": "ipython",
    "version": 3
   },
   "file_extension": ".py",
   "mimetype": "text/x-python",
   "name": "python",
   "nbconvert_exporter": "python",
   "pygments_lexer": "ipython3",
   "version": "3.10.9"
  }
 },
 "nbformat": 4,
 "nbformat_minor": 5
}
