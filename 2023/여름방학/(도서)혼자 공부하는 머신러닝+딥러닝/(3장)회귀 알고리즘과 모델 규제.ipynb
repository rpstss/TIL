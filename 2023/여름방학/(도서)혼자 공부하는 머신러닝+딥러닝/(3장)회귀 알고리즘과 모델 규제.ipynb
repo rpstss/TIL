{
 "cells": [
  {
   "cell_type": "markdown",
   "id": "ddb8483e-2749-4cff-b53c-b97287f6e2fb",
   "metadata": {},
   "source": [
    "## **<span style=\"color:purple\">k-최근접 이웃 회귀</span>**\n",
    "---\n",
    "- 지도 학습 알고리즘은 크게 분류와 회귀로 나뉨\n",
    "- 회귀: 클래스 중 하나로 분류하는 것이 아니라 임의의 어떤 숫자를 예측하는 문제, 두 변수 사이의 상관관계를 분석하는 방법\\"
   ]
  },
  {
   "cell_type": "code",
   "execution_count": 1,
   "id": "022258ba-4ea6-426b-a471-60ed039edd62",
   "metadata": {},
   "outputs": [],
   "source": [
    "# 데이터 준비\n",
    "import numpy as np\n",
    "perch_length = np.array([8.4, 13.7, 15.0, 16.2, 17.4, 18.0, 18.7, 19.0, 19.6, 20.0, 21.0,\n",
    "       21.0, 21.0, 21.3, 22.0, 22.0, 22.0, 22.0, 22.0, 22.5, 22.5, 22.7,\n",
    "       23.0, 23.5, 24.0, 24.0, 24.6, 25.0, 25.6, 26.5, 27.3, 27.5, 27.5,\n",
    "       27.5, 28.0, 28.7, 30.0, 32.8, 34.5, 35.0, 36.5, 36.0, 37.0, 37.0,\n",
    "       39.0, 39.0, 39.0, 40.0, 40.0, 40.0, 40.0, 42.0, 43.0, 43.0, 43.5,\n",
    "       44.0])\n",
    "perch_weight = np.array([5.9, 32.0, 40.0, 51.5, 70.0, 100.0, 78.0, 80.0, 85.0, 85.0, 110.0,\n",
    "       115.0, 125.0, 130.0, 120.0, 120.0, 130.0, 135.0, 110.0, 130.0,\n",
    "       150.0, 145.0, 150.0, 170.0, 225.0, 145.0, 188.0, 180.0, 197.0,\n",
    "       218.0, 300.0, 260.0, 265.0, 250.0, 250.0, 300.0, 320.0, 514.0,\n",
    "       556.0, 840.0, 685.0, 700.0, 700.0, 690.0, 900.0, 650.0, 820.0,\n",
    "       850.0, 900.0, 1015.0, 820.0, 1100.0, 1000.0, 1100.0, 1000.0,\n",
    "       1000.0])"
   ]
  },
  {
   "cell_type": "code",
   "execution_count": 2,
   "id": "2c0ac570-2540-41b6-8d83-da676954298f",
   "metadata": {},
   "outputs": [
    {
     "data": {
      "image/png": "[encoded data removed]",
      "text/plain": [
       "<Figure size 640x480 with 1 Axes>"
      ]
     },
     "metadata": {},
     "output_type": "display_data"
    }
   ],
   "source": [
    "import matplotlib.pyplot as plt\n",
    "plt.scatter(perch_length,perch_weight)\n",
    "plt.xlabel(\"length\")\n",
    "plt.ylabel(\"weight\")\n",
    "plt.show()"
   ]
  },
  {
   "cell_type": "code",
   "execution_count": 3,
   "id": "8f095415-f38c-4ca8-9ebb-888efa9b3897",
   "metadata": {},
   "outputs": [],
   "source": [
    "from sklearn.model_selection import train_test_split\n",
    "train_input,test_input,train_target,test_target = train_test_split(perch_length,perch_weight,random_state=42)"
   ]
  },
  {
   "cell_type": "code",
   "execution_count": 4,
   "id": "91138736-e745-4d34-856f-153572246e10",
   "metadata": {},
   "outputs": [
    {
     "name": "stdout",
     "output_type": "stream",
     "text": [
      "(42, 1) (14, 1)\n"
     ]
    }
   ],
   "source": [
    "train_input=train_input.reshape(-1,1) # reshape의 -1은 나머지 원소 개수로 모두 채우겠다는 의미임\n",
    "test_input=test_input.reshape(-1,1) # (14,1)도 똑같은 값임\n",
    "print(train_input.shape,test_input.shape)"
   ]
  },
  {
   "cell_type": "code",
   "execution_count": 5,
   "id": "6c21b8d8-5596-4c2c-9c18-2a3cd2977a9a",
   "metadata": {},
   "outputs": [
    {
     "name": "stdout",
     "output_type": "stream",
     "text": [
      "0.992809406101064\n"
     ]
    }
   ],
   "source": [
    "from sklearn.neighbors import KNeighborsRegressor\n",
    "knr=KNeighborsRegressor()\n",
    "\n",
    "knr.fit(train_input,train_target)\n",
    "\n",
    "print(knr.score(test_input,test_target)) # 이건 결정계수임 <-> 정확도"
   ]
  },
  {
   "cell_type": "markdown",
   "id": "2f9e3c6e-9c5f-4063-828c-5da10601a556",
   "metadata": {},
   "source": [
    "#### **결정 계수(R^2)**\n",
    "- 결정계수: $ 1-(sum((타깃-예측)^2)/sum((타깃-평균)^2)$\n",
    "- 타깃의 평균 정도를 예측하는 수준이라면 결정 계수는 0에 가까워지고, 예측이 타깃에 가가워지면 결정 계수가 1에 가까워진다"
   ]
  },
  {
   "cell_type": "code",
   "execution_count": 6,
   "id": "d2944863-b850-4c54-ada9-daa4488eeec1",
   "metadata": {},
   "outputs": [
    {
     "name": "stdout",
     "output_type": "stream",
     "text": [
      "19.157142857142862\n"
     ]
    }
   ],
   "source": [
    "# 결정 계수말고 다른 값으로 직접 모델이 얼마나 좋은지 이해해보기\n",
    "from sklearn.metrics import mean_absolute_error\n",
    "\n",
    "# 테스트 세트에 대한 예측을 만듬\n",
    "test_prediction=knr.predict(test_input)\n",
    "\n",
    "# 테스트 세트에 대한 평균 절댓값 오차 계산\n",
    "mae=mean_absolute_error(test_target,test_prediction)\n",
    "print(mae)"
   ]
  },
  {
   "cell_type": "markdown",
   "id": "2112f351-02e7-4a6b-b668-bb58d05cef02",
   "metadata": {},
   "source": [
    "#### **과대 적합 VS 과소 적합**\n",
    "- 과대 적합: 훈련 세트에서 점수가 굉장히 좋았지만, 테스트 세트에서는 점수가 굉장히 나쁜 경우\n",
    "- 과소 적합: 훈련 세트보다 테스트 세트의 점수가 높거나 두 점수가 모두 너무 낮은 경우   \n",
    "    - 모델이 너무 단순하여 훈련 세트에 적절히 훈련되지 않은 경우   \n",
    "    - 훈련 세트가 전체 데이터를 대표하지 못한 경우  \n",
    "    - 훈련 세트와 테스트 세트의 크기가 매우 작은 경우  \n",
    "    - k-최근접 이웃 알고리즘에서 k를 낮추는 방식으로 해결할 수 있음. 이는 국지적인 패턴에 민감해지도록 하기 위함"
   ]
  },
  {
   "cell_type": "code",
   "execution_count": 7,
   "id": "8eee03c0-ea66-40d7-900e-cd1fc3f9b5e5",
   "metadata": {},
   "outputs": [
    {
     "name": "stdout",
     "output_type": "stream",
     "text": [
      "0.9698823289099254\n"
     ]
    }
   ],
   "source": [
    "print(knr.score(train_input,train_target))"
   ]
  },
  {
   "cell_type": "code",
   "execution_count": 8,
   "id": "53d85099-37ad-4c38-afcc-8d5a3ae25f86",
   "metadata": {},
   "outputs": [
    {
     "name": "stdout",
     "output_type": "stream",
     "text": [
      "0.9804899950518966\n",
      "0.9746459963987609\n"
     ]
    }
   ],
   "source": [
    "knr.n_neighbors=3\n",
    "\n",
    "knr.fit(train_input,train_target)\n",
    "print(knr.score(train_input,train_target))\n",
    "print(knr.score(test_input,test_target))"
   ]
  },
  {
   "cell_type": "markdown",
   "id": "e6785665-e342-4f1f-af77-3e705eb8e1eb",
   "metadata": {},
   "source": [
    "## **<span style=\"color:purple\">선형 회귀</span>**\n",
    "---"
   ]
  },
  {
   "cell_type": "markdown",
   "id": "d297f692-7ac3-4659-b007-6ceead7c4d84",
   "metadata": {},
   "source": [
    "#### **k-최근접 이웃의 한계**\n",
    "- 새로운 샘플이 훈련 세트의 범위를 벗어나면 엉뚱한 값을 예측할 수 있음"
   ]
  },
  {
   "cell_type": "code",
   "execution_count": 9,
   "id": "3e3ec33e-bcf8-4f85-bb82-52e69f9ab410",
   "metadata": {},
   "outputs": [],
   "source": [
    "perch_length = np.array([8.4, 13.7, 15.0, 16.2, 17.4, 18.0, 18.7, 19.0, 19.6, 20.0, 21.0,\n",
    "       21.0, 21.0, 21.3, 22.0, 22.0, 22.0, 22.0, 22.0, 22.5, 22.5, 22.7,\n",
    "       23.0, 23.5, 24.0, 24.0, 24.6, 25.0, 25.6, 26.5, 27.3, 27.5, 27.5,\n",
    "       27.5, 28.0, 28.7, 30.0, 32.8, 34.5, 35.0, 36.5, 36.0, 37.0, 37.0,\n",
    "       39.0, 39.0, 39.0, 40.0, 40.0, 40.0, 40.0, 42.0, 43.0, 43.0, 43.5,\n",
    "       44.0])\n",
    "perch_weight = np.array([5.9, 32.0, 40.0, 51.5, 70.0, 100.0, 78.0, 80.0, 85.0, 85.0, 110.0,\n",
    "       115.0, 125.0, 130.0, 120.0, 120.0, 130.0, 135.0, 110.0, 130.0,\n",
    "       150.0, 145.0, 150.0, 170.0, 225.0, 145.0, 188.0, 180.0, 197.0,\n",
    "       218.0, 300.0, 260.0, 265.0, 250.0, 250.0, 300.0, 320.0, 514.0,\n",
    "       556.0, 840.0, 685.0, 700.0, 700.0, 690.0, 900.0, 650.0, 820.0,\n",
    "       850.0, 900.0, 1015.0, 820.0, 1100.0, 1000.0, 1100.0, 1000.0,\n",
    "       1000.0])"
   ]
  },
  {
   "cell_type": "code",
   "execution_count": 10,
   "id": "9d2d5465-5580-4113-99a3-7b9e1efb77ef",
   "metadata": {},
   "outputs": [],
   "source": [
    "from sklearn.model_selection import train_test_split\n",
    "\n",
    "train_input,test_input,train_target,test_target=train_test_split(perch_length,perch_weight,random_state=42)"
   ]
  },
  {
   "cell_type": "code",
   "execution_count": 11,
   "id": "e21c65c9-42e7-46ec-8aaa-77d36b1d163b",
   "metadata": {},
   "outputs": [],
   "source": [
    "train_input=train_input.reshape(-1,1)\n",
    "test_input=test_input.reshape(-1,1)"
   ]
  },
  {
   "cell_type": "code",
   "execution_count": 12,
   "id": "51b50c85-2304-400b-9018-61d15e27aaf2",
   "metadata": {},
   "outputs": [
    {
     "name": "stdout",
     "output_type": "stream",
     "text": [
      "[1033.33333333]\n"
     ]
    }
   ],
   "source": [
    "from sklearn.neighbors import KNeighborsRegressor\n",
    "\n",
    "knr=KNeighborsRegressor(n_neighbors=3)\n",
    "\n",
    "knr.fit(train_input,train_target)\n",
    "\n",
    "print(knr.predict([[50]]))"
   ]
  },
  {
   "cell_type": "code",
   "execution_count": 13,
   "id": "3463a70b-ad6c-4025-9038-c979b2b84c64",
   "metadata": {},
   "outputs": [
    {
     "data": {
      "image/png": "[encoded data removed]",
      "text/plain": [
       "<Figure size 640x480 with 1 Axes>"
      ]
     },
     "metadata": {},
     "output_type": "display_data"
    }
   ],
   "source": [
    "import matplotlib.pyplot as plt\n",
    "distances,indexes=knr.kneighbors([[50]])\n",
    "\n",
    "plt.scatter(train_input,train_target)\n",
    "\n",
    "plt.scatter(train_input[indexes],train_target[indexes],marker=\"D\")\n",
    "\n",
    "plt.scatter(50,1033,marker=\"^\")\n",
    "\n",
    "plt.xlabel(\"length\")\n",
    "plt.ylabel(\"weight\")\n",
    "plt.show()"
   ]
  },
  {
   "cell_type": "code",
   "execution_count": 14,
   "id": "556216a7-5a05-43cf-957e-8774a37998f4",
   "metadata": {},
   "outputs": [
    {
     "name": "stdout",
     "output_type": "stream",
     "text": [
      "1033.3333333333333\n"
     ]
    }
   ],
   "source": [
    "print(np.mean(train_target[indexes]))"
   ]
  },
  {
   "cell_type": "code",
   "execution_count": 15,
   "id": "633d9478-ac7f-45c1-8c9f-c07b4597a87b",
   "metadata": {},
   "outputs": [
    {
     "name": "stdout",
     "output_type": "stream",
     "text": [
      "[1033.33333333]\n"
     ]
    }
   ],
   "source": [
    "print(knr.predict([[100]]))"
   ]
  },
  {
   "cell_type": "code",
   "execution_count": 16,
   "id": "577ae7e2-1365-43fc-bf81-2052e016393c",
   "metadata": {},
   "outputs": [
    {
     "data": {
      "image/png": "[encoded data removed]",
      "text/plain": [
       "<Figure size 640x480 with 1 Axes>"
      ]
     },
     "metadata": {},
     "output_type": "display_data"
    }
   ],
   "source": [
    "# 100cm 농어의 이웃\n",
    "distances,indexes=knr.kneighbors([[100]])\n",
    "\n",
    "plt.scatter(train_input,train_target)\n",
    "\n",
    "plt.scatter(train_input[indexes],train_target[indexes],marker=\"D\")\n",
    "\n",
    "plt.scatter(100,knr.predict([[100]]),marker=\"^\")\n",
    "plt.show()"
   ]
  },
  {
   "cell_type": "markdown",
   "id": "83029c8c-5dfc-4bb0-834c-74cbfaeab37a",
   "metadata": {},
   "source": [
    "#### **선형 회귀**"
   ]
  },
  {
   "cell_type": "code",
   "execution_count": 17,
   "id": "ce3c4a65-46a8-4edc-be96-b08845fab5d7",
   "metadata": {},
   "outputs": [
    {
     "name": "stdout",
     "output_type": "stream",
     "text": [
      "[1241.83860323]\n"
     ]
    }
   ],
   "source": [
    "# 선형 회귀\n",
    "from sklearn.linear_model import LinearRegression\n",
    "\n",
    "lr=LinearRegression()\n",
    "\n",
    "lr.fit(train_input,train_target)\n",
    "\n",
    "print(lr.predict([[50]]))"
   ]
  },
  {
   "cell_type": "code",
   "execution_count": 18,
   "id": "365a792e-95e6-4ada-be3a-9798ea696968",
   "metadata": {},
   "outputs": [
    {
     "name": "stdout",
     "output_type": "stream",
     "text": [
      "[39.01714496] -709.0186449535474\n"
     ]
    }
   ],
   "source": [
    "print(lr.coef_,lr.intercept_) # coef_와 intercept_ 속성은 기울기(각 항의 계수)와 y절편을 뜻함"
   ]
  },
  {
   "cell_type": "code",
   "execution_count": 19,
   "id": "d8e7526f-9fe0-48bc-afca-e528ebd71038",
   "metadata": {},
   "outputs": [
    {
     "data": {
      "image/png": "[encoded data removed]",
      "text/plain": [
       "<Figure size 640x480 with 1 Axes>"
      ]
     },
     "metadata": {},
     "output_type": "display_data"
    }
   ],
   "source": [
    "plt.scatter(train_input,train_target)\n",
    "\n",
    "plt.plot([15,50],[15*lr.coef_+lr.intercept_,50*lr.coef_+lr.intercept_])\n",
    "\n",
    "plt.scatter(50,1241.8,marker=\"^\")\n",
    "plt.xlabel(\"length\")\n",
    "plt.ylabel(\"weight\")\n",
    "plt.show()"
   ]
  },
  {
   "cell_type": "code",
   "execution_count": 20,
   "id": "908ba5a9-de70-40ef-9fbb-9f556b5b40cc",
   "metadata": {},
   "outputs": [
    {
     "name": "stdout",
     "output_type": "stream",
     "text": [
      "0.9398463339976041\n",
      "0.824750312331356\n"
     ]
    }
   ],
   "source": [
    "print(lr.score(train_input,train_target))\n",
    "print(lr.score(test_input,test_target))"
   ]
  },
  {
   "cell_type": "markdown",
   "id": "5911aa83-1397-4ff2-8d66-530ba34c069c",
   "metadata": {},
   "source": [
    "#### **다항 회귀**\n",
    "- 2차 방정식의 그래프를 그리려면 길이를 제곱한 항이 훈련 세트에 추가되어야 함"
   ]
  },
  {
   "cell_type": "code",
   "execution_count": 21,
   "id": "86822cb2-a464-41b8-8359-b733693538af",
   "metadata": {},
   "outputs": [
    {
     "name": "stdout",
     "output_type": "stream",
     "text": [
      "(42, 2) (14, 2)\n"
     ]
    }
   ],
   "source": [
    "train_poly=np.column_stack((train_input**2,train_input))\n",
    "test_poly=np.column_stack((test_input**2,test_input))\n",
    "print(train_poly.shape,test_poly.shape)"
   ]
  },
  {
   "cell_type": "code",
   "execution_count": 22,
   "id": "218dcf4e-e56e-4508-a32a-09838e4cfb83",
   "metadata": {},
   "outputs": [
    {
     "name": "stdout",
     "output_type": "stream",
     "text": [
      "[1573.98423528]\n"
     ]
    }
   ],
   "source": [
    "lr=LinearRegression()\n",
    "lr.fit(train_poly,train_target)\n",
    "\n",
    "print(lr.predict([[50**2,50]]))"
   ]
  },
  {
   "cell_type": "code",
   "execution_count": 23,
   "id": "23db7977-c6d9-4807-b772-54af8f57c0d2",
   "metadata": {},
   "outputs": [
    {
     "name": "stdout",
     "output_type": "stream",
     "text": [
      "[  1.01433211 -21.55792498] 116.05021078278264\n"
     ]
    }
   ],
   "source": [
    "print(lr.coef_,lr.intercept_)"
   ]
  },
  {
   "cell_type": "code",
   "execution_count": 24,
   "id": "8b75e261-4bd5-45cf-abe9-55385740e9ad",
   "metadata": {},
   "outputs": [
    {
     "data": {
      "image/png": "[encoded data removed]",
      "text/plain": [
       "<Figure size 640x480 with 1 Axes>"
      ]
     },
     "metadata": {},
     "output_type": "display_data"
    }
   ],
   "source": [
    "point=np.arange(15,50)\n",
    "\n",
    "plt.scatter(train_input,train_target)\n",
    "\n",
    "plt.plot(point,1.01*point**2-21.6*point+116.05)\n",
    "\n",
    "plt.scatter(50,1574,marker=\"^\")\n",
    "plt.show()"
   ]
  },
  {
   "cell_type": "code",
   "execution_count": 25,
   "id": "8815cf58-1e6d-411b-ac5a-5873e64d2235",
   "metadata": {},
   "outputs": [
    {
     "name": "stdout",
     "output_type": "stream",
     "text": [
      "0.9706807451768623\n",
      "0.9775935108325122\n"
     ]
    }
   ],
   "source": [
    "print(lr.score(train_poly,train_target))\n",
    "print(lr.score(test_poly,test_target))"
   ]
  },
  {
   "cell_type": "markdown",
   "id": "77430862-b13c-459e-b746-422bd9ff8c4c",
   "metadata": {
    "tags": []
   },
   "source": [
    "## **<span style=\"color:purple\">특성 공학과 규제</span>**\n",
    "---"
   ]
  },
  {
   "cell_type": "markdown",
   "id": "a595c145-33f7-4910-b307-aa9e418fefd9",
   "metadata": {},
   "source": [
    "#### **다중 회귀**\n",
    "- 다중 회귀: 여러 개의 특성을 사용한 선형 회귀 -> 직선이 아닌 평면으로 학습\n",
    "- 특성 공학: 기존의 특성을 사용해 새로운 특성을 뽑아내는 작업"
   ]
  },
  {
   "cell_type": "code",
   "execution_count": 26,
   "id": "182a055e-27d8-474e-821f-09e8d5d4cf3e",
   "metadata": {},
   "outputs": [
    {
     "name": "stdout",
     "output_type": "stream",
     "text": [
      "[[ 8.4   2.11  1.41]\n",
      " [13.7   3.53  2.  ]\n",
      " [15.    3.82  2.43]\n",
      " [16.2   4.59  2.63]\n",
      " [17.4   4.59  2.94]\n",
      " [18.    5.22  3.32]\n",
      " [18.7   5.2   3.12]\n",
      " [19.    5.64  3.05]\n",
      " [19.6   5.14  3.04]\n",
      " [20.    5.08  2.77]\n",
      " [21.    5.69  3.56]\n",
      " [21.    5.92  3.31]\n",
      " [21.    5.69  3.67]\n",
      " [21.3   6.38  3.53]\n",
      " [22.    6.11  3.41]\n",
      " [22.    5.64  3.52]\n",
      " [22.    6.11  3.52]\n",
      " [22.    5.88  3.52]\n",
      " [22.    5.52  4.  ]\n",
      " [22.5   5.86  3.62]\n",
      " [22.5   6.79  3.62]\n",
      " [22.7   5.95  3.63]\n",
      " [23.    5.22  3.63]\n",
      " [23.5   6.28  3.72]\n",
      " [24.    7.29  3.72]\n",
      " [24.    6.38  3.82]\n",
      " [24.6   6.73  4.17]\n",
      " [25.    6.44  3.68]\n",
      " [25.6   6.56  4.24]\n",
      " [26.5   7.17  4.14]\n",
      " [27.3   8.32  5.14]\n",
      " [27.5   7.17  4.34]\n",
      " [27.5   7.05  4.34]\n",
      " [27.5   7.28  4.57]\n",
      " [28.    7.82  4.2 ]\n",
      " [28.7   7.59  4.64]\n",
      " [30.    7.62  4.77]\n",
      " [32.8  10.03  6.02]\n",
      " [34.5  10.26  6.39]\n",
      " [35.   11.49  7.8 ]\n",
      " [36.5  10.88  6.86]\n",
      " [36.   10.61  6.74]\n",
      " [37.   10.84  6.26]\n",
      " [37.   10.57  6.37]\n",
      " [39.   11.14  7.49]\n",
      " [39.   11.14  6.  ]\n",
      " [39.   12.43  7.35]\n",
      " [40.   11.93  7.11]\n",
      " [40.   11.73  7.22]\n",
      " [40.   12.38  7.46]\n",
      " [40.   11.14  6.63]\n",
      " [42.   12.8   6.87]\n",
      " [43.   11.93  7.28]\n",
      " [43.   12.51  7.42]\n",
      " [43.5  12.6   8.14]\n",
      " [44.   12.49  7.6 ]]\n"
     ]
    }
   ],
   "source": [
    "import pandas as pd\n",
    "df=pd.read_csv(\"perch_full.csv\")\n",
    "perch_full=df.to_numpy()\n",
    "print(perch_full)"
   ]
  },
  {
   "cell_type": "code",
   "execution_count": 27,
   "id": "d34ce10b-600c-41df-bd95-70c8ddc4f3f1",
   "metadata": {},
   "outputs": [],
   "source": [
    "perch_weight = np.array([5.9, 32.0, 40.0, 51.5, 70.0, 100.0, 78.0, 80.0, 85.0, 85.0, 110.0,\n",
    "       115.0, 125.0, 130.0, 120.0, 120.0, 130.0, 135.0, 110.0, 130.0,\n",
    "       150.0, 145.0, 150.0, 170.0, 225.0, 145.0, 188.0, 180.0, 197.0,\n",
    "       218.0, 300.0, 260.0, 265.0, 250.0, 250.0, 300.0, 320.0, 514.0,\n",
    "       556.0, 840.0, 685.0, 700.0, 700.0, 690.0, 900.0, 650.0, 820.0,\n",
    "       850.0, 900.0, 1015.0, 820.0, 1100.0, 1000.0, 1100.0, 1000.0,\n",
    "       1000.0])"
   ]
  },
  {
   "cell_type": "code",
   "execution_count": 28,
   "id": "3332ff60-63ac-4345-835e-effeba73b512",
   "metadata": {},
   "outputs": [],
   "source": [
    "train_input,test_input,train_target,test_target=train_test_split(perch_full,perch_weight,random_state=42)"
   ]
  },
  {
   "cell_type": "code",
   "execution_count": 29,
   "id": "62ac164f-2dc2-48db-b1d0-f8f77df265f7",
   "metadata": {},
   "outputs": [
    {
     "name": "stdout",
     "output_type": "stream",
     "text": [
      "[[2. 3. 4. 6. 9.]]\n"
     ]
    }
   ],
   "source": [
    "from sklearn.preprocessing import PolynomialFeatures\n",
    "# polynomialfeatures 클래스는 변환기로서, 각 특성을 제곱한 항을 추가하고 특성끼리 서로 곱한 항을 추가함\n",
    "poly=PolynomialFeatures(include_bias=False) # include_bias는 선형 방정식의 절편에 1인 특성이 곱해지는 계수라고 볼 수 있음\n",
    "\n",
    "poly.fit([[2,3]])\n",
    "print(poly.transform([[2,3]]))"
   ]
  },
  {
   "cell_type": "code",
   "execution_count": 30,
   "id": "3711fd4e-eb2f-46fd-847f-a7eee2688cac",
   "metadata": {},
   "outputs": [
    {
     "name": "stdout",
     "output_type": "stream",
     "text": [
      "(42, 9)\n"
     ]
    }
   ],
   "source": [
    "poly = PolynomialFeatures(include_bias=False)\n",
    "poly.fit(train_input)\n",
    "train_poly = poly.transform(train_input)\n",
    "print(train_poly.shape)"
   ]
  },
  {
   "cell_type": "code",
   "execution_count": 31,
   "id": "8aabf2a6-a878-47d5-ba98-6a3fff68935f",
   "metadata": {},
   "outputs": [
    {
     "data": {
      "text/plain": [
       "array(['x0', 'x1', 'x2', 'x0^2', 'x0 x1', 'x0 x2', 'x1^2', 'x1 x2',\n",
       "       'x2^2'], dtype=object)"
      ]
     },
     "execution_count": 31,
     "metadata": {},
     "output_type": "execute_result"
    }
   ],
   "source": [
    "poly.get_feature_names_out()"
   ]
  },
  {
   "cell_type": "code",
   "execution_count": 32,
   "id": "bbea37dc-261f-4e5b-8f58-4697c8d3cfc0",
   "metadata": {},
   "outputs": [],
   "source": [
    "test_poly=poly.transform(test_input)"
   ]
  },
  {
   "cell_type": "code",
   "execution_count": 33,
   "id": "e77ac810-71cd-4236-b8f8-cb00947cb9c5",
   "metadata": {},
   "outputs": [
    {
     "name": "stdout",
     "output_type": "stream",
     "text": [
      "0.9903183436982124\n",
      "0.9714559911594145\n"
     ]
    }
   ],
   "source": [
    "from sklearn.linear_model import LinearRegression\n",
    "lr=LinearRegression()\n",
    "lr.fit(train_poly,train_target)\n",
    "print(lr.score(train_poly,train_target))\n",
    "print(lr.score(test_poly,test_target))"
   ]
  },
  {
   "cell_type": "code",
   "execution_count": 34,
   "id": "333d2629-224a-473b-88da-e543f9f07d32",
   "metadata": {},
   "outputs": [
    {
     "name": "stdout",
     "output_type": "stream",
     "text": [
      "(42, 55)\n"
     ]
    }
   ],
   "source": [
    "poly=PolynomialFeatures(degree=5,include_bias=False) # bias 매개변수는 고차항의 최대 차수를 지정함\n",
    "poly.fit(train_input)\n",
    "train_poly=poly.transform(train_input)\n",
    "test_poly=poly.transform(test_input)\n",
    "print(train_poly.shape)"
   ]
  },
  {
   "cell_type": "code",
   "execution_count": 35,
   "id": "fb53734b-b99d-4e17-b6c1-ae103cc5edd1",
   "metadata": {},
   "outputs": [
    {
     "name": "stdout",
     "output_type": "stream",
     "text": [
      "0.9999999999996176\n",
      "-144.40585108215134\n"
     ]
    }
   ],
   "source": [
    "lr.fit(train_poly,train_target)\n",
    "print(lr.score(train_poly,train_target))\n",
    "print(lr.score(test_poly,test_target)) # 과대 적합 됨"
   ]
  },
  {
   "cell_type": "markdown",
   "id": "75ac8b58-1c61-4616-b471-98291cd0fba6",
   "metadata": {},
   "source": [
    "#### **규제**\n",
    "- 규제: 머신러닝 모델이 훈련 세트를 너무 과도하게 학습하지 못하도록 훼방하는 것-> 과대적합 방지, 선형 회귀의 계수의 크기를 작게 만듬\n",
    "- 릿지: 계수를 제곱한 값을 기준으로 규제를 적용, alpha 값이 클 수록 규제 강도가 세짐\n",
    "- 라쏘: 계수의 절댓값을 기준으로 규제를 적용"
   ]
  },
  {
   "cell_type": "code",
   "execution_count": 36,
   "id": "e91a8aa0-4513-471f-9243-ce649b2bbd00",
   "metadata": {},
   "outputs": [],
   "source": [
    "# 정규화하기\n",
    "from sklearn.preprocessing import StandardScaler\n",
    "ss=StandardScaler()\n",
    "ss.fit(train_poly)\n",
    "train_scaled=ss.transform(train_poly)\n",
    "test_scaled=ss.transform(test_poly)"
   ]
  },
  {
   "cell_type": "code",
   "execution_count": 37,
   "id": "91aeea47-2d4d-461d-96d2-a4884f63aa39",
   "metadata": {},
   "outputs": [
    {
     "name": "stdout",
     "output_type": "stream",
     "text": [
      "0.9896101671037343\n",
      "0.9790693977615379\n"
     ]
    }
   ],
   "source": [
    "# 릿지 회귀\n",
    "from sklearn.linear_model import Ridge\n",
    "ridge=Ridge()\n",
    "ridge.fit(train_scaled,train_target)\n",
    "print(ridge.score(train_scaled,train_target))\n",
    "print(ridge.score(test_scaled,test_target))"
   ]
  },
  {
   "cell_type": "code",
   "execution_count": 38,
   "id": "e1d68b54-ebb3-467b-b294-57d61b2805b5",
   "metadata": {},
   "outputs": [],
   "source": [
    "import matplotlib.pyplot as plt\n",
    "train_score=[]\n",
    "test_score=[]\n",
    "\n",
    "alpha_list=[0.001,0.01,0.1,1,10,100]\n",
    "for alpha in alpha_list:\n",
    "    ridge=Ridge(alpha=alpha)\n",
    "    ridge.fit(train_scaled,train_target)\n",
    "    train_score.append(ridge.score(train_scaled,train_target))\n",
    "    test_score.append(ridge.score(test_scaled,test_target))"
   ]
  },
  {
   "cell_type": "code",
   "execution_count": 39,
   "id": "c9979ad8-9620-4b59-be8b-73a8239ae443",
   "metadata": {},
   "outputs": [
    {
     "data": {
      "image/png": "[encoded data removed]",
      "text/plain": [
       "<Figure size 640x480 with 1 Axes>"
      ]
     },
     "metadata": {},
     "output_type": "display_data"
    }
   ],
   "source": [
    "plt.plot(np.log10(alpha_list),train_score)\n",
    "plt.plot(np.log10(alpha_list),test_score)\n",
    "plt.xlabel(\"alpha\")\n",
    "plt.ylabel(\"R^2\")\n",
    "plt.show()"
   ]
  },
  {
   "cell_type": "code",
   "execution_count": 40,
   "id": "75c2b723-c99c-4d6c-9742-3a51074ef194",
   "metadata": {},
   "outputs": [
    {
     "name": "stdout",
     "output_type": "stream",
     "text": [
      "0.9903815817570368\n",
      "0.9827976465386983\n"
     ]
    }
   ],
   "source": [
    "ridge=Ridge(alpha=0.1)\n",
    "ridge.fit(train_scaled,train_target)\n",
    "\n",
    "print(ridge.score(train_scaled,train_target))\n",
    "print(ridge.score(test_scaled,test_target))"
   ]
  },
  {
   "cell_type": "code",
   "execution_count": 41,
   "id": "966dbbc2-e76c-4c89-9dcb-1fe49ba650c7",
   "metadata": {},
   "outputs": [
    {
     "name": "stdout",
     "output_type": "stream",
     "text": [
      "0.989789897208096\n",
      "0.9800593698421884\n"
     ]
    }
   ],
   "source": [
    "# 라쏘 회귀\n",
    "from sklearn.linear_model import Lasso\n",
    "lasso=Lasso()\n",
    "lasso.fit(train_scaled,train_target)\n",
    "print(lasso.score(train_scaled,train_target))\n",
    "print(lasso.score(test_scaled,test_target))"
   ]
  },
  {
   "cell_type": "code",
   "execution_count": 42,
   "id": "0c9444a4-5c99-4db4-801d-96b19246e2cf",
   "metadata": {},
   "outputs": [
    {
     "name": "stderr",
     "output_type": "stream",
     "text": [
      "C:\\Users\\82106\\anaconda3\\lib\\site-packages\\sklearn\\linear_model\\_coordinate_descent.py:631: ConvergenceWarning: Objective did not converge. You might want to increase the number of iterations, check the scale of the features or consider increasing regularisation. Duality gap: 1.878e+04, tolerance: 5.183e+02\n",
      "  model = cd_fast.enet_coordinate_descent(\n",
      "C:\\Users\\82106\\anaconda3\\lib\\site-packages\\sklearn\\linear_model\\_coordinate_descent.py:631: ConvergenceWarning: Objective did not converge. You might want to increase the number of iterations, check the scale of the features or consider increasing regularisation. Duality gap: 1.297e+04, tolerance: 5.183e+02\n",
      "  model = cd_fast.enet_coordinate_descent(\n"
     ]
    }
   ],
   "source": [
    "train_score=[]\n",
    "test_score=[]\n",
    "\n",
    "alpha_list=[0.001,0.01,0.1,1,10,100]\n",
    "for alpha in alpha_list:\n",
    "    lasso=Lasso(alpha=alpha,max_iter=10000)\n",
    "    lasso.fit(train_scaled,train_target)\n",
    "    train_score.append(lasso.score(train_scaled,train_target))\n",
    "    test_score.append(lasso.score(test_scaled,test_target))"
   ]
  },
  {
   "cell_type": "code",
   "execution_count": 43,
   "id": "e254bc1e-e824-4918-86d8-cc30735bf6b7",
   "metadata": {},
   "outputs": [
    {
     "data": {
      "image/png": "[encoded data removed]",
      "text/plain": [
       "<Figure size 640x480 with 1 Axes>"
      ]
     },
     "metadata": {},
     "output_type": "display_data"
    }
   ],
   "source": [
    "plt.plot(np.log10(alpha_list),train_score)\n",
    "plt.plot(np.log10(alpha_list),test_score)\n",
    "plt.xlabel(\"alpha\")\n",
    "plt.ylabel(\"R^2\")\n",
    "plt.show()"
   ]
  },
  {
   "cell_type": "code",
   "execution_count": 44,
   "id": "5005259c-18e9-4ed4-bb00-7e56cc5fa17d",
   "metadata": {},
   "outputs": [
    {
     "name": "stdout",
     "output_type": "stream",
     "text": [
      "0.9888067471131867\n",
      "0.9824470598706695\n"
     ]
    }
   ],
   "source": [
    "lasso=Lasso(alpha=10)\n",
    "lasso.fit(train_scaled,train_target)\n",
    "print(lasso.score(train_scaled,train_target))\n",
    "print(lasso.score(test_scaled,test_target))"
   ]
  },
  {
   "cell_type": "code",
   "execution_count": 45,
   "id": "b609cc92-6906-40f7-abf2-e9d4eca12538",
   "metadata": {},
   "outputs": [
    {
     "name": "stdout",
     "output_type": "stream",
     "text": [
      "40\n"
     ]
    }
   ],
   "source": [
    "print(np.sum(lasso.coef_==0))"
   ]
  }
 ],
 "metadata": {
  "kernelspec": {
   "display_name": "Python 3 (ipykernel)",
   "language": "python",
   "name": "python3"
  },
  "language_info": {
   "codemirror_mode": {
    "name": "ipython",
    "version": 3
   },
   "file_extension": ".py",
   "mimetype": "text/x-python",
   "name": "python",
   "nbconvert_exporter": "python",
   "pygments_lexer": "ipython3",
   "version": "3.10.9"
  }
 },
 "nbformat": 4,
 "nbformat_minor": 5
}
