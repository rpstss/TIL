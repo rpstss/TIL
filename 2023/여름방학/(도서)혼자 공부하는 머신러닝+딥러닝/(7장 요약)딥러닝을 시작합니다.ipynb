{
 "cells": [
  {
   "cell_type": "markdown",
   "id": "99b29df5-f75b-492f-9960-179706a36380",
   "metadata": {},
   "source": [
    "## **<span style=\"color:purple\">인공 신경망</span>** ##\n",
    "---"
   ]
  },
  {
   "cell_type": "markdown",
   "id": "98a77867-6ed2-4675-890d-28b5e126f79f",
   "metadata": {},
   "source": [
    "#### **로지스틱 회귀로 패션 아이템 분류하기**"
   ]
  },
  {
   "cell_type": "markdown",
   "id": "7ad62e1e-24d8-4751-a327-3931e5af6aeb",
   "metadata": {},
   "source": [
    "#### **인공 신경망**\n",
    "- 가장 기본적인 인공 신경망은 확률적 경사 하강법을 사용하는 로지스틱 회귀와 같음\n",
    "- 밀집 신경망(밀집층만 이용한 신경망) = 완전 연결 신경ㅁ\n",
    "- 출력층: z1~z10\n",
    "- 뉴런(유닛): z 값을 계산하는 단위, 10개의 뉴런\n",
    "- 입력층: x1~x784\n",
    "- z1을 만들기 위해 픽셀 1인 x1에 곱해지는 가중치는 w1.1이라 쓰고, z2인 경우는 w1.2라고 씀\n",
    "- 활성화 함수: 소프트맥스와 같이 뉴런의 선형 방정식 계산 결과에 적용되는 함수\n",
    "- 교차 검증을 잘 사용하지 않고 검증 세트를 별도로 덜어내어 사용함\n",
    "   - 1. 딥러닝 분야의 데이터셋은 충분히 크기 때문에 검증 점수가 안정적\n",
    "   - 2. 교차 검증을 수행하기에는 훈련 시간이 너무 오래 걸리기 때문"
   ]
  },
  {
   "cell_type": "markdown",
   "id": "d0e14e60-55a4-4af7-a163-7ef009f72dc4",
   "metadata": {},
   "source": [
    "#### **인공 신경망으로 패션 아이템 분류하기**\n",
    "- 손실 함수 설정\n",
    "   - 이진 분류: loss=\"binary_crossentropy\"\n",
    "   - 다중 분류: loss=\"categorical_crossentropy\"\n",
    "   - sparse를 붙이는 이유는 타깃값을 원-핫 인코딩으로 계산한다는 의미, 이미 그렇게 되어있다면 sparse를 안붙여도 됨\n",
    "- 원-핫 인코딩: 타깃값을 해당 클래스만 1이고 나머지는 0인 배열로 만드는 것"
   ]
  },
  {
   "cell_type": "markdown",
   "id": "de2e51ca-4292-4691-9a67-fdeb139ec279",
   "metadata": {},
   "source": [
    "## **<span style=\"color:purple\">심층 신경망</span>** ##\n",
    "---"
   ]
  },
  {
   "cell_type": "markdown",
   "id": "3e5064fc-f3cf-4782-a45c-26b66dd2688e",
   "metadata": {},
   "source": [
    "#### **2개의 층**\n",
    "- 은닉층: 입력층과 출력층 사이에 있는 모든 층\n",
    "- 출력층에 적용하는 활성화 함수는 종류가 제한되어 있지만, 은닉층의 활성화 함수는 비교적 자유로움\n",
    "- 회귀를 위한 신경망의 출력층에서는 활성화 함수를 적용할 필요가 없음"
   ]
  },
  {
   "cell_type": "markdown",
   "id": "ed47110f-6d33-4630-a88d-3c7f5d8aa9b7",
   "metadata": {},
   "source": [
    "#### **심층 신경망 만들기**\n",
    "- 케라스 모델의 fit()메서드는 미니배치 경사 하강법을 사용함. 기본값은 32개임"
   ]
  },
  {
   "cell_type": "markdown",
   "id": "54eb5bfa-4b4e-47d3-9363-a2be4fb95702",
   "metadata": {},
   "source": [
    "#### **층을 추가하는 다른 방법**"
   ]
  },
  {
   "cell_type": "markdown",
   "id": "a99da16d-fce3-4fe0-87cb-890551b0c928",
   "metadata": {
    "tags": []
   },
   "source": [
    "#### **렐루 함수**\n",
    "- 은닉층에서 사용할 수 있는 활성화 함수\n",
    "- 초창기 은닉층에 많이 사용된 활성화 함수는 시그모이드 함수였지만, 오른쪽과 왼쪽 끝으로 갈수록 그래프가 누워있다는 단점이 있음\n",
    "- 입력이 양수일 경우 그냥 입력을 통과시키고, 음수일 경우에는 0으로 만듬\n",
    "- max(0,z)"
   ]
  },
  {
   "cell_type": "markdown",
   "id": "72115e12-18f3-4a10-aae0-653f288c1680",
   "metadata": {},
   "source": [
    "#### **옵티마이저**\n",
    "- 신경망에는 하이퍼파라미터가 많음\n",
    "- 옵티마이저: 다양한 종류의 경사 하강법 알고리즘\n",
    "- 기본 알고리즘은 RMSprop임\n",
    "- 기본 경사 하강법 옵티마이저는 SGD가 있고, 적응적 학습률 옵티마이저는 RMSprop와 Adagrad가 있음\n",
    "- 옵티마이저들의 상세한 이론을 설명하는 것은 핸즈온 머신러닝 책을 참고"
   ]
  },
  {
   "cell_type": "markdown",
   "id": "46700dd9-c403-482c-bcbe-549df19c584e",
   "metadata": {},
   "source": [
    "## **<span style=\"color:purple\">신경망 모델 훈련</span>** ##\n",
    "---\n",
    "#### **손실 곡선**"
   ]
  },
  {
   "cell_type": "markdown",
   "id": "a9fa6065-3493-4806-87eb-79f75fc0ba3c",
   "metadata": {},
   "source": [
    "#### **검증 손실**\n",
    "- 인공 신경망 모델이 최적화하는 대상은 정확도가 아니라 손실 함수이기 때문에, 손실 함수의 값으로 모델이 잘 훈련되었는지 판단하는 것이 좋음"
   ]
  },
  {
   "cell_type": "markdown",
   "id": "05871b38-b594-474c-a5c0-c7553d2f6ba6",
   "metadata": {},
   "source": [
    "#### **드롭아웃**\n",
    "- 훈련 과정에서 층에 있는 일부 뉴런을 랜덤하게 꺼서(0으로 만들어서) 과대적합을 막음\n",
    "- 특정 뉴런에 과대하게 의존하는 것을 줄일 수 있음\n",
    "- 평가와 예측에 모델을 사용할 때는 드롭아웃이 적용되지 않음"
   ]
  },
  {
   "cell_type": "markdown",
   "id": "e34512df-b07d-44ae-8000-7e75724a0d0f",
   "metadata": {},
   "source": [
    "#### **모델 저장과 복원**"
   ]
  },
  {
   "cell_type": "markdown",
   "id": "7c33d1c6-ab1b-4374-b2ba-9851cfb87d28",
   "metadata": {},
   "source": [
    "#### **콜백**\n",
    "- ModelCheckpoint는 기본적으로 에포크마다 모델을 저장함\n",
    "- save_best_only=True로 가장 낮은 검증 점수를 만드는 모델을 저장할 수 있음\n",
    "- 과대적합이 시작되기 전에 훈련을 미리 종료하는 조기 종료 가능"
   ]
  }
 ],
 "metadata": {
  "kernelspec": {
   "display_name": "Python 3 (ipykernel)",
   "language": "python",
   "name": "python3"
  },
  "language_info": {
   "codemirror_mode": {
    "name": "ipython",
    "version": 3
   },
   "file_extension": ".py",
   "mimetype": "text/x-python",
   "name": "python",
   "nbconvert_exporter": "python",
   "pygments_lexer": "ipython3",
   "version": "3.10.9"
  }
 },
 "nbformat": 4,
 "nbformat_minor": 5
}
