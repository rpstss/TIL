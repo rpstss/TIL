{
 "cells": [
  {
   "cell_type": "markdown",
   "id": "73c88ce9-8480-4936-966a-1bd14b9f8ad9",
   "metadata": {},
   "source": [
    "## **<span style=\"color:purple\">합성곱 신경망의 구성 요소</span>** ##\n",
    "---\n",
    "- 7장의 밀집층에는 뉴런마다 입력 개수만큼의 가중치가 있음\n",
    "  - 가중치와 절편을 랜덤하게 초기화한 다음, 에포크를 반복하면서 경사 하강법 알고리즘을 사용하여 손실이 낮아지도록 최적의 가중치와 절편을 찾아감\n",
    "  \n",
    "- 합성곱은 입력 데이터 전체에 가중치를 적용하는 것이 아니라, 일부에 가중치를 곱함\n",
    "- 합성곱 신경망(CNN)에서는 뉴런을 필터라고 함\n",
    "- 커널은 입력에 곱하는 가중치임\n",
    "- 특성 맵: 합성곱 계산을 통해 얻은 출력\n",
    "- 이미지 처리 분야에서 뛰어난 성능을 발휘함\n",
    "- 합성곱 층을 1개 이상 사용한 인공 신경망을 합성곱 신경망이라고 함"
   ]
  },
  {
   "cell_type": "markdown",
   "id": "9c17d950-f3e3-4598-98ce-8afa714d4e6b",
   "metadata": {},
   "source": [
    "#### **케라스 합성곱 층**\n",
    "- 패딩: 입력 배열의 주위를 가상의 원소로 채우는 것 -> 출력의 크기를 설정하기 위해, 원소들이 계산에 포함되는 수를 조정\n",
    "- 세임 패딩: 입력과 특성 맵의 크기를 동일하게 만들기 위해 입력 주위에 0으로 패딩하는 것\n",
    "- 밸리드 패딩: 패딩 없이 순수한 입력 배열에서만 합성곱을 하여 특성 맵을 만드는 경우, 기본값임(\"valid\")\n",
    "- 스트라이드: 이동의 크기, 기본값은 1임(한 칸씩 이동)\n",
    "- 풀링: 합성곱 층에서 만든 특성 맵의 크기를 줄이지만, 개수는 유지함, 가중치가 없음, 풀링 크기와 스트라이드가 같음\n",
    "   - 최대 풀링: 도장을 찍은 영역에서 가장 큰 값을 고름 -> MaxPooling2D\n",
    "   - 평균 풀링: 도장을 찍은 영역에서 평균값을 계산 -> AveragePooling2D"
   ]
  },
  {
   "cell_type": "code",
   "execution_count": 1,
   "id": "1b6988ea-8fed-42b6-ac5c-59e4019d5c3a",
   "metadata": {},
   "outputs": [
    {
     "data": {
      "text/plain": [
       "<keras.layers.pooling.max_pooling2d.MaxPooling2D at 0x29f3a6c60b0>"
      ]
     },
     "execution_count": 1,
     "metadata": {},
     "output_type": "execute_result"
    }
   ],
   "source": [
    "from tensorflow import keras\n",
    "\n",
    "# 필터의 개수, 커널의 크기, 활성화 함수\n",
    "keras.layers.Conv2D(10,kernel_size=(3,3),activation=\"relu\",padding=\"same\", strides=1) \n",
    "\n",
    "# 풀링의 크기(2)-> (2,2), 패딩 매개변수는 있지만, 패딩을 하진 않음-> 매개변수를 바꾸는 일이 거의 없음\n",
    "keras.layers.MaxPooling2D(2,strides=2,padding=\"valid\")"
   ]
  },
  {
   "cell_type": "markdown",
   "id": "1b2288a7-9f63-48e8-8772-75e698d80bc4",
   "metadata": {},
   "source": [
    "#### **합성곱 신경망의 전체 구조**\n",
    "입력 -> 합성곱 층(세임 패딩) -> 풀링층 ->밀집층 -> 예측"
   ]
  },
  {
   "cell_type": "markdown",
   "id": "3f16e588-7c79-4ccc-8c40-e21851e1f604",
   "metadata": {},
   "source": [
    "#### **컬러 이미지를 사용한 합성곱**\n",
    "- 컬러 이미지는 RGB 채널로 구성되어 있기 때문에 3차원 배열임\n",
    "- 커널 크기도 3차원이어야 함, 깊이는 입력의 깊이만큼 설정함\n",
    "- 케라스는 3차원 입력을 기대함 -> 2차원 배열일 경우 깊이가 1인 3차원 배열로 변환함\n",
    "- 필터의 개수가 특성 맵의 깊이를 결정함\n",
    "- 필터가 늘어날 수록 이미지에 있는 구체적인 특징을 찾는다고 생각하면 됨. (ex.기본적인 특징 -> 구체적인 특징)"
   ]
  },
  {
   "cell_type": "markdown",
   "id": "d70d803e-6d1a-42ca-8d39-3ef0ae583cc8",
   "metadata": {},
   "source": [
    "## **<span style=\"color:purple\">합성곱 신경망을 사용한 이미지 분류</span>** ##\n",
    "---\n",
    "#### **패션 MNIST 데이터 불러오기**"
   ]
  },
  {
   "cell_type": "code",
   "execution_count": 2,
   "id": "1dcc692f-5142-43bf-8744-1d3d2a4db5dd",
   "metadata": {},
   "outputs": [],
   "source": [
    "from tensorflow import keras\n",
    "from sklearn.model_selection import train_test_split\n",
    "(train_input,train_target),(test_input,test_target)=keras.datasets.fashion_mnist.load_data()\n",
    "train_scaled=train_input.reshape(-1,28,28,1)/255.0 # 이미지마다 1의 깊이를 만듬\n",
    "train_scaled,val_scaled,train_target,val_target=train_test_split(train_scaled,\n",
    "                                                                train_target,test_size=0.2,\n",
    "                                                                random_state=42)"
   ]
  },
  {
   "cell_type": "markdown",
   "id": "6bd74372-db0d-4c83-8cda-ce468409da59",
   "metadata": {},
   "source": [
    "#### **합성곱 신경망 만들기**"
   ]
  },
  {
   "cell_type": "code",
   "execution_count": 3,
   "id": "ac498fad-2e0b-4ea5-a574-61339ef7b603",
   "metadata": {},
   "outputs": [
    {
     "name": "stdout",
     "output_type": "stream",
     "text": [
      "Model: \"sequential\"\n",
      "_________________________________________________________________\n",
      " Layer (type)                Output Shape              Param #   \n",
      "=================================================================\n",
      " conv2d_1 (Conv2D)           (None, 28, 28, 32)        320       \n",
      "                                                                 \n",
      " max_pooling2d_1 (MaxPooling  (None, 14, 14, 32)       0         \n",
      " 2D)                                                             \n",
      "                                                                 \n",
      " conv2d_2 (Conv2D)           (None, 14, 14, 64)        18496     \n",
      "                                                                 \n",
      " max_pooling2d_2 (MaxPooling  (None, 7, 7, 64)         0         \n",
      " 2D)                                                             \n",
      "                                                                 \n",
      " flatten (Flatten)           (None, 3136)              0         \n",
      "                                                                 \n",
      " dense (Dense)               (None, 100)               313700    \n",
      "                                                                 \n",
      " dropout (Dropout)           (None, 100)               0         \n",
      "                                                                 \n",
      " dense_1 (Dense)             (None, 10)                1010      \n",
      "                                                                 \n",
      "=================================================================\n",
      "Total params: 333,526\n",
      "Trainable params: 333,526\n",
      "Non-trainable params: 0\n",
      "_________________________________________________________________\n"
     ]
    }
   ],
   "source": [
    "model=keras.Sequential()\n",
    "model.add(keras.layers.Conv2D(32,kernel_size=3,activation=\"relu\",padding=\"same\",input_shape=(28,28,1)))\n",
    "model.add(keras.layers.MaxPooling2D(2)) # (14,14,32) 가 됨\n",
    "model.add(keras.layers.Conv2D(64, kernel_size=3,activation=\"relu\",padding=\"same\"))\n",
    "model.add(keras.layers.MaxPooling2D(2)) # (7,7,64) 가 됨\n",
    "model.add(keras.layers.Flatten())\n",
    "model.add(keras.layers.Dense(100,activation=\"relu\"))\n",
    "model.add(keras.layers.Dropout(0.4))\n",
    "model.add(keras.layers.Dense(10,activation=\"softmax\"))\n",
    "model.summary()"
   ]
  },
  {
   "cell_type": "code",
   "execution_count": 10,
   "id": "c5024d81-9bbb-4229-ae58-8d3c15555ce1",
   "metadata": {},
   "outputs": [
    {
     "name": "stdout",
     "output_type": "stream",
     "text": [
      "You must install pydot (`pip install pydot`) and install graphviz (see instructions at https://graphviz.gitlab.io/download/) for plot_model to work.\n"
     ]
    }
   ],
   "source": [
    "keras.utils.plot_model(model,show_shapes=True)"
   ]
  },
  {
   "cell_type": "markdown",
   "id": "d726f890-602d-4108-91d1-5ea442348467",
   "metadata": {},
   "source": [
    "#### **모델 컴파일과 훈련**"
   ]
  },
  {
   "cell_type": "code",
   "execution_count": 12,
   "id": "dbbaafaa-99c8-497a-89ae-b98cf9471dc2",
   "metadata": {},
   "outputs": [
    {
     "name": "stdout",
     "output_type": "stream",
     "text": [
      "Epoch 1/20\n",
      "1500/1500 [==============================] - 71s 46ms/step - loss: 0.5255 - accuracy: 0.8115 - val_loss: 0.3429 - val_accuracy: 0.8749\n",
      "Epoch 2/20\n",
      "1500/1500 [==============================] - 78s 52ms/step - loss: 0.3423 - accuracy: 0.8780 - val_loss: 0.2797 - val_accuracy: 0.8955\n",
      "Epoch 3/20\n",
      "1500/1500 [==============================] - 77s 51ms/step - loss: 0.2952 - accuracy: 0.8929 - val_loss: 0.2579 - val_accuracy: 0.9006\n",
      "Epoch 4/20\n",
      "1500/1500 [==============================] - 78s 52ms/step - loss: 0.2610 - accuracy: 0.9043 - val_loss: 0.2464 - val_accuracy: 0.9083\n",
      "Epoch 5/20\n",
      "1500/1500 [==============================] - 77s 51ms/step - loss: 0.2355 - accuracy: 0.9131 - val_loss: 0.2361 - val_accuracy: 0.9131\n",
      "Epoch 6/20\n",
      "1500/1500 [==============================] - 77s 52ms/step - loss: 0.2195 - accuracy: 0.9186 - val_loss: 0.2174 - val_accuracy: 0.9188\n",
      "Epoch 7/20\n",
      "1500/1500 [==============================] - 69s 46ms/step - loss: 0.1989 - accuracy: 0.9275 - val_loss: 0.2234 - val_accuracy: 0.9187\n",
      "Epoch 8/20\n",
      "1500/1500 [==============================] - 68s 45ms/step - loss: 0.1822 - accuracy: 0.9316 - val_loss: 0.2201 - val_accuracy: 0.9228\n"
     ]
    }
   ],
   "source": [
    "model.compile(optimizer=\"adam\",loss=\"sparse_categorical_crossentropy\",metrics=\"accuracy\")\n",
    "checkpoint_cb=keras.callbacks.ModelCheckpoint(\"best-cnn-model.h5\",save_best_only=True)\n",
    "early_stopping_cb=keras.callbacks.EarlyStopping(patience=2,restore_best_weights=True)\n",
    "history=model.fit(train_scaled,train_target,epochs=20,validation_data=(val_scaled,val_target),\n",
    "                 callbacks=[checkpoint_cb,early_stopping_cb])"
   ]
  },
  {
   "cell_type": "code",
   "execution_count": 13,
   "id": "e08d2990-bf3d-467c-844a-e32301f66b12",
   "metadata": {},
   "outputs": [
    {
     "data": {
      "image/png": "[encoded data removed]",
      "text/plain": [
       "<Figure size 640x480 with 1 Axes>"
      ]
     },
     "metadata": {},
     "output_type": "display_data"
    }
   ],
   "source": [
    "import matplotlib.pyplot as plt\n",
    "plt.plot(history.history[\"loss\"])\n",
    "plt.plot(history.history[\"val_loss\"])\n",
    "plt.xlabel(\"epoch\")\n",
    "plt.ylabel(\"loss\")\n",
    "plt.legend([\"train\",\"val\"])\n",
    "plt.show()"
   ]
  },
  {
   "cell_type": "code",
   "execution_count": 14,
   "id": "c6900264-c4e0-47d1-8db9-915f9ed6c06a",
   "metadata": {},
   "outputs": [
    {
     "name": "stdout",
     "output_type": "stream",
     "text": [
      "375/375 [==============================] - 6s 14ms/step - loss: 0.2174 - accuracy: 0.9188\n"
     ]
    },
    {
     "data": {
      "text/plain": [
       "[0.2174406498670578, 0.918833315372467]"
      ]
     },
     "execution_count": 14,
     "metadata": {},
     "output_type": "execute_result"
    }
   ],
   "source": [
    "model.evaluate(val_scaled,val_target)"
   ]
  },
  {
   "cell_type": "code",
   "execution_count": 15,
   "id": "9c6f471b-2ca5-491b-a4be-166fbfcc5981",
   "metadata": {},
   "outputs": [
    {
     "data": {
      "image/png": "[encoded data removed]",
      "text/plain": [
       "<Figure size 640x480 with 1 Axes>"
      ]
     },
     "metadata": {},
     "output_type": "display_data"
    }
   ],
   "source": [
    "plt.imshow(val_scaled[0].reshape(28,28),cmap=\"gray_r\")\n",
    "plt.show()"
   ]
  },
  {
   "cell_type": "code",
   "execution_count": 16,
   "id": "59fa9b1b-91d2-4b70-97ec-ce75f3df2cf1",
   "metadata": {},
   "outputs": [
    {
     "name": "stdout",
     "output_type": "stream",
     "text": [
      "1/1 [==============================] - 0s 386ms/step\n",
      "[[1.68868168e-16 8.19045879e-23 8.54850168e-22 2.44481502e-17\n",
      "  2.41841245e-20 1.17347365e-17 3.08440968e-18 4.76336323e-17\n",
      "  1.00000000e+00 1.53989253e-16]]\n"
     ]
    }
   ],
   "source": [
    "preds=model.predict(val_scaled[0:1]) # 입력의 첫번 째 차원이 배치 차원일 것으로 기대하기 떄문에, (1,28,28,1)의 크기를 전달\n",
    "print(preds)"
   ]
  },
  {
   "cell_type": "code",
   "execution_count": 17,
   "id": "0ca4f71d-1f05-47a8-859e-219441870258",
   "metadata": {},
   "outputs": [
    {
     "data": {
      "image/png": "[encoded data removed]",
      "text/plain": [
       "<Figure size 640x480 with 1 Axes>"
      ]
     },
     "metadata": {},
     "output_type": "display_data"
    }
   ],
   "source": [
    "plt.bar(range(1,11),preds[0])\n",
    "plt.xlabel(\"class\")\n",
    "plt.ylabel(\"prob\")\n",
    "plt.show()"
   ]
  },
  {
   "cell_type": "code",
   "execution_count": 18,
   "id": "461f6584-4849-4604-8c2f-ff01c53ca350",
   "metadata": {},
   "outputs": [],
   "source": [
    "classes=[\"티셔츠\",\"바지\",\"스웨터\",\"드레스\",\"코트\",\"샌달\",\"셔츠\",\"스니커즈\",\"가방\",\"앵클 부츠\"]"
   ]
  },
  {
   "cell_type": "code",
   "execution_count": 20,
   "id": "5ca7329b-eb1b-49cd-a452-06fa1f150b97",
   "metadata": {},
   "outputs": [
    {
     "name": "stdout",
     "output_type": "stream",
     "text": [
      "가방\n"
     ]
    }
   ],
   "source": [
    "import numpy as np\n",
    "print(classes[np.argmax(preds)])"
   ]
  },
  {
   "cell_type": "code",
   "execution_count": 22,
   "id": "a7634872-df5c-41eb-8e5d-c4b97f90bfc7",
   "metadata": {},
   "outputs": [
    {
     "name": "stdout",
     "output_type": "stream",
     "text": [
      "313/313 [==============================] - 6s 16ms/step - loss: 0.2439 - accuracy: 0.9147\n"
     ]
    },
    {
     "data": {
      "text/plain": [
       "[0.2439393848180771, 0.9146999716758728]"
      ]
     },
     "execution_count": 22,
     "metadata": {},
     "output_type": "execute_result"
    }
   ],
   "source": [
    "test_scaled=test_input.reshape(-1,28,28,1)/255.0\n",
    "model.evaluate(test_scaled,test_target)"
   ]
  },
  {
   "cell_type": "markdown",
   "id": "e39ce9ee-7f9e-4b44-8340-860eb11e6dbd",
   "metadata": {},
   "source": [
    "## **<span style=\"color:purple\">합성곱 신경망의 시각화</span>** ##\n",
    "---\n",
    "#### **가중치 시각화**"
   ]
  },
  {
   "cell_type": "code",
   "execution_count": 24,
   "id": "5ac8c501-c266-440f-bc8f-9082915f762a",
   "metadata": {},
   "outputs": [
    {
     "ename": "UnicodeDecodeError",
     "evalue": "'utf-8' codec can't decode byte 0xc4 in position 17: invalid continuation byte",
     "output_type": "error",
     "traceback": [
      "\u001b[1;31m---------------------------------------------------------------------------\u001b[0m",
      "\u001b[1;31mUnicodeDecodeError\u001b[0m                        Traceback (most recent call last)",
      "Cell \u001b[1;32mIn[24], line 2\u001b[0m\n\u001b[0;32m      1\u001b[0m \u001b[38;5;28;01mfrom\u001b[39;00m \u001b[38;5;21;01mtensorflow\u001b[39;00m \u001b[38;5;28;01mimport\u001b[39;00m keras\n\u001b[1;32m----> 2\u001b[0m model\u001b[38;5;241m=\u001b[39m\u001b[43mkeras\u001b[49m\u001b[38;5;241;43m.\u001b[39;49m\u001b[43mmodels\u001b[49m\u001b[38;5;241;43m.\u001b[39;49m\u001b[43mload_model\u001b[49m\u001b[43m(\u001b[49m\u001b[38;5;124;43m\"\u001b[39;49m\u001b[38;5;124;43mbest-cnn-model.h5\u001b[39;49m\u001b[38;5;124;43m\"\u001b[39;49m\u001b[43m)\u001b[49m\n",
      "File \u001b[1;32m~\\anaconda3\\lib\\site-packages\\keras\\saving\\saving_api.py:212\u001b[0m, in \u001b[0;36mload_model\u001b[1;34m(filepath, custom_objects, compile, safe_mode, **kwargs)\u001b[0m\n\u001b[0;32m    204\u001b[0m     \u001b[38;5;28;01mreturn\u001b[39;00m saving_lib\u001b[38;5;241m.\u001b[39mload_model(\n\u001b[0;32m    205\u001b[0m         filepath,\n\u001b[0;32m    206\u001b[0m         custom_objects\u001b[38;5;241m=\u001b[39mcustom_objects,\n\u001b[0;32m    207\u001b[0m         \u001b[38;5;28mcompile\u001b[39m\u001b[38;5;241m=\u001b[39m\u001b[38;5;28mcompile\u001b[39m,\n\u001b[0;32m    208\u001b[0m         safe_mode\u001b[38;5;241m=\u001b[39msafe_mode,\n\u001b[0;32m    209\u001b[0m     )\n\u001b[0;32m    211\u001b[0m \u001b[38;5;66;03m# Legacy case.\u001b[39;00m\n\u001b[1;32m--> 212\u001b[0m \u001b[38;5;28;01mreturn\u001b[39;00m legacy_sm_saving_lib\u001b[38;5;241m.\u001b[39mload_model(\n\u001b[0;32m    213\u001b[0m     filepath, custom_objects\u001b[38;5;241m=\u001b[39mcustom_objects, \u001b[38;5;28mcompile\u001b[39m\u001b[38;5;241m=\u001b[39m\u001b[38;5;28mcompile\u001b[39m, \u001b[38;5;241m*\u001b[39m\u001b[38;5;241m*\u001b[39mkwargs\n\u001b[0;32m    214\u001b[0m )\n",
      "File \u001b[1;32m~\\anaconda3\\lib\\site-packages\\keras\\utils\\traceback_utils.py:70\u001b[0m, in \u001b[0;36mfilter_traceback.<locals>.error_handler\u001b[1;34m(*args, **kwargs)\u001b[0m\n\u001b[0;32m     67\u001b[0m     filtered_tb \u001b[38;5;241m=\u001b[39m _process_traceback_frames(e\u001b[38;5;241m.\u001b[39m__traceback__)\n\u001b[0;32m     68\u001b[0m     \u001b[38;5;66;03m# To get the full stack trace, call:\u001b[39;00m\n\u001b[0;32m     69\u001b[0m     \u001b[38;5;66;03m# `tf.debugging.disable_traceback_filtering()`\u001b[39;00m\n\u001b[1;32m---> 70\u001b[0m     \u001b[38;5;28;01mraise\u001b[39;00m e\u001b[38;5;241m.\u001b[39mwith_traceback(filtered_tb) \u001b[38;5;28;01mfrom\u001b[39;00m \u001b[38;5;28;01mNone\u001b[39;00m\n\u001b[0;32m     71\u001b[0m \u001b[38;5;28;01mfinally\u001b[39;00m:\n\u001b[0;32m     72\u001b[0m     \u001b[38;5;28;01mdel\u001b[39;00m filtered_tb\n",
      "File \u001b[1;32m~\\anaconda3\\lib\\site-packages\\tensorflow\\python\\lib\\io\\file_io.py:703\u001b[0m, in \u001b[0;36mis_directory_v2\u001b[1;34m(path)\u001b[0m\n\u001b[0;32m    694\u001b[0m \u001b[38;5;250m\u001b[39m\u001b[38;5;124;03m\"\"\"Returns whether the path is a directory or not.\u001b[39;00m\n\u001b[0;32m    695\u001b[0m \n\u001b[0;32m    696\u001b[0m \u001b[38;5;124;03mArgs:\u001b[39;00m\n\u001b[1;32m   (...)\u001b[0m\n\u001b[0;32m    700\u001b[0m \u001b[38;5;124;03m  True, if the path is a directory; False otherwise\u001b[39;00m\n\u001b[0;32m    701\u001b[0m \u001b[38;5;124;03m\"\"\"\u001b[39;00m\n\u001b[0;32m    702\u001b[0m \u001b[38;5;28;01mtry\u001b[39;00m:\n\u001b[1;32m--> 703\u001b[0m   \u001b[38;5;28;01mreturn\u001b[39;00m _pywrap_file_io\u001b[38;5;241m.\u001b[39mIsDirectory(compat\u001b[38;5;241m.\u001b[39mpath_to_bytes(path))\n\u001b[0;32m    704\u001b[0m \u001b[38;5;28;01mexcept\u001b[39;00m errors\u001b[38;5;241m.\u001b[39mOpError:\n\u001b[0;32m    705\u001b[0m   \u001b[38;5;28;01mreturn\u001b[39;00m \u001b[38;5;28;01mFalse\u001b[39;00m\n",
      "\u001b[1;31mUnicodeDecodeError\u001b[0m: 'utf-8' codec can't decode byte 0xc4 in position 17: invalid continuation byte"
     ]
    }
   ],
   "source": [
    "from tensorflow import keras\n",
    "model=keras.models.load_model(\"best-cnn-model.h5\")"
   ]
  },
  {
   "cell_type": "code",
   "execution_count": 28,
   "id": "b5e815b3-878c-4af6-94b6-9934f5498d62",
   "metadata": {},
   "outputs": [
    {
     "data": {
      "text/plain": [
       "'\\nimport h5py\\nfrom tensorflow import keras\\n\\nmodel_path = \"best-cnn-model.h5\"\\n\\n# HDF5 파일 형식으로 저장된 모델을 로드합니다.\\nwith h5py.File(model_path, \\'r\\') as f:\\n    model = keras.models.load_model(f)\\n'"
      ]
     },
     "execution_count": 28,
     "metadata": {},
     "output_type": "execute_result"
    }
   ],
   "source": [
    "'''\n",
    "import h5py\n",
    "from tensorflow import keras\n",
    "\n",
    "model_path = \"best-cnn-model.h5\"\n",
    "\n",
    "# HDF5 파일 형식으로 저장된 모델을 로드합니다.\n",
    "with h5py.File(model_path, 'r') as f:\n",
    "    model = keras.models.load_model(f)\n",
    "'''"
   ]
  },
  {
   "cell_type": "code",
   "execution_count": 25,
   "id": "9acb2cf8-d489-4ba1-9cd2-4e0e17459783",
   "metadata": {},
   "outputs": [
    {
     "data": {
      "text/plain": [
       "[<keras.layers.convolutional.conv2d.Conv2D at 0x29f131ec970>,\n",
       " <keras.layers.pooling.max_pooling2d.MaxPooling2D at 0x29f3c1ebeb0>,\n",
       " <keras.layers.convolutional.conv2d.Conv2D at 0x29f3c22c580>,\n",
       " <keras.layers.pooling.max_pooling2d.MaxPooling2D at 0x29f3c22f460>,\n",
       " <keras.layers.reshaping.flatten.Flatten at 0x29f3c22f640>,\n",
       " <keras.layers.core.dense.Dense at 0x29f3c2a8e20>,\n",
       " <keras.layers.regularization.dropout.Dropout at 0x29f3c2a9b70>,\n",
       " <keras.layers.core.dense.Dense at 0x29f3c2a8670>]"
      ]
     },
     "execution_count": 25,
     "metadata": {},
     "output_type": "execute_result"
    }
   ],
   "source": [
    "model.layers"
   ]
  },
  {
   "cell_type": "code",
   "execution_count": 31,
   "id": "bea20756-7103-42ec-a21c-8947f04f32ce",
   "metadata": {},
   "outputs": [
    {
     "name": "stdout",
     "output_type": "stream",
     "text": [
      "(3, 3, 1, 32) (32,)\n"
     ]
    }
   ],
   "source": [
    "conv=model.layers[0]\n",
    "print(conv.weights[0].shape,conv.weights[1].shape) # 가중치, 절편"
   ]
  },
  {
   "cell_type": "code",
   "execution_count": 32,
   "id": "619e5a8f-06f8-433e-9e46-241625c40bc6",
   "metadata": {},
   "outputs": [
    {
     "name": "stdout",
     "output_type": "stream",
     "text": [
      "-0.025146544 0.22683468\n"
     ]
    }
   ],
   "source": [
    "conv_weights=conv.weights[0].numpy()\n",
    "print(conv_weights.mean(),conv_weights.std())"
   ]
  },
  {
   "cell_type": "code",
   "execution_count": 33,
   "id": "a78d8ae3-71b3-45f8-86fd-12ba93984254",
   "metadata": {},
   "outputs": [
    {
     "data": {
      "image/png": "[encoded data removed]",
      "text/plain": [
       "<Figure size 640x480 with 1 Axes>"
      ]
     },
     "metadata": {},
     "output_type": "display_data"
    }
   ],
   "source": [
    "plt.hist(conv_weights.reshape(-1,1))\n",
    "plt.xlabel('weight')\n",
    "plt.ylabel(\"count\")\n",
    "plt.show()"
   ]
  },
  {
   "cell_type": "code",
   "execution_count": 35,
   "id": "b1ee315d-6498-4ced-84c4-ddab91e9bca4",
   "metadata": {},
   "outputs": [
    {
     "data": {
      "image/png": "[encoded data removed]",
      "text/plain": [
       "<Figure size 1500x200 with 32 Axes>"
      ]
     },
     "metadata": {},
     "output_type": "display_data"
    }
   ],
   "source": [
    "fig,axs=plt.subplots(2,16,figsize=(15,2))\n",
    "for i in range(2):\n",
    "    for j in range(16):\n",
    "        axs[i,j].imshow(conv_weights[:,:,0,i*16+j],vmin=-0.5,vmax=0.5)\n",
    "        axs[i,j].axis(\"off\")\n",
    "plt.show()"
   ]
  },
  {
   "cell_type": "code",
   "execution_count": 37,
   "id": "27b05985-5e5f-4d78-9aae-80c6749315ba",
   "metadata": {},
   "outputs": [],
   "source": [
    "no_training_model=keras.Sequential()\n",
    "no_training_model.add(keras.layers.Conv2D(32,kernel_size=3,activation=\"relu\",padding=\"same\",input_shape=(28,28,1)))"
   ]
  },
  {
   "cell_type": "code",
   "execution_count": 38,
   "id": "272150b8-c5db-45f8-b93b-af839bdfe19f",
   "metadata": {},
   "outputs": [
    {
     "name": "stdout",
     "output_type": "stream",
     "text": [
      "(3, 3, 1, 32)\n"
     ]
    }
   ],
   "source": [
    "no_training_conv=no_training_model.layers[0]\n",
    "print(no_training_conv.weights[0].shape)"
   ]
  },
  {
   "cell_type": "code",
   "execution_count": 42,
   "id": "c31a065a-f801-4b51-b127-690a9d2b7d65",
   "metadata": {},
   "outputs": [
    {
     "name": "stdout",
     "output_type": "stream",
     "text": [
      "-0.0042016828 0.08256909\n"
     ]
    }
   ],
   "source": [
    "no_training_weights=no_training_conv.weights[0].numpy()\n",
    "print(no_training_weights.mean(),no_training_weights.std())"
   ]
  },
  {
   "cell_type": "code",
   "execution_count": 43,
   "id": "4c13487a-7d93-42b7-8dd4-f67999fd0e7c",
   "metadata": {},
   "outputs": [
    {
     "data": {
      "image/png": "[encoded data removed]",
      "text/plain": [
       "<Figure size 640x480 with 1 Axes>"
      ]
     },
     "metadata": {},
     "output_type": "display_data"
    }
   ],
   "source": [
    "plt.hist(no_training_weights.reshape(-1,1))\n",
    "plt.xlabel('weight')\n",
    "plt.ylabel(\"count\")\n",
    "plt.show()"
   ]
  },
  {
   "cell_type": "code",
   "execution_count": 44,
   "id": "957328bb-cb6e-4594-acf0-6522aa04ae2e",
   "metadata": {},
   "outputs": [
    {
     "data": {
      "image/png": "[encoded data removed]",
      "text/plain": [
       "<Figure size 1500x200 with 32 Axes>"
      ]
     },
     "metadata": {},
     "output_type": "display_data"
    }
   ],
   "source": [
    "fig,axs=plt.subplots(2,16,figsize=(15,2))\n",
    "for i in range(2):\n",
    "    for j in range(16):\n",
    "        axs[i,j].imshow(no_training_weights[:,:,0,i*16+j],vmin=-0.5,vmax=0.5)\n",
    "        axs[i,j].axis(\"off\")\n",
    "plt.show()"
   ]
  },
  {
   "cell_type": "markdown",
   "id": "fae8d807-a98f-4c03-847e-57d88d5dccba",
   "metadata": {},
   "source": [
    "#### **함수형 API**\n",
    "- 딥러닝에서 좀 더 복잡한 모델을 만들 때는 Sequential 클래스를 사용하기 어려움"
   ]
  },
  {
   "cell_type": "code",
   "execution_count": 47,
   "id": "e42d0f7b-3153-49e3-81e1-e673707f4c7c",
   "metadata": {},
   "outputs": [
    {
     "name": "stdout",
     "output_type": "stream",
     "text": [
      "KerasTensor(type_spec=TensorSpec(shape=(None, 784), dtype=tf.float32, name='input_2'), name='input_2', description=\"created by layer 'input_2'\")\n"
     ]
    }
   ],
   "source": [
    "dense1=keras.layers.Dense(100,activation=\"sigmoid\")\n",
    "dense2=keras.layers.Dense(10,activation=\"softmax\")\n",
    "\n",
    "inputs=keras.Input(shape=(784,))\n",
    "hidden=dense1(inputs)\n",
    "outputs=dense2(hidden)\n",
    "\n",
    "model=keras.Model(inputs,outputs)\n",
    "\n",
    "print(model.input)"
   ]
  },
  {
   "cell_type": "markdown",
   "id": "9690869b-e568-4b7e-8c2b-00664112159c",
   "metadata": {},
   "source": [
    "#### **특성 맵 시각화**\n",
    "- 이해하기 힘듬...이 부분은 추후 다시 공부할 것"
   ]
  }
 ],
 "metadata": {
  "kernelspec": {
   "display_name": "Python 3 (ipykernel)",
   "language": "python",
   "name": "python3"
  },
  "language_info": {
   "codemirror_mode": {
    "name": "ipython",
    "version": 3
   },
   "file_extension": ".py",
   "mimetype": "text/x-python",
   "name": "python",
   "nbconvert_exporter": "python",
   "pygments_lexer": "ipython3",
   "version": "3.10.9"
  }
 },
 "nbformat": 4,
 "nbformat_minor": 5
}
