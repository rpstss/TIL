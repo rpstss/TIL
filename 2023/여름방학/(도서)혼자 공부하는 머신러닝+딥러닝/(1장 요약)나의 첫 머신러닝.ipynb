{
 "cells": [
  {
   "cell_type": "markdown",
   "id": "514d3a58-88a7-4b2d-a1fc-4024b6fbc4da",
   "metadata": {},
   "source": [
    "## **<span style=\"color:purple\">인공지능과 머신러닝, 딥러닝</span>** ##\n",
    "---\n",
    "#### **인공지능이란** ####\n",
    "- 사람처럼 학습하고 추론할 수 있는 지능을 가진 컴퓨터 시스템\n",
    "- 강인공지능(인공일반지능)과 약인공지능으로 구분됨   \n",
    "\n",
    "#### **머신러닝이란** ####\n",
    "- 규칙을 일일이 프로그래밍하지 않아도 자동으로 데이터에서 규칙을 학습하는 알고리즘을 연구하는 분야\n",
    "- 통계학과 깊은 관련이 있음\n",
    "- 하지만 최근 머신러닝의 발전은 통계나 수학 이론보다 경험을 바탕으로 발전하는 경우도 많음. 이는 컴퓨터 과학 분야가 이런 발전을 주도함\n",
    "- 대표적인 라이브러리로 사이킷런이 있음\n",
    "\n",
    "#### **딥러닝이란** ####\n",
    "- 머신러닝 알고리즘 중에 인공 신경망을 기반으로 한 방법들을 통칭하여 딥러닝이라고 함\n",
    "- 대표적인 라이브러리로 텐서플로와 파이토치가 있음"
   ]
  },
  {
   "cell_type": "markdown",
   "id": "9701d655-e509-481c-862f-b92c1b4473f1",
   "metadata": {},
   "source": [
    "## **<span style=\"color:purple\">마켓과 머신러닝</span>** ##\n",
    "---\n",
    "#### **생선 분류 문제** ####\n",
    "- 이진 분류: 2개의 클래스(종류) 중 하나를 고르는 문제\n",
    "- 특성: 데이터의 특징\n",
    "- 선형적: 산점도 그래프가 일직선에 가까운 형태로 나타나는 경우"
   ]
  },
  {
   "cell_type": "markdown",
   "id": "a2cc7ad8-5e3f-410d-8925-42e06c3dd8ba",
   "metadata": {},
   "source": [
    "#### **첫 번째 머신러닝 프로그램**"
   ]
  },
  {
   "cell_type": "markdown",
   "id": "fcc8d42a-0d84-4331-8058-af75fc5bd7cc",
   "metadata": {},
   "source": [
    "**k-최근접 이웃 알고리즘**\n",
    "- 주위의 다른 데이터를 보고 다수를 차지하는 것을 정답으로 사용함\n",
    "- 데이터가 아주 많은 경우에는 사용하기 어려움. 메모리가 많이 필요하고 직선거리를 계산하는 데도 많은 시간이 필요하기 때문\n",
    "- 정확도: (정확히 맞힌 개수) / (전제 데이터 개수)"
   ]
  }
 ],
 "metadata": {
  "kernelspec": {
   "display_name": "Python 3 (ipykernel)",
   "language": "python",
   "name": "python3"
  },
  "language_info": {
   "codemirror_mode": {
    "name": "ipython",
    "version": 3
   },
   "file_extension": ".py",
   "mimetype": "text/x-python",
   "name": "python",
   "nbconvert_exporter": "python",
   "pygments_lexer": "ipython3",
   "version": "3.10.9"
  }
 },
 "nbformat": 4,
 "nbformat_minor": 5
}
