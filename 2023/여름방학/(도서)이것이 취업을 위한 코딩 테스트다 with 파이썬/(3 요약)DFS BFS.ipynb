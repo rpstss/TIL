{
 "cells": [
  {
   "cell_type": "markdown",
   "id": "a4297468-ff33-4f71-8772-a39581e345b4",
   "metadata": {},
   "source": [
    "## **<span style=\"color:blue\">자료 구조</span>** \n",
    "---\n",
    "- 탐색: 많은 양의 데이터 중에서 원하는 데이터를 찾는 과정\n",
    "- 자료 구조: 데이터를 표현하고 관리하고 처리하기 위한 구조"
   ]
  },
  {
   "cell_type": "markdown",
   "id": "ab00d2d9-7e38-4ee3-9c30-2b0a113faed6",
   "metadata": {},
   "source": [
    "#### **스택**\n",
    "- 선입후출의 방식\n",
    "- 박스 쌓기에 비유할 수 있음\n",
    "- 파이썬에서 스택을 이용할 때에는 별도의 라이브러리를 사용할 필요가 없음"
   ]
  },
  {
   "cell_type": "markdown",
   "id": "2da71a5b-0d17-4452-a60a-330407578087",
   "metadata": {},
   "source": [
    "#### **큐**\n",
    "- 선입선출의 방식\n",
    "- 대기 줄에 비유할 수 있음\n",
    "- collections의 deque 라이브러리를 사용함\n",
    "- queue = deque() 방식으로 객체 생성\n",
    "- append, popleft 메소드 사용용"
   ]
  },
  {
   "cell_type": "markdown",
   "id": "54d53497-87d8-47c1-a436-42a0bab74586",
   "metadata": {},
   "source": [
    "#### **재귀 함수**\n",
    "- 재귀 함수: 자기 자신을 다시 호출하는 함수\n",
    "- 재귀 함수의 예시    \n",
    "\n",
    "```python\n",
    "def recursive_function():\n",
    "    print(\"재귀 함수를 호출합니다.\")\n",
    "    recursive_function()\n",
    "    \n",
    "recursive_function()\n",
    "```\n",
    "- 컴퓨터 내부적으로 스택 자료구조와 같음\n",
    "- 점화식을 그대로 소스코드로 옮김"
   ]
  },
  {
   "cell_type": "markdown",
   "id": "fd7862d2-dea9-4642-beb3-0840f060ed60",
   "metadata": {},
   "source": [
    "## **<span style=\"color:blue\">DFS</span>** \n",
    "---\n",
    "- 깊이 우선 탐색, 그래프에서 깊은 부분을 우선적으로 탐색하는 알고리즘\n",
    "\n",
    "1. 탐색 시작 노드를 스택에 삽입하고 방문 처리를 한다.\n",
    "2. 스택이 최상단 노드에 방문하지 않은 인접 노드가 있으면, 그 인접 노드를 스택에 넣고 방문 처리를 한다. 방문하지 않은 인접 노드가 없으면 스택에서 최상단 노드를 꺼낸다.\n",
    "3. 2번의 과정을 더 이상 수행할 수 없을 때까지 반복한다.\n",
    "\n",
    "- 관행적으로 번호가 낮은 노드부터 방문 처리함\n",
    "\n",
    "- 스택 자료구조를 사용하지만, 실제로 스택을 작성하진 않아도 됨\n",
    "\n",
    "- 재귀 함수 이용\n",
    "\n",
    "- 인접 행렬: 2차원 배열로 그래프의 연결 관계를 표현하는 방식\n",
    "   - 무한 비용: 연결이 되어 있지 않는 노드끼리는 무한의 비용이라 작성함\n",
    "   - 인접 행렬 방식 예제\n",
    "   - ```python\n",
    "     INF = 9999999\n",
    "     \n",
    "     graph = [\n",
    "         [0,7,5],\n",
    "         [7,0,INF],\n",
    "         [5,INF,0]\n",
    "     ]\n",
    "     ```\n",
    "\n",
    "      \n",
    "- 인접 리스트: 리스트로 그래프의 연결 관계를 표현하는 방식\n",
    "   - 인접 리스트 방식 예제\n",
    "   - ```python\n",
    "     graph=[[] for _ in range(3)]\n",
    "     graph[0].append((1,7)) # 노드, 거리\n",
    "     graph[0].append((2,5))\n",
    "     \n",
    "     graph[1].append((0,7))\n",
    "     \n",
    "     graph[2].append((0,5))\n",
    "     ```"
   ]
  },
  {
   "cell_type": "code",
   "execution_count": 2,
   "id": "46c97b21-7e72-4d4a-a32f-5b49b84de1b0",
   "metadata": {},
   "outputs": [
    {
     "name": "stdout",
     "output_type": "stream",
     "text": [
      "1 2 7 6 8 3 4 5 "
     ]
    }
   ],
   "source": [
    "# DFS 예제\n",
    "def dfs(graph,v,visited):\n",
    "    # 현재 노드를 방문 처리\n",
    "    visited[v]=True\n",
    "    print(v,end=\" \")\n",
    "    # 현재 노드와 연결된 다른 노드를 재귀적으로 방문\n",
    "    for i in graph[v]:\n",
    "        if not visited[i]:\n",
    "            dfs(graph,i,visited)\n",
    "            \n",
    "graph=[\n",
    "    [],\n",
    "    [2,3,8],\n",
    "    [1,7],\n",
    "    [1,4,5],\n",
    "    [3,5],\n",
    "    [3,4],\n",
    "    [7],\n",
    "    [2,6,8],\n",
    "    [1,7]\n",
    "]\n",
    "\n",
    "visited=[False]*9\n",
    "\n",
    "dfs(graph, 1, visited)"
   ]
  },
  {
   "cell_type": "markdown",
   "id": "ab7944d1-6675-4247-9399-2ff94e64385b",
   "metadata": {},
   "source": [
    "## **<span style=\"color:blue\">BFS</span>** \n",
    "---\n",
    "- 너비 우선 탐색, 가까운 노드부터 탐색하는 알고리즘\n",
    "\n",
    "- DFS와 BFS 모두 O(N)의 시간이 소요되지만, BFS가 조금 더 수행 시간이 좋은 편임\n",
    "\n",
    "- 큐 자료구조를 사용함\n",
    "\n",
    "\n",
    "1. 탐색 시작 노드를 큐에 삽입하고 방문 처리를 한다.\n",
    "2. 큐에서 노드를 꺼내 해당 노드의 인접 노드 중에서 방문하지 않은 노드를 모두 큐에 삽입하고 방문 처리를 한다.\n",
    "3. 2번의 과정을 더 이상 수행할 수 없을 때까지 반복한다."
   ]
  },
  {
   "cell_type": "code",
   "execution_count": 4,
   "id": "ed3bc367-4f02-459e-b1cf-aa6a6bf29013",
   "metadata": {},
   "outputs": [
    {
     "name": "stdout",
     "output_type": "stream",
     "text": [
      "1 2 3 8 7 4 5 6 "
     ]
    }
   ],
   "source": [
    "# BFS 예제\n",
    "from collections import deque\n",
    "\n",
    "def bfs(graph,start,visited):\n",
    "    queue=deque([start])\n",
    "    visited[start]=True\n",
    "    # 큐가 빌 때까지 반복\n",
    "    while queue:\n",
    "        v=queue.popleft()\n",
    "        print(v,end=\" \")\n",
    "        \n",
    "        for i in graph[v]:\n",
    "            if not visited[i]:\n",
    "                queue.append(i)\n",
    "                visited[i]=True\n",
    "                \n",
    "graph=[\n",
    "    [],\n",
    "    [2,3,8],\n",
    "    [1,7],\n",
    "    [1,4,5],\n",
    "    [3,5],\n",
    "    [3,4],\n",
    "    [7],\n",
    "    [2,6,8],\n",
    "    [1,7]\n",
    "]\n",
    "\n",
    "visited=[False]*9\n",
    "bfs(graph,1,visited)"
   ]
  },
  {
   "cell_type": "markdown",
   "id": "1b541578-e202-44c3-8268-85d6a2bd4c5b",
   "metadata": {},
   "source": [
    "---"
   ]
  },
  {
   "cell_type": "markdown",
   "id": "14e5c647-043b-4eb5-a46a-27b86c0b8c93",
   "metadata": {},
   "source": [
    "#### **(예제 1) 음료수 얼려 먹기**\n",
    " 3 3     \n",
    " 001    \n",
    " 010    \n",
    " 101    \n",
    "3"
   ]
  },
  {
   "cell_type": "code",
   "execution_count": 1,
   "id": "d5d58a8d-4d8f-4014-b1fa-c186f7c951bd",
   "metadata": {},
   "outputs": [
    {
     "name": "stdout",
     "output_type": "stream",
     "text": [
      "??\n"
     ]
    }
   ],
   "source": [
    "# 나의 코드\n",
    "print(\"??\")"
   ]
  },
  {
   "cell_type": "markdown",
   "id": "515f6d02-9b1f-49d1-9ae0-2a1fa9c89ae5",
   "metadata": {},
   "source": [
    "#### **(예제 2) 미로 탈출**\n",
    " 5 6    \n",
    " 101010    \n",
    " 111111    \n",
    " 000001    \n",
    " 111111            \n",
    " 111111   \n",
    "10"
   ]
  },
  {
   "cell_type": "code",
   "execution_count": 7,
   "id": "1249992a-91f2-42cc-b8f0-d423432ac206",
   "metadata": {},
   "outputs": [
    {
     "name": "stdout",
     "output_type": "stream",
     "text": [
      "??\n"
     ]
    }
   ],
   "source": [
    "# 나의 코드\n",
    "print(\"??\")"
   ]
  }
 ],
 "metadata": {
  "kernelspec": {
   "display_name": "Python 3 (ipykernel)",
   "language": "python",
   "name": "python3"
  },
  "language_info": {
   "codemirror_mode": {
    "name": "ipython",
    "version": 3
   },
   "file_extension": ".py",
   "mimetype": "text/x-python",
   "name": "python",
   "nbconvert_exporter": "python",
   "pygments_lexer": "ipython3",
   "version": "3.10.9"
  }
 },
 "nbformat": 4,
 "nbformat_minor": 5
}
