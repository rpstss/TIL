{
 "cells": [
  {
   "cell_type": "markdown",
   "id": "370e5e4a-9d79-40a5-a291-e5e2f6dc3cb0",
   "metadata": {
    "tags": []
   },
   "source": [
    "## **<span style=\"color:blue\">그리디</span>** \n",
    "---\n",
    "- 어떠한 문제가 있을 때 단순 무식하게, 탐욕적으로 푸는 알고리즘\n",
    "- 현재 상황에서 지금 당장 좋은 것만 고르는 방법\n",
    "- 현재의 선택이 나중에 미칠 영향에 대해서는 고려하지 않음\n",
    "- 사전에 외우고 있지 않아도 풀 수 있을 가능성이 높은 문제 유형\n",
    "- '가장 큰 순서대로', '가장 작은 순서대로'와 같은 기준이 주어지는 경우가 많음\n",
    "- 그리디 알고리즘으로 문제의 해법을 찾았을 때는 그 해법이 정당한지 검토해야 함\n",
    "- 문제의 유형을 파악하기 어렵다면 그리디 알고리즘을 의심해보자\n",
    "---"
   ]
  },
  {
   "cell_type": "markdown",
   "id": "b69a3f5f-6a4d-4bae-867c-c0740303f80e",
   "metadata": {},
   "source": [
    "#### **(예제 1) 큰수의 법칙**\n",
    " 5 8 3  \n",
    " 2 4 5 4 6   \n",
    "46   "
   ]
  },
  {
   "cell_type": "code",
   "execution_count": 2,
   "id": "571fdbbb-d732-4800-b654-42318f8efbf9",
   "metadata": {},
   "outputs": [
    {
     "name": "stdin",
     "output_type": "stream",
     "text": [
      " 5 8 3\n",
      " 2 4 5 4 6\n"
     ]
    },
    {
     "name": "stdout",
     "output_type": "stream",
     "text": [
      "46\n"
     ]
    }
   ],
   "source": [
    "# 나의 코드\n",
    "N, M, K = map(int,input().split())\n",
    "a=list(map(int,input().split()))\n",
    "a.sort()\n",
    "result=0\n",
    "\n",
    "count=0\n",
    "for _ in range(M):\n",
    "    if count==K:\n",
    "        result+=a[-2]\n",
    "        count=0\n",
    "    else:\n",
    "        result+=a[-1]\n",
    "        count+=1\n",
    "\n",
    "print(result)"
   ]
  },
  {
   "cell_type": "markdown",
   "id": "09edc19f-a01c-488c-b0e3-3ca9a8619264",
   "metadata": {},
   "source": [
    "#### **(예제 2) 숫자 카드 게임**\n",
    " 2 4    \n",
    " 7 3 1 8   \n",
    " 3 3 3 4    \n",
    "3   "
   ]
  },
  {
   "cell_type": "code",
   "execution_count": 15,
   "id": "e3c2f431-018f-48f5-827f-99ab8c56888d",
   "metadata": {},
   "outputs": [
    {
     "name": "stdin",
     "output_type": "stream",
     "text": [
      " 2 4\n",
      " 7 3 1 8\n",
      " 3 3 3 4\n"
     ]
    },
    {
     "name": "stdout",
     "output_type": "stream",
     "text": [
      "3\n"
     ]
    }
   ],
   "source": [
    "# 나의 코드\n",
    "N,M=map(int,input().split())\n",
    "a_min=[]\n",
    "for _ in range(N): # 행의 개수만큼\n",
    "    a_min.append(min(list(map(int,input().split()))))\n",
    "    \n",
    "print(max(a_min))"
   ]
  },
  {
   "cell_type": "markdown",
   "id": "59eb174b-6e67-4fba-bbe6-6f93a2ade35f",
   "metadata": {},
   "source": [
    "#### **(예제 3) 1이 될 때까지**\n",
    " 25 5    \n",
    "2"
   ]
  },
  {
   "cell_type": "code",
   "execution_count": 20,
   "id": "38d8bf5d-0506-42c9-82b1-6d6bf0520009",
   "metadata": {},
   "outputs": [
    {
     "name": "stdin",
     "output_type": "stream",
     "text": [
      " 25 5\n"
     ]
    },
    {
     "name": "stdout",
     "output_type": "stream",
     "text": [
      "2\n"
     ]
    }
   ],
   "source": [
    "# 나의 코드\n",
    "N,K=map(int,input().split())\n",
    "count=0\n",
    "\n",
    "while True:\n",
    "    if N==1:\n",
    "        break\n",
    "    if N%K==0:\n",
    "        count+=1\n",
    "        N=N/K\n",
    "    else:\n",
    "        count+=1\n",
    "        N-=1\n",
    "\n",
    "print(count)"
   ]
  },
  {
   "cell_type": "markdown",
   "id": "83749d04-f863-40d6-a046-9971a68adb66",
   "metadata": {},
   "source": [
    "#### **(기출 1)모험가 길드**\n",
    " 5   \n",
    " 2 3 1 2 2     \n",
    "2    "
   ]
  },
  {
   "cell_type": "code",
   "execution_count": 26,
   "id": "6ad2b1ee-6d5b-4875-a2c4-a5d225b1e6fb",
   "metadata": {},
   "outputs": [
    {
     "name": "stdout",
     "output_type": "stream",
     "text": [
      "??\n"
     ]
    }
   ],
   "source": [
    "# 나의 코드\n",
    "print(\"??\")"
   ]
  }
 ],
 "metadata": {
  "kernelspec": {
   "display_name": "Python 3 (ipykernel)",
   "language": "python",
   "name": "python3"
  },
  "language_info": {
   "codemirror_mode": {
    "name": "ipython",
    "version": 3
   },
   "file_extension": ".py",
   "mimetype": "text/x-python",
   "name": "python",
   "nbconvert_exporter": "python",
   "pygments_lexer": "ipython3",
   "version": "3.10.9"
  }
 },
 "nbformat": 4,
 "nbformat_minor": 5
}
