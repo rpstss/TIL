{
 "cells": [
  {
   "cell_type": "markdown",
   "id": "63da0345-ab25-42f2-86c7-e54b0ce84bd0",
   "metadata": {},
   "source": [
    "## **<span style=\"color:blue\">다이나믹 프로그래밍</span>** \n",
    "---\n",
    "- 메모리 공간을 약간 더 사용해서 연산 속도를 비약적으로 증가시키는 방법\n",
    "- 피보나치 수열을 예로 들면, 일반적인 재귀함수로 표현할 경우 O(2^N)의 시간 복잡도이지만, 다이나믹 프로그래밍으로 중복되는 연산을 줄일 수 있음\n",
    "- 다이나믹 프로그래밍의 사용 조건\n",
    "   1. 큰 문제를 작은 문제로 나눌 수 있다.\n",
    "   2. 작은 문제에서 구한 정답은 그것을 표현하는 큰 문제에서도 동일하다."
   ]
  },
  {
   "cell_type": "markdown",
   "id": "455c19cf-18ab-4480-ab2c-ac64bbd72d33",
   "metadata": {},
   "source": [
    "- 메모이제이션: 다이나믹 프로그래밍을 구현하는 방법 중 하나로, 한 번 구한 결과를 메모리 공간에 메모해두는 것\n",
    "- 퀵 정렬도 큰 문제를 작게 나누는 방법이지만, 문제들이 서로 영향을 미치지 않는다는 점에서 분할 정복 알고리즘으로 분류됨\n",
    "- 재귀 함수를 사용하면 함수를 다시 호출했을 때 오버헤드가 발생할 수 있으므로, 반복문을 사용하는 것이 더 좋음\n",
    "- 탑다운 방식: 큰 문제를 해결하기 위해 작은 문제를 호출하는 것\n",
    "- 바텀업 방식: 단순히 반복문을 이용하여 소스코드를 작성하는 경우, 작은 문제부터 차근차근 답을 도출하는 것"
   ]
  },
  {
   "cell_type": "code",
   "execution_count": 13,
   "id": "bed19f8d-db7d-4c9b-b547-66f289e56091",
   "metadata": {},
   "outputs": [
    {
     "name": "stdout",
     "output_type": "stream",
     "text": [
      "218922995834555169026\n"
     ]
    }
   ],
   "source": [
    "# 메모이제이션을 활용한 피보나치 수열\n",
    "# O(N)의 시간 복잡도\n",
    "d=[0]*100\n",
    "\n",
    "def fibo(x):\n",
    "    if x==1 or x==2:\n",
    "        return 1\n",
    "    if d[x]!=0:\n",
    "        return d[x]\n",
    "    d[x]= fibo(x-1)+fibo(x-2)\n",
    "    return d[x]\n",
    "\n",
    "print(fibo(99))"
   ]
  },
  {
   "cell_type": "code",
   "execution_count": 18,
   "id": "57566509-a48b-4214-9f51-cf15e9deccf4",
   "metadata": {},
   "outputs": [
    {
     "name": "stdout",
     "output_type": "stream",
     "text": [
      "218922995834555169026\n"
     ]
    }
   ],
   "source": [
    "# 바텀업 방식\n",
    "d_=[0]*100\n",
    "\n",
    "d_[1]=1\n",
    "d_[2]=1\n",
    "n=99\n",
    "\n",
    "for i in range(3,n+1):\n",
    "    d_[i]=d_[i-1]+d_[i-2]\n",
    "    \n",
    "print(d_[n])"
   ]
  },
  {
   "cell_type": "markdown",
   "id": "96ef7cf8-c1e4-4f5f-9c69-43888fc745b1",
   "metadata": {},
   "source": [
    "---"
   ]
  },
  {
   "cell_type": "markdown",
   "id": "a7d1a8b5-9700-4ae2-9670-d08bd96ffebc",
   "metadata": {},
   "source": [
    "#### **(예제 1) 1로 만들기**\n",
    " 26    \n",
    "3"
   ]
  },
  {
   "cell_type": "code",
   "execution_count": 47,
   "id": "ccee097c-2450-4bbb-9f7f-effc8e620427",
   "metadata": {},
   "outputs": [
    {
     "name": "stdin",
     "output_type": "stream",
     "text": [
      " 26\n"
     ]
    },
    {
     "name": "stdout",
     "output_type": "stream",
     "text": [
      "3\n"
     ]
    }
   ],
   "source": [
    "# 나의 코드\n",
    "d=[0]*30001\n",
    "\n",
    "n=int(input())\n",
    "\n",
    "for i in range(2,n+1):\n",
    "    result=[]\n",
    "    #1\n",
    "    if i%5==0:\n",
    "        result.append(d[i//5])\n",
    "    if i%3==0:\n",
    "        result.append(d[i//3])\n",
    "    if i%2==0:\n",
    "        result.append(d[i//2])\n",
    "    result.append(d[i-1])\n",
    "    \n",
    "    result_min=min(result)\n",
    "    d[i]=result_min+1\n",
    "    \n",
    "print(d[n])\n",
    "    "
   ]
  },
  {
   "cell_type": "markdown",
   "id": "56159f2a-91ef-4288-b363-dbc0be0b25a7",
   "metadata": {},
   "source": [
    "#### **(예제 2) 개미 전사**\n",
    " 4   \n",
    " 1 3 1 5   \n",
    "8"
   ]
  },
  {
   "cell_type": "code",
   "execution_count": 42,
   "id": "4e45c0e9-b9f1-46d1-aadb-a9ff565660b4",
   "metadata": {},
   "outputs": [
    {
     "name": "stdin",
     "output_type": "stream",
     "text": [
      " 4\n",
      " 1 3 1 5\n"
     ]
    },
    {
     "name": "stdout",
     "output_type": "stream",
     "text": [
      "8\n"
     ]
    }
   ],
   "source": [
    "# 나의 코드\n",
    "n=int(input())\n",
    "data=list(map(int,input().split()))\n",
    "\n",
    "d=[0]*101\n",
    "\n",
    "d[1]=data[0]\n",
    "d[2]=max(data[0],data[1])\n",
    "\n",
    "for i in range(3,n+1):\n",
    "    d[i]=max(d[i-1],d[i-2]+data[i-1])\n",
    "    \n",
    "print(d[n])"
   ]
  }
 ],
 "metadata": {
  "kernelspec": {
   "display_name": "Python 3 (ipykernel)",
   "language": "python",
   "name": "python3"
  },
  "language_info": {
   "codemirror_mode": {
    "name": "ipython",
    "version": 3
   },
   "file_extension": ".py",
   "mimetype": "text/x-python",
   "name": "python",
   "nbconvert_exporter": "python",
   "pygments_lexer": "ipython3",
   "version": "3.10.9"
  }
 },
 "nbformat": 4,
 "nbformat_minor": 5
}
