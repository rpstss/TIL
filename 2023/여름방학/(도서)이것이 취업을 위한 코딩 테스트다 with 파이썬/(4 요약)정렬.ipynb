{
 "cells": [
  {
   "cell_type": "markdown",
   "id": "c36b14af-1915-456a-98b6-41e8edd1c6ce",
   "metadata": {},
   "source": [
    "## **<span style=\"color:blue\">정렬</span>** \n",
    "---\n",
    "- 데이터를 특정한 기준에 따라서 순서대로 나열하는 것\n",
    "- 이진 탐색의 전처리 과정이기도 함\n",
    "- 별도의 요구가 없다면 기본 정렬 라이브러리를 사용하고, 데이터의 범위가 한정되어 있으면 계수 정렬을 사용"
   ]
  },
  {
   "cell_type": "markdown",
   "id": "d0f4ed68-9fd6-4eb0-af49-8f11988a14f8",
   "metadata": {
    "tags": []
   },
   "source": [
    "#### **선택 정렬**\n",
    "- 데이터가 무작위로 여러 개 있울 때, 이 중에서 가장 작은 데이터를 선택해 맨 앞에 있는 데이터와 바꾸고, 그다음 작은 데이터를 선택해 앞에서 두 번째 데이터와 바꾸는 과정을 반복\n",
    "- 매번 가장 작은 것을 선택\n",
    "- 시간 복잡도는 O(N^2)이기 때문에 다른 정렬에 비해 매우 비효율적임\n",
    "1. 전체 중에서 가장 작은 데이터를 선택해 맨 앞에 있는 데이터와 바꾼다.\n",
    "2. 정렬된 첫 번째를 제외하고 이후 데이터 중에서 가장 작은 데이터를 선택해 가장 앞에 있는 데이터와 바꾼다.\n",
    "3. 이러한 과정을 반복한다.\n",
    "4. 마지막 데이터는 정렬되어 있기 때문에 정렬하지 않는다."
   ]
  },
  {
   "cell_type": "code",
   "execution_count": 1,
   "id": "ce3419dc-3bdf-40da-8097-8b1d11dff8d9",
   "metadata": {},
   "outputs": [
    {
     "name": "stdout",
     "output_type": "stream",
     "text": [
      "[0, 1, 2, 3, 4, 5, 6, 7, 8, 9]\n"
     ]
    }
   ],
   "source": [
    "# 선택 정렬 예제\n",
    "array=[7,5,9,0,3,1,6,2,4,8]\n",
    "\n",
    "for i in range(len(array)):\n",
    "    min_index=i\n",
    "    for j in range(i+1,len(array)):\n",
    "        if array[min_index]>array[j]:\n",
    "            min_index=j\n",
    "    array[i],array[min_index]=array[min_index],array[i]\n",
    "    \n",
    "print(array)"
   ]
  },
  {
   "cell_type": "markdown",
   "id": "4be577e2-cfc3-4b19-adba-ffcef4f9ff00",
   "metadata": {},
   "source": [
    "#### **삽입 정렬**\n",
    "- 데이터를 하나씩 확인하며 각 데이터를 적절한 위치에 삽입하기\n",
    "- 필요할 때만 위치를 바꾸므로, 데이터가 거의 정렬되어 있을 때 훨씬 효율적임\n",
    "- 특정한 데이터가 적절한 위치에 들어가기 이전에, 그 앞까지의 데이터는 이미 정렬되어 있다고 가정함\n",
    "- 두 번째 데이터부터 시작\n",
    "- 정렬이 이루어진 원소는 항상 오름차순을 유지하고 있음\n",
    "- 시간 복잡도는 O(N^2)이지만, 최선의 경우 O(N)의 시간 복잡도를 가짐\n",
    "\n",
    "1. 첫 번째 데이터는 정렬되어 있다고 판단하고, 두 번째 데이터가 어떤 위치로 들어갈지 판단한다. 왼쪽 혹은 오른쪽으로 들어가는 두 경우만 존재한다.\n",
    "2. 세 번째 데이터가 어떤 위치에 들어갈지 판단한다. 삽입될 수 있는 위치는 총 3가지이다.\n",
    "3. 이러한 과정을 반복한다."
   ]
  },
  {
   "cell_type": "code",
   "execution_count": 5,
   "id": "f1add7e8-32e8-4324-aa4e-39dddea92d14",
   "metadata": {},
   "outputs": [
    {
     "name": "stdout",
     "output_type": "stream",
     "text": [
      "[0, 1, 2, 3, 4, 5, 6, 7, 8, 9]\n"
     ]
    }
   ],
   "source": [
    "# 삽입 정렬 예제\n",
    "array=[7,5,9,0,3,1,6,2,4,8]\n",
    "\n",
    "for i in range(1,len(array)):\n",
    "    for j in range(i,0,-1):\n",
    "        if array[j]<array[j-1]:\n",
    "            array[j],array[j-1]=array[j-1],array[j]\n",
    "        else:\n",
    "            break\n",
    "            \n",
    "print(array)"
   ]
  },
  {
   "cell_type": "markdown",
   "id": "378dca3d-efa5-4d9e-9848-9ba0f85ee589",
   "metadata": {},
   "source": [
    "#### **퀵 정렬**\n",
    "- 정렬 알고리즘 중에 가장 많이 사용되는 알고리즘\n",
    "- 기준 데이터를 설정하고 그 기준보다 큰 데이터와 작은 데이터의 위치를 바꾸기\n",
    "- 기준 데이터를 설정한 다음 큰 수와 작은 수를 교환한 후, 리스트를 반으로 나누는 방식\n",
    "- 피벗: 큰 숫자와 작은 숫자를 교환할 때, 교환하기 위한 기준\n",
    "- 호어 분할 방식에서는 리스트에서 첫 번째 데이터를 피벗으로 정함\n",
    "- 재귀함수 사용\n",
    "- 리스트의 원소가 1개인 것이 퀵 정렬의 종료 조건\n",
    "- 평균 시간 복잡도는 O(NlogN)이지만, 최악의 경우(이미 데이터가 정렬되어 있는 경우) O(N^2)임\n",
    "\n",
    "1. 리스트의 첫 번째 데이터를 피벗으로 설정하고, 왼쪽에서부터 첫 번째 데이터보다 큰 데이터와 오른쪽에서부터 첫 번째 데이터보다 작은 데이터틑 선택하고 서로 변경한다.\n",
    "2. 1의 과정을 반복한다.\n",
    "3. 만약 왼쪽에서부터 찾는 값과 오른쪽에서부터 찾는 값이 서로 엇갈렸다면, 작은 데이터와 피벗의 위치를 서로 변경한다.    \n",
    "-> 피벗을 기준으로 왼쪽에 있는 데이터는 피벗보다 작고, 오른쪽에 있는 데이터는 피벗보다 크다.  \n",
    "4. 왼쪽 리스트와 오른쪽 리스트에서 각각 1,2,3의 과정을 반복한다.\n"
   ]
  },
  {
   "cell_type": "code",
   "execution_count": 6,
   "id": "541eeb78-10c7-4397-942c-19a02ad889c7",
   "metadata": {},
   "outputs": [
    {
     "name": "stdout",
     "output_type": "stream",
     "text": [
      "[0, 1, 2, 3, 4, 5, 6, 7, 8, 9]\n"
     ]
    }
   ],
   "source": [
    "# 퀵 정렬 예제 1\n",
    "array=[5,7,9,0,3,1,6,2,4,8]\n",
    "\n",
    "def quick_sort(array,start,end):\n",
    "    if start>=end:\n",
    "        return\n",
    "    pivot=start\n",
    "    left=start+1\n",
    "    right=end\n",
    "    while left<=right:\n",
    "        # 피벗보다 큰 데이터를 찾을 때까지 반복\n",
    "        while left<=end and array[left]<=array[pivot]:\n",
    "            left+=1\n",
    "        # 피벗보다 작은 데이터를 찾을 때까지 반복\n",
    "        while right>start and array[right]>=array[pivot]:\n",
    "            right-=1\n",
    "        if left>right: # 엇갈린 경우\n",
    "            array[right],array[pivot]=array[pivot],array[right]\n",
    "        else:\n",
    "            array[left],array[right]=array[right],array[left]\n",
    "    quick_sort(array,start,right-1)\n",
    "    quick_sort(array,right+1,end)\n",
    "    \n",
    "quick_sort(array,0,len(array)-1)\n",
    "print(array)"
   ]
  },
  {
   "cell_type": "code",
   "execution_count": 9,
   "id": "e9df4931-8cbb-4717-8a19-2c0fa051bb29",
   "metadata": {},
   "outputs": [
    {
     "name": "stdout",
     "output_type": "stream",
     "text": [
      "[0, 1, 2, 3, 4, 5, 6, 7, 8, 9]\n"
     ]
    }
   ],
   "source": [
    "# 퀵 정렬 예제 2 (파이썬의 장점을 살림)\n",
    "array=[5,7,9,0,3,1,6,2,4,8]\n",
    "\n",
    "def quick_sort(array):\n",
    "    if len(array)<=1:\n",
    "        return array\n",
    "    \n",
    "    pivot=array[0]\n",
    "    tail=array[1:]\n",
    "    \n",
    "    left_side=[x for x in tail if x<=pivot]\n",
    "    right_side=[x for x in tail if x> pivot]\n",
    "    \n",
    "    return quick_sort(left_side)+[pivot]+quick_sort(right_side)\n",
    "\n",
    "print(quick_sort(array))"
   ]
  },
  {
   "cell_type": "markdown",
   "id": "d17c03c0-8cb0-4e98-b01d-68fd2287d10d",
   "metadata": {},
   "source": [
    "#### **계수 정렬**\n",
    "- 특정한 조건이 부합할 때만 사용할 수 있지만, 매우 빠른 정렬 알고리즘\n",
    "- 데이터의 크기 범위가 제한되어 정수 형태로 표현할 수 있을 때만 사용할 수 있음\n",
    "- 다만 가장 큰 데이터와 가장 작은 데이터의 차이가 너무 크다면(100만 이상), 계수 정렬은 사용할 수 없음\n",
    "- 모든 범위를 담을 수 있는 크기의 리스트(배열)를 선언함\n",
    "- O(N+K)의 시간 복잡도를 가짐\n",
    "- 동일한 값을 가지는 데이터가 여러 개 등장할 때 적합함\n",
    "\n",
    "1. 가장 큰 데이터와 가장 작은 데이터의 범위가 모두 담길 수 있도록, 모든 데이터가 0인 하나의 리스트를 생성한다.\n",
    "2. 데이터를 하나씩 확인하며 데이터 값과 동일한 인덱스의 데이터를 1씩 증가시킨다."
   ]
  },
  {
   "cell_type": "code",
   "execution_count": 11,
   "id": "d6e7620b-91ff-4c5f-93fc-8a5954c68037",
   "metadata": {},
   "outputs": [
    {
     "name": "stdout",
     "output_type": "stream",
     "text": [
      "0 0 1 1 2 2 3 4 5 5 6 7 8 9 9 "
     ]
    }
   ],
   "source": [
    "# 계수 정렬 예제\n",
    "array=[7,5,9,0,3,1,6,2,9,1,4,8,0,5,2]\n",
    "count=[0]*(max(array)+1)\n",
    "\n",
    "for i in range(len(array)):\n",
    "    count[array[i]]+=1\n",
    "    \n",
    "for i in range(len(count)):\n",
    "    for j in range(count[i]):\n",
    "        print(i, end=\" \")"
   ]
  },
  {
   "cell_type": "markdown",
   "id": "e185d882-c133-4943-aeef-cf91ff0c1948",
   "metadata": {},
   "source": [
    "#### **파이썬의 정렬 라이브러리**\n",
    "- 파이썬은 sorted() 함수를 제공함\n",
    "- 퀵 정렬과 동작 방식이 비슷한 병합 정렬을 기반으로 만들어졌는데, 퀵 정렬보다는 일반적으로 느리지만 최악의 경우에도 O(NlogN)의 시간복잡도를 가짐\n",
    "- 반환되는 결과는 리스트 자료형임\n",
    "- key 매개변수를 입력해, 함수로 정렬 기준을 삼을 수 있음"
   ]
  },
  {
   "cell_type": "code",
   "execution_count": 13,
   "id": "9d6c997a-eccf-4b20-bfc8-383cfffe74ce",
   "metadata": {},
   "outputs": [
    {
     "name": "stdout",
     "output_type": "stream",
     "text": [
      "[('바나나', 2), ('당근', 3), ('사과', 5)]\n"
     ]
    }
   ],
   "source": [
    "# 파이썬의 정렬 라이브러리 예제\n",
    "array=[(\"바나나\",2),(\"사과\",5),(\"당근\",3)]\n",
    "\n",
    "def setting(data):\n",
    "    return data[1]\n",
    "    \n",
    "result=sorted(array,key=setting)\n",
    "print(result)"
   ]
  },
  {
   "cell_type": "markdown",
   "id": "1f3d0a4b-2090-41ec-803b-4a1a873edb24",
   "metadata": {},
   "source": [
    "---"
   ]
  },
  {
   "cell_type": "markdown",
   "id": "e25326d6-2671-42da-8634-f5414fe13378",
   "metadata": {},
   "source": [
    "#### **(예제 1) 위에서 아래로**\n",
    " 3   \n",
    " 15   \n",
    " 27   \n",
    " 12   \n",
    "27 15 12"
   ]
  },
  {
   "cell_type": "code",
   "execution_count": 14,
   "id": "323552d9-c35b-491a-b3b6-f70b7b5ed20f",
   "metadata": {},
   "outputs": [
    {
     "name": "stdin",
     "output_type": "stream",
     "text": [
      " 3\n",
      " 15\n",
      " 27\n",
      " 12\n"
     ]
    },
    {
     "name": "stdout",
     "output_type": "stream",
     "text": [
      "27 15 12\n"
     ]
    }
   ],
   "source": [
    "# 나의 코드\n",
    "n=int(input())\n",
    "\n",
    "array=[]\n",
    "\n",
    "for _ in range(n):\n",
    "    array.append(int(input()))\n",
    "    \n",
    "array.sort(reverse=True)\n",
    "\n",
    "print(*array)"
   ]
  },
  {
   "cell_type": "markdown",
   "id": "988a02ef-77b2-44d4-9889-e689556a83cd",
   "metadata": {},
   "source": [
    "#### **(예제 2) 성적이 낮은 순서로 학생 출력하기**\n",
    " 2   \n",
    " 홍길동 95   \n",
    " 이순신 77    \n",
    "이순신 홍길동 "
   ]
  },
  {
   "cell_type": "code",
   "execution_count": 20,
   "id": "aaffa49e-5689-4a64-a2cc-b40c4e3afc81",
   "metadata": {},
   "outputs": [
    {
     "name": "stdin",
     "output_type": "stream",
     "text": [
      " 2\n",
      " 홍길동 95\n",
      " 이순신 77\n"
     ]
    },
    {
     "name": "stdout",
     "output_type": "stream",
     "text": [
      "이순신 홍길동 "
     ]
    }
   ],
   "source": [
    "# 나의 코드\n",
    "n=int(input())\n",
    "\n",
    "array=[]\n",
    "\n",
    "for _ in range(n):\n",
    "    array.append((input().split()))\n",
    "    \n",
    "array.sort(key=lambda x: int(x[1]))\n",
    "\n",
    "for i in array:\n",
    "    print(i[0],end=\" \")"
   ]
  },
  {
   "cell_type": "markdown",
   "id": "d915ac8f-f611-48a5-b512-3e949863342e",
   "metadata": {},
   "source": [
    "#### **(예제 3) 두 배열의 원소 교체**\n",
    " 5 3  \n",
    " 1 2 5 4 3   \n",
    " 5 5 6 6 5   \n",
    "26"
   ]
  },
  {
   "cell_type": "code",
   "execution_count": 25,
   "id": "4e988cc9-86f1-4f87-a2bf-622983009601",
   "metadata": {},
   "outputs": [
    {
     "name": "stdin",
     "output_type": "stream",
     "text": [
      " 5 3\n",
      " 1 2 5 4 3\n",
      " 5 5 6 6 5\n"
     ]
    },
    {
     "name": "stdout",
     "output_type": "stream",
     "text": [
      "26\n"
     ]
    }
   ],
   "source": [
    "# 나의 코드\n",
    "n,k=map(int,input().split())\n",
    "a=list(map(int,input().split()))\n",
    "b=list(map(int,input().split()))\n",
    "\n",
    "for _ in range(k):\n",
    "    a_min=min(a)\n",
    "    b_max=max(b)\n",
    "    if a_min<b_max:\n",
    "        a[a.index(a_min)],b[b.index(b_max)]=b[b.index(b_max)],a[a.index(a_min)]\n",
    "        \n",
    "print(sum(a))"
   ]
  }
 ],
 "metadata": {
  "kernelspec": {
   "display_name": "Python 3 (ipykernel)",
   "language": "python",
   "name": "python3"
  },
  "language_info": {
   "codemirror_mode": {
    "name": "ipython",
    "version": 3
   },
   "file_extension": ".py",
   "mimetype": "text/x-python",
   "name": "python",
   "nbconvert_exporter": "python",
   "pygments_lexer": "ipython3",
   "version": "3.10.9"
  }
 },
 "nbformat": 4,
 "nbformat_minor": 5
}
