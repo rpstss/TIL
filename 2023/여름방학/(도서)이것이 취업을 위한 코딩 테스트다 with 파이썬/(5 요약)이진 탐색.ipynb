{
 "cells": [
  {
   "cell_type": "markdown",
   "id": "f45bca57-7d86-41b9-a065-cda153ffc2d5",
   "metadata": {},
   "source": [
    "## **<span style=\"color:blue\">이진 탐색</span>** \n",
    "---\n",
    "- 데이터를 몇개 안 찾을 때는 이진 탐색이 효율적이지만, 많이 찾을 때는 in set가 효율적임"
   ]
  },
  {
   "cell_type": "markdown",
   "id": "770e5995-9ef7-410e-a482-e2b9641d9907",
   "metadata": {},
   "source": [
    "#### **순차 탐색**\n",
    "- 리스트 안에 있는 특정한 데이터를 찾기 위해 앞에서부터 데이터를 하나씩 차례대로 확인하는 방법\n",
    "- 정렬되지 않은 리스트에서 데이터를 찾아야 할 때 사용함\n",
    "- O(N)의 시간 복잡도\n",
    "\n",
    " 5 Dongbin  \n",
    " Hanul Jonggu Dongbin Taeil Sangwook   \n",
    "3"
   ]
  },
  {
   "cell_type": "code",
   "execution_count": 1,
   "id": "02dc5d3d-c852-488f-980f-898a61aa69a3",
   "metadata": {},
   "outputs": [
    {
     "name": "stdout",
     "output_type": "stream",
     "text": [
      "생성할 원소 개수를 입렫한 다음 한 칸 띄고 찾을 문자열을 입력하세요.\n"
     ]
    },
    {
     "name": "stdin",
     "output_type": "stream",
     "text": [
      " 5 Dongbin\n"
     ]
    },
    {
     "name": "stdout",
     "output_type": "stream",
     "text": [
      "앞서 적은 원소 개수만큼 문자열을 입력하세요. 구분은 띄어쓰기 한 칸으로 합니다.\n"
     ]
    },
    {
     "name": "stdin",
     "output_type": "stream",
     "text": [
      " Hanul Jonggu Dongbin Taeil Sangwook\n"
     ]
    },
    {
     "name": "stdout",
     "output_type": "stream",
     "text": [
      "3\n"
     ]
    }
   ],
   "source": [
    "# 순차 탐색 예시\n",
    "def sequential_search(n,target,array):\n",
    "    for i in range(n):\n",
    "        if array[i]==target:\n",
    "            return i+1\n",
    "        \n",
    "print(\"생성할 원소 개수를 입렫한 다음 한 칸 띄고 찾을 문자열을 입력하세요.\")\n",
    "input_data=input().split()\n",
    "n=int(input_data[0])\n",
    "target=input_data[1]\n",
    "\n",
    "print(\"앞서 적은 원소 개수만큼 문자열을 입력하세요. 구분은 띄어쓰기 한 칸으로 합니다.\")\n",
    "array=input().split()\n",
    "\n",
    "print(sequential_search(n,target,array))"
   ]
  },
  {
   "cell_type": "markdown",
   "id": "ae877f89-888d-44e9-9eaf-e0eb9a020696",
   "metadata": {},
   "source": [
    "#### **이진 탐색**\n",
    "- 데이터가 정렬되어 있어야만 사용할 수 있는 알고리즘\n",
    "- 반으로 쪼개면서 탐색하기\n",
    "- 시작점, 끝점, 중간점을 사용함\n",
    "- 찾으려는 데이터와 중간점 위치에 있는 데이터를 반복적으로 비교\n",
    "- O(logN)의 시간 복잡도\n",
    "- 데이터의 개수가 1000만 개를 넘어가거나 탐색 범위의 크기가 1000억 이상이라면 이진 탐색을 고려\n",
    "- 재귀 함수와 반복문을 이용할 수 있음    \n",
    "- 코드를 가급적 외우는게 좋음  \n",
    " 10 7    \n",
    " 1 3 5 7 9 11 13 15 17 19    \n",
    "4"
   ]
  },
  {
   "cell_type": "code",
   "execution_count": 2,
   "id": "8c4e86da-08d3-451c-bf8c-b3fe7eeb88f6",
   "metadata": {},
   "outputs": [
    {
     "name": "stdin",
     "output_type": "stream",
     "text": [
      " 10 7\n",
      " 1 3 5 7 9 11 13 15 17 19\n"
     ]
    },
    {
     "name": "stdout",
     "output_type": "stream",
     "text": [
      "4\n"
     ]
    }
   ],
   "source": [
    "# 이진 탐색 예시 1\n",
    "def binary_search(array,target,start,end):\n",
    "    if start>end:\n",
    "        return None\n",
    "    mid=(start+end)//2\n",
    "    if array[mid]==target:\n",
    "        return mid\n",
    "    elif array[mid]>target:\n",
    "        return binary_search(array,target,start,mid-1)\n",
    "    else:\n",
    "        return binary_search(arrat,target,mid+1,end)\n",
    "    \n",
    "n,target=list(map(int,input().split()))\n",
    "array=list(map(int,input().split()))\n",
    "\n",
    "result=binary_search(array,target,0,n-1)\n",
    "\n",
    "if result==None:\n",
    "    print(\"원소가 존재하지 않습니다\")\n",
    "    \n",
    "else:\n",
    "    print(result+1)"
   ]
  },
  {
   "cell_type": "code",
   "execution_count": 3,
   "id": "ec99a729-be13-4c86-bd89-a3f56261a49e",
   "metadata": {},
   "outputs": [
    {
     "name": "stdin",
     "output_type": "stream",
     "text": [
      " 10 7\n",
      " 1 3 5 7 9 11 13 15 17 19\n"
     ]
    },
    {
     "name": "stdout",
     "output_type": "stream",
     "text": [
      "4\n"
     ]
    }
   ],
   "source": [
    "# 이진 탐색 예시 2\n",
    "def binary_search(array,target,start,end):\n",
    "    while start<=end:\n",
    "        mid=(start+end)//2\n",
    "        if array[mid]==target:\n",
    "            return mid\n",
    "        elif array[mid]>target:\n",
    "            end=mid-1\n",
    "        else:\n",
    "            start=mid+1\n",
    "    return None\n",
    "\n",
    "n,target=list(map(int,input().split()))\n",
    "array=list(map(int,input().split()))\n",
    "\n",
    "result=binary_search(array,target,0,n-1)\n",
    "\n",
    "if result==None:\n",
    "    print(\"원소가 존재하지 않습니다\")\n",
    "    \n",
    "else:\n",
    "    print(result+1)"
   ]
  },
  {
   "cell_type": "markdown",
   "id": "03f69463-dc09-41e1-b3f0-34d6ef8aa1d9",
   "metadata": {},
   "source": [
    "#### **트리 자료구조**\n",
    "- 데이터베이스는 내부적으로 대용량 데이터 처리에 적합한 적합한 트리 자료구조를 이용하여 항상 데이터가 정렬되어 있음\n",
    "- 이진 탐색과 유사한 방법을 이용해 탐색을 빠르게 수행할 수 있음\n"
   ]
  },
  {
   "cell_type": "markdown",
   "id": "9645eba4-cbab-443c-87e2-5af87475d14f",
   "metadata": {},
   "source": [
    "#### **이진 탐색 트리**\n",
    "- 부모 노드보다 왼쪽 자식 노드가 작음\n",
    "- 부모 노드보다 오른쪽 자식 노드가 큼\n",
    "- 왼쪽 자식 노드 < 부모 노드 < 오른쪽 자식 노드\n",
    "1. 루트 노드부터 방문한다.\n",
    "2. 루트 노드보다 큰 원소를 찾는다면, 오른쪽 자식 노드를 부모 노드로 삼는다. 반대의 상황이라면 왼쪽 자식 노드를 삼는다.\n",
    "3. 원소를 찾을 때까지 반복한다.\n",
    "---"
   ]
  },
  {
   "cell_type": "markdown",
   "id": "78a9fd8a-e422-4f54-bbbc-576b15874667",
   "metadata": {},
   "source": [
    "#### **(예제 1) 부품 찾기**\n",
    " 5   \n",
    " 8 3 7 9 2   \n",
    " 3   \n",
    " 5 7 9   \n",
    "no yes yes "
   ]
  },
  {
   "cell_type": "code",
   "execution_count": 6,
   "id": "a22fb27c-c70c-46a1-ba8a-de2c9922dad7",
   "metadata": {},
   "outputs": [
    {
     "name": "stdin",
     "output_type": "stream",
     "text": [
      " 5\n",
      " 8 3 7 9 2\n",
      " 3\n",
      " 5 7 9\n"
     ]
    },
    {
     "name": "stdout",
     "output_type": "stream",
     "text": [
      "no yes yes "
     ]
    }
   ],
   "source": [
    "# 나의 코드\n",
    "\n",
    "def binary(array,start,end,target):\n",
    "    mid=(start+end)//2\n",
    "    if start>end:\n",
    "        return None\n",
    "    if array[mid]==target:\n",
    "        return mid\n",
    "    if array[mid]>target:\n",
    "        end=mid-1\n",
    "        return binary(array,start,end,target)\n",
    "    else:\n",
    "        start=mid+1\n",
    "        return binary(array,start,end,target)\n",
    "\n",
    "n=int(input())\n",
    "\n",
    "data=list(map(int,input().split()))\n",
    "\n",
    "data.sort()\n",
    "\n",
    "m=int(input())\n",
    "\n",
    "check=list(map(int,input().split()))\n",
    "\n",
    "for i in check:\n",
    "    if binary(data,0,n-1,i)==None:\n",
    "        print(\"no\",end=\" \")\n",
    "    else:\n",
    "        print(\"yes\",end=\" \")"
   ]
  },
  {
   "cell_type": "markdown",
   "id": "a05ddc37-d21b-4adf-9c81-67b80ba5e12c",
   "metadata": {},
   "source": [
    "#### **(예제 2) 떡볶이 떡 만들기**\n",
    " 4 6   \n",
    " 19 15 10 17   \n",
    "15   "
   ]
  },
  {
   "cell_type": "code",
   "execution_count": 15,
   "id": "70af27d5-3a32-4081-b8b4-e6e7a08557af",
   "metadata": {},
   "outputs": [
    {
     "name": "stdout",
     "output_type": "stream",
     "text": [
      "???\n"
     ]
    }
   ],
   "source": [
    "# 나의 코드 \n",
    "print(\"???\")"
   ]
  }
 ],
 "metadata": {
  "kernelspec": {
   "display_name": "Python 3 (ipykernel)",
   "language": "python",
   "name": "python3"
  },
  "language_info": {
   "codemirror_mode": {
    "name": "ipython",
    "version": 3
   },
   "file_extension": ".py",
   "mimetype": "text/x-python",
   "name": "python",
   "nbconvert_exporter": "python",
   "pygments_lexer": "ipython3",
   "version": "3.10.9"
  }
 },
 "nbformat": 4,
 "nbformat_minor": 5
}
