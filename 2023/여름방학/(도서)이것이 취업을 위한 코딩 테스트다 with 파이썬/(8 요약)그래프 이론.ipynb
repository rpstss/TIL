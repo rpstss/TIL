{
 "cells": [
  {
   "cell_type": "markdown",
   "id": "50c78a2a-b661-48c6-a0a3-20834f6e7ecb",
   "metadata": {
    "tags": []
   },
   "source": [
    "## **<span style=\"color:blue\">다양한 그래프 알고리즘</span>** \n",
    "---\n",
    "- 그래프의 구현 방법은 2가지 방식이 존재함\n",
    "   - 인접 행렬: 2차원 배열을 사용하는 방식 -> 간선의 정보를 저장하기 위해 O(V^2)의 메모리, 특정 노드끼리 이어진 간선의 비용은 O(1)의 시간(플로이드 워셜)\n",
    "   - 인접 리스트: 리스트를 사용하는 방식 -> 간선의 개수만큼 O(E)의 메모리, 특정 노드끼리 이어진 간선의 비용은 O(V)의 시간(다익스트라)\n",
    "   - 노드의 개수가 V이고 간선의 개수가 E인 그래프"
   ]
  },
  {
   "cell_type": "markdown",
   "id": "a1020903-2d43-4b05-8023-b7df6263c38e",
   "metadata": {},
   "source": [
    "#### **서로소 집합**\n",
    "- 공통 원소가 없는 두 집합\n",
    "- union 연산: 2개의 원소가 포함된 집합을 하나의 집합으로 합치는 연산\n",
    "- find 연산: 특정한 원소가 속한 집합이 어떤 집합인지 알려주는 연산\n",
    "- 트리 자료구조를 이요함\n",
    "1. union 연산을 확인하여, 서로 연결된 두 노드  A,B를 확인한다.\n",
    "   1. A와 B의 루트노드 A'와 B'를 각각 찾는다.\n",
    "   2. A'를 B'의 부모 노드로 설정한다.\n",
    "2. 모든 union 연산을 처리할 때까지 1번 과정을 반복한다."
   ]
  },
  {
   "cell_type": "code",
   "execution_count": 4,
   "id": "c52895f2-0bc2-401f-9a09-8b93964ad21f",
   "metadata": {},
   "outputs": [
    {
     "data": {
      "text/plain": [
       "' 6 4\\n 1 4\\n 2 3\\n 2 4\\n 5 6\\n각 원소가 속한 집합:1 1 1 1 5 5 \\n부모 테이블:1 1 2 1 5 5 '"
      ]
     },
     "execution_count": 4,
     "metadata": {},
     "output_type": "execute_result"
    }
   ],
   "source": [
    "''' 6 4\n",
    " 1 4\n",
    " 2 3\n",
    " 2 4\n",
    " 5 6\n",
    "각 원소가 속한 집합:1 1 1 1 5 5 \n",
    "부모 테이블:1 1 2 1 5 5 '''"
   ]
  },
  {
   "cell_type": "code",
   "execution_count": 3,
   "id": "6e846ed9-828a-4031-85de-acbe5b70911c",
   "metadata": {},
   "outputs": [
    {
     "name": "stdin",
     "output_type": "stream",
     "text": [
      " 6 4\n",
      " 1 4\n",
      " 2 3\n",
      " 2 4\n",
      " 5 6\n"
     ]
    },
    {
     "name": "stdout",
     "output_type": "stream",
     "text": [
      "각 원소가 속한 집합:1 1 1 1 5 5 \n",
      "부모 테이블:1 1 2 1 5 5 "
     ]
    }
   ],
   "source": [
    "# 기본적인 서로소 집합 알고리즘 소스코드\n",
    "\n",
    "# 특정 원소가 속한 집합을 찾기\n",
    "def find_parent(parent,x):\n",
    "    if parent[x]!=x:\n",
    "        return find_parent(parent,parent[x])\n",
    "    return x\n",
    "\n",
    "# 두 원소가 속한 집합을 합치기\n",
    "def union_parent(parent,a,b):\n",
    "    a=find_parent(parent,a)\n",
    "    b=find_parent(parent,b)\n",
    "    if a<b:\n",
    "        parent[b]=a\n",
    "    else:\n",
    "        parent[a]=b\n",
    "        \n",
    "# 노드의 개수와 간선의 개수 입력 받기\n",
    "v,e=map(int,input().split())\n",
    "parent=[0]*(v+1)\n",
    "\n",
    "for i in range(1,v+1):\n",
    "    parent[i]=i\n",
    "    \n",
    "for i in range(e):\n",
    "    a,b=map(int,input().split())\n",
    "    union_parent(parent,a,b)\n",
    "    \n",
    "print(\"각 원소가 속한 집합:\",end=\"\")\n",
    "for i in range(1,v+1):\n",
    "    print(find_parent(parent,i),end=\" \")\n",
    "    \n",
    "print()\n",
    "\n",
    "print(\"부모 테이블:\",end=\"\")\n",
    "for i in range(1,v+1):\n",
    "    print(parent[i],end=\" \")"
   ]
  },
  {
   "cell_type": "code",
   "execution_count": 6,
   "id": "cbae5049-dd45-44c7-8693-0a6e04a07986",
   "metadata": {},
   "outputs": [],
   "source": [
    "# 경로 압축 기법 소스코드\n",
    "def find_parent(parent,x):\n",
    "    if parent[x]!=x:\n",
    "        parent[x]=find_parent(parent,parent[x])\n",
    "    return parent[x]"
   ]
  },
  {
   "cell_type": "code",
   "execution_count": 10,
   "id": "046050ea-4eef-4228-a504-1dbe3f238c78",
   "metadata": {},
   "outputs": [
    {
     "data": {
      "text/plain": [
       "' 3 3\\n 1 2\\n 1 3\\n 2 3\\n사이클 발생'"
      ]
     },
     "execution_count": 10,
     "metadata": {},
     "output_type": "execute_result"
    }
   ],
   "source": [
    "''' 3 3\n",
    " 1 2\n",
    " 1 3\n",
    " 2 3\n",
    "사이클 발생'''"
   ]
  },
  {
   "cell_type": "code",
   "execution_count": 9,
   "id": "f43ee43d-1b02-408e-9230-66e834e226d5",
   "metadata": {},
   "outputs": [
    {
     "name": "stdin",
     "output_type": "stream",
     "text": [
      " 3 3\n",
      " 1 2\n",
      " 1 3\n",
      " 2 3\n"
     ]
    },
    {
     "name": "stdout",
     "output_type": "stream",
     "text": [
      "사이클 발생\n"
     ]
    }
   ],
   "source": [
    "## 서로소 집합을 활용한 사이클 판별 소스코드\n",
    "\n",
    "def find_parent(parent,x):\n",
    "    if parent[x]!=x:\n",
    "        parent[x]=find_parent(parent,parent[x])\n",
    "    return parent[x]\n",
    "\n",
    "def union_parent(parent,a,b):\n",
    "    a=find_parent(parent,a)\n",
    "    b=find_parent(parent,b)\n",
    "    if a<b:\n",
    "        parent[b]=a\n",
    "    else:\n",
    "        parent[a]=b\n",
    "        \n",
    "v,e=map(int,input().split())\n",
    "parent=[0]*(v+1)\n",
    "\n",
    "for i in range(1,v+1):\n",
    "    parent[i]=i\n",
    "    \n",
    "cycle=False\n",
    "\n",
    "for i in range(e):\n",
    "    a,b=map(int,input().split())\n",
    "    \n",
    "    if find_parent(parent,a)==find_parent(parent,b):\n",
    "        cycle=True\n",
    "        break\n",
    "    else:\n",
    "        union_parent(parent,a,b)\n",
    "        \n",
    "if cycle:\n",
    "    print(\"사이클 발생\")\n",
    "else:\n",
    "    print(\"사이클 발생 안함\")"
   ]
  },
  {
   "cell_type": "markdown",
   "id": "799da333-983a-4956-b8ab-d418e7196de1",
   "metadata": {},
   "source": [
    "#### **신장 트리**\n",
    "- 하나의 그래프가 있을 때 모든 노드를 포함하면서 사이클이 존재하지 않는 부분 그래프"
   ]
  },
  {
   "cell_type": "markdown",
   "id": "1e0a42f6-3afa-42af-bdfd-8982e10f354d",
   "metadata": {},
   "source": [
    "**크루스탈 알고리즘**\n",
    "- 그리디 알고리즘\n",
    "1. 간선 데이터를 비용에 따라 오름차순으로 정렬한다.\n",
    "2. 간선을 하나씩 확인하며 현재의 간선이 사이클을 빌생시키는지 확인한다.\n",
    "   1. 사이클이 발생하지 않는 경우 최소 신장 트리에 포함시킨다.\n",
    "   2. 사이클이 발생하는 경우 최소 신장 트리에 포함시키지 않는다.\n",
    "3. 모든 간선에 대하여 2번의 과정을 반복한다."
   ]
  },
  {
   "cell_type": "code",
   "execution_count": 12,
   "id": "18275e6c-52fc-4563-ad90-4945b69f9b3d",
   "metadata": {},
   "outputs": [
    {
     "data": {
      "text/plain": [
       "' 7 9\\n 1 2 29\\n 1 5 75\\n 2 3 35\\n 2 6 34\\n 3 4 7\\n 4 6 23\\n 4 7 13\\n 5 6 53\\n 6 7 25\\n159'"
      ]
     },
     "execution_count": 12,
     "metadata": {},
     "output_type": "execute_result"
    }
   ],
   "source": [
    "''' 7 9\n",
    " 1 2 29\n",
    " 1 5 75\n",
    " 2 3 35\n",
    " 2 6 34\n",
    " 3 4 7\n",
    " 4 6 23\n",
    " 4 7 13\n",
    " 5 6 53\n",
    " 6 7 25\n",
    "159'''"
   ]
  },
  {
   "cell_type": "code",
   "execution_count": 11,
   "id": "9710ddb9-fc35-4cb7-80ba-ae248ef6038d",
   "metadata": {},
   "outputs": [
    {
     "name": "stdin",
     "output_type": "stream",
     "text": [
      " 7 9\n",
      " 1 2 29\n",
      " 1 5 75\n",
      " 2 3 35\n",
      " 2 6 34\n",
      " 3 4 7\n",
      " 4 6 23\n",
      " 4 7 13\n",
      " 5 6 53\n",
      " 6 7 25\n"
     ]
    },
    {
     "name": "stdout",
     "output_type": "stream",
     "text": [
      "159\n"
     ]
    }
   ],
   "source": [
    "# 크루스탈 알고리즘 소스코드\n",
    "\n",
    "def find_parent(parent,x):\n",
    "    if parent[x]!=x:\n",
    "        parent[x]=find_parent(parent,parent[x])\n",
    "    return parent[x]\n",
    "\n",
    "def union_parent(parent,a,b):\n",
    "    a=find_parent(parent,a)\n",
    "    b=find_parent(parent,b)\n",
    "    if a<b:\n",
    "        parent[b]=a\n",
    "    else:\n",
    "        parent[a]=b\n",
    "        \n",
    "v,e=map(int,input().split())\n",
    "parent=[0]*(v+1)\n",
    "\n",
    "for i in range(1,v+1):\n",
    "    parent[i]=i\n",
    "    \n",
    "# 모든 간선을 담을 리스트와 최종 비요을 담을 변수\n",
    "edges=[]\n",
    "result=0\n",
    "\n",
    "for _ in range(e):\n",
    "    a,b,cost=map(int,input().split())\n",
    "    edges.append((cost,a,b))\n",
    "    \n",
    "edges.sort()\n",
    "\n",
    "for edge in edges:\n",
    "    cost,a,b=edge\n",
    "    if find_parent(parent,a)!=find_parent(parent,b):\n",
    "        union_parent(parent,a,b)\n",
    "        result+=cost\n",
    "        \n",
    "print(result)"
   ]
  },
  {
   "cell_type": "markdown",
   "id": "ad18cedf-1280-4827-a014-d69c83240490",
   "metadata": {},
   "source": [
    "#### **위상 정렬**\n",
    "- 방향 그래프의 모든 노드를 방향성에 거스르지 않도록 순서대로 나열하는 것\n",
    "- 진입차수: 특정한 노드로 들어오는 간선의 개수\n",
    "1. 진입차수가 0인 노드를 큐에 넣는다.\n",
    "2. 큐가 빌 때까지 다음의 과정을 반복한다.\n",
    "   1. 큐에서 원소를 꺼내 해당 노드에서 출발하는 간선을 그래프에서 제거한다.\n",
    "   2. 새롭게 진입차수가 0이 된 노드를 큐에 넣는다."
   ]
  },
  {
   "cell_type": "code",
   "execution_count": 14,
   "id": "57e783bb-12f2-4978-aae2-be6733ff0199",
   "metadata": {},
   "outputs": [
    {
     "data": {
      "text/plain": [
       "' 7 8\\n 1 2\\n 1 5\\n 2 3\\n 2 6\\n 3 4\\n 4 7\\n 5 6\\n 6 4\\n1 2 5 3 6 4 7 '"
      ]
     },
     "execution_count": 14,
     "metadata": {},
     "output_type": "execute_result"
    }
   ],
   "source": [
    "''' 7 8\n",
    " 1 2\n",
    " 1 5\n",
    " 2 3\n",
    " 2 6\n",
    " 3 4\n",
    " 4 7\n",
    " 5 6\n",
    " 6 4\n",
    "1 2 5 3 6 4 7 '''"
   ]
  },
  {
   "cell_type": "code",
   "execution_count": 13,
   "id": "918740e0-89c6-4370-b3e7-5f85fdd4e4a2",
   "metadata": {},
   "outputs": [
    {
     "name": "stdin",
     "output_type": "stream",
     "text": [
      " 7 8\n",
      " 1 2\n",
      " 1 5\n",
      " 2 3\n",
      " 2 6\n",
      " 3 4\n",
      " 4 7\n",
      " 5 6\n",
      " 6 4\n"
     ]
    },
    {
     "name": "stdout",
     "output_type": "stream",
     "text": [
      "1 2 5 3 6 4 7 "
     ]
    }
   ],
   "source": [
    "# 위상 정렬 소스코드\n",
    "\n",
    "from collections import deque\n",
    "\n",
    "v,e=map(int,input().split())\n",
    "# 모든 노드에 대한 진입차수는 0으로 초기화\n",
    "indegree=[0]*(v+1)\n",
    "# 각 노드에 연결된 간선 정보를 담기 위한 연결 리스트(그래프) 초기화\n",
    "graph=[[]for i in range(v+1)]\n",
    "\n",
    "# 방향 그래프의 모든 간서 정보를 입력받기\n",
    "for _ in range(e):\n",
    "    a,b=map(int,input().split())\n",
    "    graph[a].append(b) # 정점 A에서 B로 이도 악능\n",
    "    # 진입차수를 1 증가\n",
    "    indegree[b]+=1\n",
    "    \n",
    "# 위상 정렬 함수\n",
    "def topology_sort():\n",
    "    result=[]\n",
    "    q=deque()\n",
    "    \n",
    "    for i in range(1,v+1):\n",
    "        if indegree[i]==0:\n",
    "            q.append(i)\n",
    "            \n",
    "    while q:\n",
    "        now=q.popleft()\n",
    "        result.append(now)\n",
    "        for i in graph[now]:\n",
    "            indegree[i]-=1\n",
    "            if indegree[i]==0:\n",
    "                q.append(i)\n",
    "                \n",
    "    for i in result:\n",
    "        print(i,end=\" \")\n",
    "        \n",
    "topology_sort()"
   ]
  }
 ],
 "metadata": {
  "kernelspec": {
   "display_name": "Python 3 (ipykernel)",
   "language": "python",
   "name": "python3"
  },
  "language_info": {
   "codemirror_mode": {
    "name": "ipython",
    "version": 3
   },
   "file_extension": ".py",
   "mimetype": "text/x-python",
   "name": "python",
   "nbconvert_exporter": "python",
   "pygments_lexer": "ipython3",
   "version": "3.10.9"
  }
 },
 "nbformat": 4,
 "nbformat_minor": 5
}
