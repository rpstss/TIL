{
 "cells": [
  {
   "cell_type": "markdown",
   "id": "14ea2d7e-484e-418c-85bf-c7bf4d2e2517",
   "metadata": {},
   "source": [
    "## **<span style=\"color:blue\">구현</span>** \n",
    "---\n",
    "- 머릿속에 있는 알고리즘을 소스코드로 바꾸는 과정\n",
    "- 구현 문제 유형은 모든 범위의 코딩 테스트 문제 유형을 포함하는 개념\n",
    "- 풀이를 떠올리는 것은 쉽지만 소스코드로 옮기기 어려운 문제\n",
    "- 피지컬을 요구하는 문제\n",
    "- 완전 탐색: 모든 경우의 수를 주저 없이 다 계산하는 해결방법\n",
    "- 시뮬레이션: 문제에서 제시한 알고리즘을 한 단계씩 차례대로 직접 수행해야 하는 문제 유형\n",
    "- 파이썬은 1초에 2000만 번의 연산을 수행한다고 가정함\n",
    "\n",
    "#### **리스트의 크기**\n",
    "- 메모리 제한을 고려해야 함\n",
    "- int 자료형 데이터의 개수에 따른 메모리 사용량\n",
    "   - 1000 데이터 -> 4 KB\n",
    "   - 1000000 데이터 -> 4 MB\n",
    "   - 10000000 데이터 -> 40 MB\n",
    "---"
   ]
  },
  {
   "cell_type": "markdown",
   "id": "0d000b15-9d20-4a3a-ac28-45e89ea1cd04",
   "metadata": {},
   "source": [
    "#### **(예제 1) 상하좌우**\n",
    " 5    \n",
    " R R R U D D    \n",
    "3 4    "
   ]
  },
  {
   "cell_type": "code",
   "execution_count": 3,
   "id": "30043a8b-355b-413c-89d0-b4341752d9f6",
   "metadata": {},
   "outputs": [
    {
     "name": "stdin",
     "output_type": "stream",
     "text": [
      " 5\n",
      " R R R U D D\n"
     ]
    },
    {
     "name": "stdout",
     "output_type": "stream",
     "text": [
      "3 4\n"
     ]
    }
   ],
   "source": [
    "# 나의 코드\n",
    "\n",
    "N=int(input())\n",
    "data=list(input().split())\n",
    "result=[1,1]\n",
    "\n",
    "for i in data:\n",
    "    if i==\"L\":\n",
    "        if result[1]-1<1:\n",
    "            continue\n",
    "        else:\n",
    "            result[1]-=1\n",
    "    \n",
    "    elif i==\"R\":\n",
    "        if result[1]+1>N:\n",
    "            continue\n",
    "        else:\n",
    "            result[1]+=1\n",
    "            \n",
    "    elif i==\"U\":\n",
    "        if result[0]-1<1:\n",
    "            continue\n",
    "        else:\n",
    "            result[0]-=1\n",
    "            \n",
    "    else:\n",
    "        if result[0]+1>N:\n",
    "            continue\n",
    "        else:\n",
    "            result[0]+=1\n",
    "            \n",
    "print(*result)"
   ]
  },
  {
   "cell_type": "markdown",
   "id": "32703286-b0e6-4b78-a320-7d9c1be83303",
   "metadata": {},
   "source": [
    "#### **(예제 2) 시각**\n",
    "5    \n",
    "11475"
   ]
  },
  {
   "cell_type": "code",
   "execution_count": 13,
   "id": "edf5e1fd-1a7a-4f55-b079-a1477c9e101d",
   "metadata": {},
   "outputs": [
    {
     "name": "stdin",
     "output_type": "stream",
     "text": [
      " 5\n"
     ]
    },
    {
     "name": "stdout",
     "output_type": "stream",
     "text": [
      "11475\n"
     ]
    }
   ],
   "source": [
    "# 나의 코드\n",
    "\n",
    "N=int(input())\n",
    "result=0\n",
    "\n",
    "for i in range(N+1):\n",
    "    for j in range(60):\n",
    "        for k in range(60):\n",
    "            h,m,s=i,j,k\n",
    "            if \"3\" in str(h)+str(m)+str(s):\n",
    "                result+=1\n",
    "                \n",
    "print(result)"
   ]
  },
  {
   "cell_type": "markdown",
   "id": "a4b55375-684c-402c-9978-5e5bb7c5a9e8",
   "metadata": {},
   "source": [
    "#### **(예제 3) 왕실의 나이트**\n",
    "c2    \n",
    "6"
   ]
  },
  {
   "cell_type": "code",
   "execution_count": 21,
   "id": "628d8f45-ffa2-4ba0-ab4d-085b8bfa8cc3",
   "metadata": {},
   "outputs": [
    {
     "name": "stdin",
     "output_type": "stream",
     "text": [
      " c2\n"
     ]
    },
    {
     "name": "stdout",
     "output_type": "stream",
     "text": [
      "6\n"
     ]
    }
   ],
   "source": [
    "# 나의 코드\n",
    "\n",
    "data=input()\n",
    "M=[\"a\",\"b\",\"c\",\"d\",\"e\",\"f\",\"g\",\"h\"]\n",
    "result=0\n",
    "\n",
    "for i in M:\n",
    "    if data[0]==i:\n",
    "        locate=[M.index(i)+1,int(data[1])]\n",
    "        \n",
    "locate_list=[[2,-1],[2,1],[-2,-1],[-2,1],[-1,2],[1,2],[-1,-2],[1,-2]]\n",
    "\n",
    "for k in locate_list:\n",
    "    x=locate[0]+k[0]\n",
    "    y=locate[1]+k[1]\n",
    "    if 0<x<9 and 0<y<9:\n",
    "        result+=1\n",
    "        \n",
    "print(result)"
   ]
  },
  {
   "cell_type": "markdown",
   "id": "5e0b65e8-e9c9-4b28-b893-f28e8792ab93",
   "metadata": {},
   "source": [
    "#### **(예제 4) 게임 개발**\n",
    " 4 4     \n",
    " 1 1 0     \n",
    " 1 1 1 1    \n",
    " 1 0 0 1    \n",
    " 1 1 0 1    \n",
    " 1 1 1 1    \n",
    "3    "
   ]
  },
  {
   "cell_type": "code",
   "execution_count": 26,
   "id": "7dbb3029-cf57-46df-9d1b-948cebe59e9a",
   "metadata": {},
   "outputs": [
    {
     "name": "stdin",
     "output_type": "stream",
     "text": [
      " 4 4\n",
      " 1 1 0\n",
      " 1 1 1 1\n",
      " 1 0 0 1\n",
      " 1 1 0 1\n",
      " 1 1 1 1\n"
     ]
    },
    {
     "name": "stdout",
     "output_type": "stream",
     "text": [
      "3\n"
     ]
    }
   ],
   "source": [
    "# 나의 코드\n",
    "# 답은 맞지만 틀렸음\n",
    "\n",
    "n,m=map(int,input().split())\n",
    "data=[]\n",
    "character=list(map(int,input().split()))\n",
    "x=character[0]\n",
    "y=character[1]\n",
    "direction=character[2]\n",
    "count=1\n",
    "\n",
    "for _ in range(n):\n",
    "    data.append(list(map(int,input().split())))\n",
    "    \n",
    "data[x][y]=1\n",
    "\n",
    "while True:\n",
    "    a=0\n",
    "    # 방향 설정\n",
    "    for i in range(4):\n",
    "        if direction==0:\n",
    "            if 0<=x-1 and data[x-1][y]==0:\n",
    "                x-=1\n",
    "                count+=1\n",
    "                data[x][y]=1\n",
    "                continue\n",
    "            else:\n",
    "                direction=3\n",
    "            \n",
    "        elif direction==3:\n",
    "            if 0<=y-1 and data[x][y-1]==0:\n",
    "                y-=1\n",
    "                count+=1\n",
    "                data[x][y]=1\n",
    "                continue\n",
    "            else:\n",
    "                direction=2\n",
    "                \n",
    "        elif direction==2:\n",
    "            if x+1<n-1 and data[x+1][y]==0:\n",
    "                x+=1\n",
    "                count+=1\n",
    "                data[x][y]=1\n",
    "                continue\n",
    "            else:\n",
    "                direction=1\n",
    "                \n",
    "        else:\n",
    "            if y+1<=m-1 and data[x][y+1]==0:\n",
    "                y+=1\n",
    "                count+=1\n",
    "                data[x][y]=1\n",
    "                continue\n",
    "            else:\n",
    "                direction=0\n",
    "        a+=1 \n",
    "        \n",
    "    if a==4:\n",
    "        break\n",
    "        \n",
    "print(count)\n",
    "        "
   ]
  }
 ],
 "metadata": {
  "kernelspec": {
   "display_name": "Python 3 (ipykernel)",
   "language": "python",
   "name": "python3"
  },
  "language_info": {
   "codemirror_mode": {
    "name": "ipython",
    "version": 3
   },
   "file_extension": ".py",
   "mimetype": "text/x-python",
   "name": "python",
   "nbconvert_exporter": "python",
   "pygments_lexer": "ipython3",
   "version": "3.10.9"
  }
 },
 "nbformat": 4,
 "nbformat_minor": 5
}
