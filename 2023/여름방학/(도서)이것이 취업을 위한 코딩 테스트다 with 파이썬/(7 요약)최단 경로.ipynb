{
 "cells": [
  {
   "cell_type": "markdown",
   "id": "be9af274-4f92-4e05-b7f7-ad142d1efdc0",
   "metadata": {},
   "source": [
    "## **<span style=\"color:blue\">최단 경로</span>** \n",
    "---\n",
    "- 가장 짧은 경로를 찾는 알고리즘 (길 찾기 문제)"
   ]
  },
  {
   "cell_type": "markdown",
   "id": "e2a55b9b-3ced-4872-ba5c-1afa61c18c43",
   "metadata": {},
   "source": [
    "#### **다익스트라 최단 경로 알고리즘**\n",
    "- 그래프에서 여러 노드가 있을 때, 특정한 노드에서 출발하여 다른 노드로 가는 각각의 최단 경로를 구해주는 알고리즘\n",
    "- 음의 간선이 없을 때 정상적으로 동작함\n",
    "- 음의 간선: 0보다 작은 값을 가지는 간선, 현실 세계의 길(간선)은 음의 간선으로 표현되지 않음\n",
    "- 그리디 알고리즘으로 분류됨 (매번 가장 비용이 적은 노드를 선택하기 때문)"
   ]
  },
  {
   "cell_type": "markdown",
   "id": "b00a566d-e8c3-47b5-8724-2b5be36e1b5f",
   "metadata": {},
   "source": [
    "1. 출발 노드를 설정한다.\n",
    "2. 최단 거리 테이블을 초기화한다.\n",
    "3. 방문하지 않은 노드 중에서 최단 거리가 가장 짧은 노드를 선택한다.\n",
    "4. 해당 노드를거쳐 다른 노드로 가는 비용을 계산하여 최단 거리 테이블을 갱신한다.\n",
    "5. 3번과 4번을 반복한다."
   ]
  },
  {
   "cell_type": "markdown",
   "id": "37c5a736-6518-46f4-8777-a629ea52ce73",
   "metadata": {},
   "source": [
    "**방법 1. 간단한 다익스트라 알고리즘**\n",
    "- O(V^2)의 시간 복잡도\n",
    "- V는 노드의 개수\n",
    "- 단계마다 방문하지 않는 노드 중에서 최단 거리가 가장 짧은 노드를 선택하기 위해 매 단계마다 1차원 리스트의 모든 원소를 순차 탐색함"
   ]
  },
  {
   "cell_type": "code",
   "execution_count": 4,
   "id": "321dd826-e39e-410c-b192-82f97c1a10e7",
   "metadata": {},
   "outputs": [
    {
     "data": {
      "text/plain": [
       "' 6 11\\n 1\\n 1 2 2\\n 1 3 5\\n 1 4 1\\n 2 3 3\\n 2 4 2\\n 3 2 3\\n 3 6 5\\n 4 3 3\\n 4 5 1\\n 5 3 1\\n 5 6 2\\n0\\n2\\n3\\n1\\n2\\n4'"
      ]
     },
     "execution_count": 4,
     "metadata": {},
     "output_type": "execute_result"
    }
   ],
   "source": [
    "''' 6 11\n",
    " 1\n",
    " 1 2 2\n",
    " 1 3 5\n",
    " 1 4 1\n",
    " 2 3 3\n",
    " 2 4 2\n",
    " 3 2 3\n",
    " 3 6 5\n",
    " 4 3 3\n",
    " 4 5 1\n",
    " 5 3 1\n",
    " 5 6 2\n",
    "0\n",
    "2\n",
    "3\n",
    "1\n",
    "2\n",
    "4'''"
   ]
  },
  {
   "cell_type": "code",
   "execution_count": 3,
   "id": "0a5c707f-2295-4c8a-8967-fa7ae9d3c974",
   "metadata": {},
   "outputs": [
    {
     "name": "stdin",
     "output_type": "stream",
     "text": [
      " 6 11\n",
      " 1\n",
      " 1 2 2\n",
      " 1 3 5\n",
      " 1 4 1\n",
      " 2 3 3\n",
      " 2 4 2\n",
      " 3 2 3\n",
      " 3 6 5\n",
      " 4 3 3\n",
      " 4 5 1\n",
      " 5 3 1\n",
      " 5 6 2\n"
     ]
    },
    {
     "name": "stdout",
     "output_type": "stream",
     "text": [
      "0\n",
      "2\n",
      "3\n",
      "1\n",
      "2\n",
      "4\n"
     ]
    }
   ],
   "source": [
    "INF=int(1e9) # 무한을 의미하는 값으로 10억을 설정\n",
    "\n",
    "# 노드의 개수, 간선의 개수 입력\n",
    "n,m=map(int,input().split())\n",
    "\n",
    "# 시작 노드 번호\n",
    "start=int(input())\n",
    "\n",
    "# 각 노드에 연결되어 있는 노드에 대한 정보\n",
    "graph=[[]for i in range(n+1)]\n",
    "visited=[False]*(n+1)\n",
    "distance=[INF]*(n+1)\n",
    "\n",
    "# 모든 간선 정보 입력\n",
    "for _ in range(m):\n",
    "    a,b,c=map(int,input().split())\n",
    "    # a번 노드에서 b 번 노드로 가는 비용이 c라는 의미\n",
    "    graph[a].append((b,c))\n",
    "    \n",
    "# 방문하지 않은 노드 중에서, 가장 최단 거리가 짧은 노드의 번호를 반환\n",
    "def get_smallest_node():\n",
    "    min_value=INF\n",
    "    index=0\n",
    "    for i in range(1,n+1):\n",
    "        if distance[i]<min_value and not visited[i]:\n",
    "            min_value=distance[i]\n",
    "            index=i\n",
    "    return index\n",
    "\n",
    "def dijkstra(start):\n",
    "    distance[start]=0\n",
    "    visited[start]=True\n",
    "    for j in graph[start]:\n",
    "        distance[j[0]]=j[1]\n",
    "        \n",
    "    for i in range(n-1):\n",
    "        now=get_smallest_node()\n",
    "        visited[now]=True\n",
    "        \n",
    "        # 현재 노드와 연결된 다른 노드를 확인\n",
    "        for j in graph[now]:\n",
    "            cost=distance[now]+j[1]\n",
    "            \n",
    "            # 현재 노드를 거쳐서 다른 노드로 이동하는 거리가 더 짧은 경우\n",
    "            if cost<distance[j[0]]:\n",
    "                distance[j[0]]=cost\n",
    "                \n",
    "dijkstra(start)\n",
    "\n",
    "# 모든 노드로 가기 위한 최단 거리를 출력\n",
    "for i in range(1,n+1):\n",
    "    if distance[i]==INF:\n",
    "        print(\"INFINITY\")\n",
    "    else:\n",
    "        print(distance[i])"
   ]
  },
  {
   "cell_type": "markdown",
   "id": "a0cbe485-6c35-45b8-bda4-995e9cf990d6",
   "metadata": {},
   "source": [
    "**방법 2. 개선된 다익스트라 알고리즘**\n",
    "- O(ElogV)의 시간 복잡도\n",
    "- V는 노드의 개수, E는 간선의 개수\n",
    "- 힙 자료구조 사용 (우선순위 큐, 최소 힙)\n",
    "- 최단 거리가 가장 짧은 노드를 선택하는 과정을 다익스트라 최단 경로 함수 안에서 우선순위 큐를 이용하는 방식으로 대체"
   ]
  },
  {
   "cell_type": "code",
   "execution_count": 7,
   "id": "715de589-1540-4fef-b834-6e2c4a6bb66d",
   "metadata": {},
   "outputs": [
    {
     "data": {
      "text/plain": [
       "' 6 11\\n 1\\n 1 2 2\\n 1 3 5 \\n 1 4 1\\n 2 3 3\\n 2 4 2\\n 3 2 3\\n 3 6 5\\n 4 3 3\\n 4 5 1\\n 5 3 1\\n 5 6 2\\n0\\n2\\n3\\n1\\n2\\n4'"
      ]
     },
     "execution_count": 7,
     "metadata": {},
     "output_type": "execute_result"
    }
   ],
   "source": [
    "''' 6 11\n",
    " 1\n",
    " 1 2 2\n",
    " 1 3 5 \n",
    " 1 4 1\n",
    " 2 3 3\n",
    " 2 4 2\n",
    " 3 2 3\n",
    " 3 6 5\n",
    " 4 3 3\n",
    " 4 5 1\n",
    " 5 3 1\n",
    " 5 6 2\n",
    "0\n",
    "2\n",
    "3\n",
    "1\n",
    "2\n",
    "4'''"
   ]
  },
  {
   "cell_type": "code",
   "execution_count": 6,
   "id": "d3ff1820-7a6b-4cff-80c1-2fe591e60855",
   "metadata": {},
   "outputs": [
    {
     "name": "stdin",
     "output_type": "stream",
     "text": [
      " 6 11\n",
      " 1\n",
      " 1 2 2\n",
      " 1 3 5 \n",
      " 1 4 1\n",
      " 2 3 3\n",
      " 2 4 2\n",
      " 3 2 3\n",
      " 3 6 5\n",
      " 4 3 3\n",
      " 4 5 1\n",
      " 5 3 1\n",
      " 5 6 2\n"
     ]
    },
    {
     "name": "stdout",
     "output_type": "stream",
     "text": [
      "0\n",
      "2\n",
      "3\n",
      "1\n",
      "2\n",
      "4\n"
     ]
    }
   ],
   "source": [
    "import heapq\n",
    "INF=int(1e9)\n",
    "\n",
    "n,m=map(int,input().split())\n",
    "start=int(input())\n",
    "graph=[[]for i in range(n+1)]\n",
    "distance=[INF]*(n+1)\n",
    "\n",
    "for _ in range(m):\n",
    "    a,b,c,=map(int,input().split())\n",
    "    graph[a].append((b,c))\n",
    "    \n",
    "def dijkstra(start):\n",
    "    q=[]\n",
    "    heapq.heappush(q,(0,start))\n",
    "    distance[start]=0\n",
    "    while q:\n",
    "        dist,now=heapq.heappop(q)\n",
    "        if distance[now]<dist:\n",
    "            continue\n",
    "        for i in graph[now]:\n",
    "            cost=dist+i[1]\n",
    "            \n",
    "            if cost<distance[i[0]]:\n",
    "                distance[i[0]]=cost\n",
    "                heapq.heappush(q,(cost,i[0]))\n",
    "dijkstra(start)\n",
    "\n",
    "for i in range(1,n+1):\n",
    "    if distance[i]==INF:\n",
    "        print(\"INFINITY\")\n",
    "    else:\n",
    "        print(distance[i])"
   ]
  },
  {
   "cell_type": "markdown",
   "id": "dc6918da-132d-403b-9f43-e6b322261158",
   "metadata": {},
   "source": [
    "#### **플로이드 워셜 알고리즘**\n",
    "- 한 지점에서 다른 특정 지점까지의 최단 경로를 구해야 하는 경우\n",
    "- 모든 지점에서 다른 모든 지점까지의 최단 경로를 모두 구해야 하는 경우\n",
    "- O(N^3)의 시간 복잡도\n",
    "- 다이나믹 프로그래밍으로 분류됨\n",
    "- min(바로 가는 경우, 거쳐서 가는 경우)"
   ]
  },
  {
   "cell_type": "code",
   "execution_count": 9,
   "id": "6a726893-45fd-425e-bd84-7c441b4da434",
   "metadata": {},
   "outputs": [
    {
     "data": {
      "text/plain": [
       "' 4\\n 7\\n 1 2 4\\n 1 4 6\\n 2 1 3\\n 2 3 7\\n 3 1 5\\n 3 4 4\\n 4 3 2\\n0 4 8 6 \\n3 0 7 9 \\n5 9 0 4 \\n7 11 2 0 '"
      ]
     },
     "execution_count": 9,
     "metadata": {},
     "output_type": "execute_result"
    }
   ],
   "source": [
    "''' 4\n",
    " 7\n",
    " 1 2 4\n",
    " 1 4 6\n",
    " 2 1 3\n",
    " 2 3 7\n",
    " 3 1 5\n",
    " 3 4 4\n",
    " 4 3 2\n",
    "0 4 8 6 \n",
    "3 0 7 9 \n",
    "5 9 0 4 \n",
    "7 11 2 0 '''"
   ]
  },
  {
   "cell_type": "code",
   "execution_count": 8,
   "id": "f9f1abb8-53cf-49bd-9a86-34fbbd7beb72",
   "metadata": {},
   "outputs": [
    {
     "name": "stdin",
     "output_type": "stream",
     "text": [
      " 4\n",
      " 7\n",
      " 1 2 4\n",
      " 1 4 6\n",
      " 2 1 3\n",
      " 2 3 7\n",
      " 3 1 5\n",
      " 3 4 4\n",
      " 4 3 2\n"
     ]
    },
    {
     "name": "stdout",
     "output_type": "stream",
     "text": [
      "0 4 8 6 \n",
      "3 0 7 9 \n",
      "5 9 0 4 \n",
      "7 11 2 0 \n"
     ]
    }
   ],
   "source": [
    "INF=int(1e9)\n",
    "n=int(input())\n",
    "m=int(input())\n",
    "\n",
    "graph=[[INF]*(n+1) for _ in range(n+1)]\n",
    "\n",
    "# 자기 자신에서 자기 자신으로 가는 비용을 0으로 초기화\n",
    "for a in range(1,n+1):\n",
    "    for b in range(1,n+1):\n",
    "        if a==b:\n",
    "            graph[a][b]=0\n",
    "            \n",
    "# 각 간선에 대한 정보를 입력받아, 그 값으로 초기화\n",
    "for _ in range(m):\n",
    "    a,b,c=map(int,input().split())\n",
    "    graph[a][b]=c\n",
    "    \n",
    "# 점화식에 따라 플로이드 워셜 알고리즘 수행\n",
    "for k in range(1,n+1):\n",
    "    for a in range(1,n+1):\n",
    "        for b in range(1,n+1):\n",
    "            graph[a][b]=min(graph[a][b],graph[a][k]+graph[k][b])\n",
    "            \n",
    "# 결과 출력\n",
    "for a in range(1,n+1):\n",
    "    for b in range(1,n+1):\n",
    "        if graph[a][b]==INF:\n",
    "            print(\"INFINITY\",end=\" \")\n",
    "        else:\n",
    "            print(graph[a][b],end=\" \")\n",
    "    print()"
   ]
  }
 ],
 "metadata": {
  "kernelspec": {
   "display_name": "Python 3 (ipykernel)",
   "language": "python",
   "name": "python3"
  },
  "language_info": {
   "codemirror_mode": {
    "name": "ipython",
    "version": 3
   },
   "file_extension": ".py",
   "mimetype": "text/x-python",
   "name": "python",
   "nbconvert_exporter": "python",
   "pygments_lexer": "ipython3",
   "version": "3.10.9"
  }
 },
 "nbformat": 4,
 "nbformat_minor": 5
}
